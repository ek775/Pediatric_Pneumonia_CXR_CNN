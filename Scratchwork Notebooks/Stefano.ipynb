{
 "cells": [
  {
   "cell_type": "code",
   "execution_count": 9,
   "metadata": {},
   "outputs": [],
   "source": [
    "# General libraries\n",
    "import os\n",
    "import numpy as np\n",
    "import pandas as pd \n",
    "import random\n",
    "import matplotlib.pyplot as plt\n",
    "%matplotlib inline\n",
    "import pathlib\n",
    "import os\n",
    "from PIL import Image\n",
    "import os\n",
    "from skimage import io\n",
    "from matplotlib import cm\n",
    "from mpl_toolkits.axes_grid1 import ImageGrid\n",
    "import math\n",
    "from sklearn.model_selection import train_test_split, cross_val_score\n",
    "from sklearn.preprocessing import OneHotEncoder\n",
    "from sklearn.metrics import accuracy_score, recall_score, confusion_matrix\n",
    "\n",
    "\n",
    "\n",
    "# Deep learning libraries\n",
    "import keras.backend as K\n",
    "from keras.models import Model, Sequential\n",
    "from keras.layers import Input, Dense, Flatten, Dropout, BatchNormalization\n",
    "from keras.layers import Conv2D, SeparableConv2D, MaxPool2D, LeakyReLU, Activation\n",
    "from keras.optimizers import Adam\n",
    "from keras.preprocessing.image import ImageDataGenerator\n",
    "from keras.callbacks import ModelCheckpoint, ReduceLROnPlateau, EarlyStopping\n",
    "import tensorflow as tf\n",
    "from tensorflow.keras import datasets, layers, models\n",
    "\n",
    "\n"
   ]
  },
  {
   "cell_type": "code",
   "execution_count": null,
   "metadata": {},
   "outputs": [],
   "source": []
  },
  {
   "cell_type": "code",
   "execution_count": 10,
   "metadata": {},
   "outputs": [],
   "source": [
    "train_image_binary = ImageDataGenerator(rescale=1/255, zoom_range=0.3, vertical_flip=True,validation_split=.2)\n",
    "test_image_binary = ImageDataGenerator(rescale=1/255)"
   ]
  },
  {
   "cell_type": "code",
   "execution_count": 11,
   "metadata": {},
   "outputs": [],
   "source": [
    "#Image generators for importing data and providing validation split for training\n",
    "train_image = ImageDataGenerator(rescale=1/255,\n",
    "                                 width_shift_range=0.05,\n",
    "                                 height_shift_range=0.05,\n",
    "                                 horizontal_flip=True,\n",
    "                                 shear_range=10,\n",
    "                                 brightness_range=[0.95,1.05],\n",
    "                                 validation_split=.2)\n",
    "\n",
    "#attempting to create validation data set without augmentations applied to the training set\n",
    "#random seed is set upon generation of the data, thus should prevent data leakage\n",
    "validation_image = ImageDataGenerator(rescale=1/255,\n",
    "                                     validation_split=.2)\n",
    "\n",
    "test_image = ImageDataGenerator(rescale=1/255)"
   ]
  },
  {
   "cell_type": "code",
   "execution_count": null,
   "metadata": {},
   "outputs": [],
   "source": []
  },
  {
   "cell_type": "code",
   "execution_count": null,
   "metadata": {},
   "outputs": [],
   "source": []
  },
  {
   "cell_type": "code",
   "execution_count": 12,
   "metadata": {},
   "outputs": [
    {
     "name": "stdout",
     "output_type": "stream",
     "text": [
      "Found 4499 images belonging to 2 classes.\n"
     ]
    }
   ],
   "source": [
    " train_gen_binary = train_image.flow_from_directory(\n",
    "    directory='chest_xray/train', \n",
    "    target_size=(128, 128),color_mode='grayscale',\n",
    "    batch_size=32, \n",
    "    class_mode='categorical', subset='training',interpolation=\"lanczos\",\n",
    "    shuffle=True)"
   ]
  },
  {
   "cell_type": "code",
   "execution_count": 13,
   "metadata": {},
   "outputs": [
    {
     "name": "stdout",
     "output_type": "stream",
     "text": [
      "Found 1123 images belonging to 2 classes.\n"
     ]
    }
   ],
   "source": [
    "val_gen_binary = train_image.flow_from_directory(\n",
    "    directory='chest_xray/train', \n",
    "    target_size=(128, 128),color_mode='grayscale',\n",
    "    batch_size=32, \n",
    "    class_mode='categorical', subset='validation',interpolation=\"lanczos\",\n",
    "    shuffle=True)"
   ]
  },
  {
   "cell_type": "code",
   "execution_count": 14,
   "metadata": {},
   "outputs": [
    {
     "name": "stdout",
     "output_type": "stream",
     "text": [
      "Found 624 images belonging to 2 classes.\n"
     ]
    }
   ],
   "source": [
    "test_gen = test_image.flow_from_directory(\n",
    "    directory='chest_xray/test', \n",
    "    target_size=(128, 128),color_mode='grayscale', \n",
    "    batch_size=32, \n",
    "    class_mode='categorical',interpolation=\"lanczos\",\n",
    "    shuffle=True)"
   ]
  },
  {
   "cell_type": "code",
   "execution_count": 15,
   "metadata": {},
   "outputs": [
    {
     "name": "stdout",
     "output_type": "stream",
     "text": [
      "Found 4186 images belonging to 3 classes.\n"
     ]
    }
   ],
   "source": [
    "#training data processing\n",
    "train_gen_multi = train_image.flow_from_directory(\n",
    "    directory='chest_xray/train_multi_class', \n",
    "    target_size=(128, 128),color_mode='grayscale',\n",
    "    batch_size=32, \n",
    "    class_mode='categorical', subset='training', interpolation=\"lanczos\",\n",
    "    seed=42)"
   ]
  },
  {
   "cell_type": "code",
   "execution_count": 16,
   "metadata": {},
   "outputs": [
    {
     "name": "stdout",
     "output_type": "stream",
     "text": [
      "Found 1045 images belonging to 3 classes.\n"
     ]
    }
   ],
   "source": [
    "val_gen_multi = validation_image.flow_from_directory(\n",
    "    directory='chest_xray/train_multi_class', \n",
    "    target_size=(128, 128),color_mode='grayscale',\n",
    "    batch_size=32, \n",
    "    class_mode='categorical', subset='validation', interpolation=\"lanczos\",\n",
    "    seed=42)"
   ]
  },
  {
   "cell_type": "code",
   "execution_count": null,
   "metadata": {},
   "outputs": [],
   "source": []
  },
  {
   "cell_type": "code",
   "execution_count": 17,
   "metadata": {},
   "outputs": [
    {
     "name": "stdout",
     "output_type": "stream",
     "text": [
      "<tensorflow.python.keras.preprocessing.image.DirectoryIterator object at 0x000001D0637CD0D0>\n",
      "141\n"
     ]
    }
   ],
   "source": [
    "print(train_gen_binary)\n",
    "print(len(train_gen_binary))\n"
   ]
  },
  {
   "cell_type": "code",
   "execution_count": null,
   "metadata": {},
   "outputs": [],
   "source": []
  },
  {
   "cell_type": "code",
   "execution_count": 18,
   "metadata": {},
   "outputs": [
    {
     "data": {
      "text/plain": [
       "<tensorflow.python.keras.preprocessing.image.DirectoryIterator at 0x1d0637cd0d0>"
      ]
     },
     "execution_count": 18,
     "metadata": {},
     "output_type": "execute_result"
    }
   ],
   "source": [
    "train_gen_binary"
   ]
  },
  {
   "cell_type": "code",
   "execution_count": null,
   "metadata": {},
   "outputs": [],
   "source": []
  },
  {
   "cell_type": "code",
   "execution_count": 19,
   "metadata": {},
   "outputs": [
    {
     "data": {
      "text/plain": [
       "(array([[[[0.3921569 ],\n",
       "          [0.4039216 ],\n",
       "          [0.40784317],\n",
       "          ...,\n",
       "          [0.2392157 ],\n",
       "          [0.227451  ],\n",
       "          [0.227451  ]],\n",
       " \n",
       "         [[0.40000004],\n",
       "          [0.41176474],\n",
       "          [0.41960788],\n",
       "          ...,\n",
       "          [0.2392157 ],\n",
       "          [0.227451  ],\n",
       "          [0.227451  ]],\n",
       " \n",
       "         [[0.41176474],\n",
       "          [0.42352945],\n",
       "          [0.43137258],\n",
       "          ...,\n",
       "          [0.2392157 ],\n",
       "          [0.227451  ],\n",
       "          [0.227451  ]],\n",
       " \n",
       "         ...,\n",
       " \n",
       "         [[0.07843138],\n",
       "          [0.07843138],\n",
       "          [0.09019608],\n",
       "          ...,\n",
       "          [0.07450981],\n",
       "          [0.07843138],\n",
       "          [0.08235294]],\n",
       " \n",
       "         [[0.07843138],\n",
       "          [0.07843138],\n",
       "          [0.09019608],\n",
       "          ...,\n",
       "          [0.07450981],\n",
       "          [0.08235294],\n",
       "          [0.08235294]],\n",
       " \n",
       "         [[0.07843138],\n",
       "          [0.07843138],\n",
       "          [0.09019608],\n",
       "          ...,\n",
       "          [0.07843138],\n",
       "          [0.07843138],\n",
       "          [0.07843138]]],\n",
       " \n",
       " \n",
       "        [[[0.30980393],\n",
       "          [0.3137255 ],\n",
       "          [0.31764707],\n",
       "          ...,\n",
       "          [0.14901961],\n",
       "          [0.14901961],\n",
       "          [0.14901961]],\n",
       " \n",
       "         [[0.3137255 ],\n",
       "          [0.30980393],\n",
       "          [0.31764707],\n",
       "          ...,\n",
       "          [0.14901961],\n",
       "          [0.14901961],\n",
       "          [0.14901961]],\n",
       " \n",
       "         [[0.30588236],\n",
       "          [0.3137255 ],\n",
       "          [0.32156864],\n",
       "          ...,\n",
       "          [0.17254902],\n",
       "          [0.16862746],\n",
       "          [0.16862746]],\n",
       " \n",
       "         ...,\n",
       " \n",
       "         [[0.09411766],\n",
       "          [0.13333334],\n",
       "          [0.1764706 ],\n",
       "          ...,\n",
       "          [0.24705884],\n",
       "          [0.24705884],\n",
       "          [0.24705884]],\n",
       " \n",
       "         [[0.09411766],\n",
       "          [0.13333334],\n",
       "          [0.1764706 ],\n",
       "          ...,\n",
       "          [0.24705884],\n",
       "          [0.24705884],\n",
       "          [0.24705884]],\n",
       " \n",
       "         [[0.09411766],\n",
       "          [0.13333334],\n",
       "          [0.1764706 ],\n",
       "          ...,\n",
       "          [0.24705884],\n",
       "          [0.24705884],\n",
       "          [0.24705884]]],\n",
       " \n",
       " \n",
       "        [[[0.54509807],\n",
       "          [0.54509807],\n",
       "          [0.52156866],\n",
       "          ...,\n",
       "          [0.24705884],\n",
       "          [0.21960786],\n",
       "          [0.18823531]],\n",
       " \n",
       "         [[0.5411765 ],\n",
       "          [0.52156866],\n",
       "          [0.45882356],\n",
       "          ...,\n",
       "          [0.24705884],\n",
       "          [0.21960786],\n",
       "          [0.18823531]],\n",
       " \n",
       "         [[0.50980395],\n",
       "          [0.44705886],\n",
       "          [0.3803922 ],\n",
       "          ...,\n",
       "          [0.24705884],\n",
       "          [0.21960786],\n",
       "          [0.18823531]],\n",
       " \n",
       "         ...,\n",
       " \n",
       "         [[0.1764706 ],\n",
       "          [0.25490198],\n",
       "          [0.31764707],\n",
       "          ...,\n",
       "          [0.07450981],\n",
       "          [0.07843138],\n",
       "          [0.07843138]],\n",
       " \n",
       "         [[0.1764706 ],\n",
       "          [0.25490198],\n",
       "          [0.31764707],\n",
       "          ...,\n",
       "          [0.07058824],\n",
       "          [0.07450981],\n",
       "          [0.07843138]],\n",
       " \n",
       "         [[0.1764706 ],\n",
       "          [0.25490198],\n",
       "          [0.31764707],\n",
       "          ...,\n",
       "          [0.07058824],\n",
       "          [0.07450981],\n",
       "          [0.07450981]]],\n",
       " \n",
       " \n",
       "        ...,\n",
       " \n",
       " \n",
       "        [[[0.5058824 ],\n",
       "          [0.5058824 ],\n",
       "          [0.5019608 ],\n",
       "          ...,\n",
       "          [0.22352943],\n",
       "          [0.227451  ],\n",
       "          [0.227451  ]],\n",
       " \n",
       "         [[0.5058824 ],\n",
       "          [0.5058824 ],\n",
       "          [0.5019608 ],\n",
       "          ...,\n",
       "          [0.24313727],\n",
       "          [0.24705884],\n",
       "          [0.2509804 ]],\n",
       " \n",
       "         [[0.5058824 ],\n",
       "          [0.5137255 ],\n",
       "          [0.50980395],\n",
       "          ...,\n",
       "          [0.28235295],\n",
       "          [0.2901961 ],\n",
       "          [0.29411766]],\n",
       " \n",
       "         ...,\n",
       " \n",
       "         [[0.5254902 ],\n",
       "          [0.6509804 ],\n",
       "          [0.69411767],\n",
       "          ...,\n",
       "          [0.29411766],\n",
       "          [0.29411766],\n",
       "          [0.29411766]],\n",
       " \n",
       "         [[0.52156866],\n",
       "          [0.6509804 ],\n",
       "          [0.6901961 ],\n",
       "          ...,\n",
       "          [0.29411766],\n",
       "          [0.29411766],\n",
       "          [0.29411766]],\n",
       " \n",
       "         [[0.5176471 ],\n",
       "          [0.6509804 ],\n",
       "          [0.68235296],\n",
       "          ...,\n",
       "          [0.29411766],\n",
       "          [0.29411766],\n",
       "          [0.29411766]]],\n",
       " \n",
       " \n",
       "        [[[0.02745098],\n",
       "          [0.00784314],\n",
       "          [0.        ],\n",
       "          ...,\n",
       "          [0.        ],\n",
       "          [0.        ],\n",
       "          [0.        ]],\n",
       " \n",
       "         [[0.02745098],\n",
       "          [0.01176471],\n",
       "          [0.        ],\n",
       "          ...,\n",
       "          [0.        ],\n",
       "          [0.        ],\n",
       "          [0.        ]],\n",
       " \n",
       "         [[0.        ],\n",
       "          [0.        ],\n",
       "          [0.        ],\n",
       "          ...,\n",
       "          [0.        ],\n",
       "          [0.        ],\n",
       "          [0.        ]],\n",
       " \n",
       "         ...,\n",
       " \n",
       "         [[0.        ],\n",
       "          [0.        ],\n",
       "          [0.        ],\n",
       "          ...,\n",
       "          [0.04313726],\n",
       "          [0.02352941],\n",
       "          [0.00392157]],\n",
       " \n",
       "         [[0.        ],\n",
       "          [0.        ],\n",
       "          [0.        ],\n",
       "          ...,\n",
       "          [0.27058825],\n",
       "          [0.18431373],\n",
       "          [0.15294118]],\n",
       " \n",
       "         [[0.        ],\n",
       "          [0.        ],\n",
       "          [0.        ],\n",
       "          ...,\n",
       "          [0.5058824 ],\n",
       "          [0.34509805],\n",
       "          [0.42352945]]],\n",
       " \n",
       " \n",
       "        [[[0.12941177],\n",
       "          [0.14901961],\n",
       "          [0.16470589],\n",
       "          ...,\n",
       "          [0.13725491],\n",
       "          [0.09411766],\n",
       "          [0.10196079]],\n",
       " \n",
       "         [[0.12941177],\n",
       "          [0.14901961],\n",
       "          [0.16470589],\n",
       "          ...,\n",
       "          [0.10196079],\n",
       "          [0.09803922],\n",
       "          [0.10588236]],\n",
       " \n",
       "         [[0.12941177],\n",
       "          [0.14901961],\n",
       "          [0.16470589],\n",
       "          ...,\n",
       "          [0.09411766],\n",
       "          [0.09411766],\n",
       "          [0.09019608]],\n",
       " \n",
       "         ...,\n",
       " \n",
       "         [[0.        ],\n",
       "          [0.        ],\n",
       "          [0.        ],\n",
       "          ...,\n",
       "          [0.        ],\n",
       "          [0.        ],\n",
       "          [0.        ]],\n",
       " \n",
       "         [[0.        ],\n",
       "          [0.        ],\n",
       "          [0.        ],\n",
       "          ...,\n",
       "          [0.        ],\n",
       "          [0.        ],\n",
       "          [0.        ]],\n",
       " \n",
       "         [[0.        ],\n",
       "          [0.        ],\n",
       "          [0.        ],\n",
       "          ...,\n",
       "          [0.        ],\n",
       "          [0.        ],\n",
       "          [0.        ]]]], dtype=float32),\n",
       " array([[0., 1.],\n",
       "        [0., 1.],\n",
       "        [0., 1.],\n",
       "        [0., 1.],\n",
       "        [0., 1.],\n",
       "        [0., 1.],\n",
       "        [1., 0.],\n",
       "        [0., 1.],\n",
       "        [0., 1.],\n",
       "        [0., 1.],\n",
       "        [0., 1.],\n",
       "        [0., 1.],\n",
       "        [0., 1.],\n",
       "        [0., 1.],\n",
       "        [0., 1.],\n",
       "        [0., 1.],\n",
       "        [0., 1.],\n",
       "        [0., 1.],\n",
       "        [0., 1.],\n",
       "        [0., 1.],\n",
       "        [0., 1.],\n",
       "        [0., 1.],\n",
       "        [0., 1.],\n",
       "        [1., 0.],\n",
       "        [0., 1.],\n",
       "        [0., 1.],\n",
       "        [0., 1.],\n",
       "        [0., 1.],\n",
       "        [0., 1.],\n",
       "        [0., 1.],\n",
       "        [0., 1.],\n",
       "        [0., 1.]], dtype=float32))"
      ]
     },
     "execution_count": 19,
     "metadata": {},
     "output_type": "execute_result"
    }
   ],
   "source": [
    "train_gen_binary[0]"
   ]
  },
  {
   "cell_type": "code",
   "execution_count": 20,
   "metadata": {},
   "outputs": [
    {
     "name": "stdout",
     "output_type": "stream",
     "text": [
      "x:  <class 'numpy.ndarray'>\n",
      "y:  <class 'numpy.ndarray'>\n",
      "x:  (32, 128, 128, 1)\n",
      "y:  (32, 2)\n"
     ]
    }
   ],
   "source": [
    "X,y = next(train_gen_binary)\n",
    "print('x: ',type(X))\n",
    "print('y: ',type(y))\n",
    "print('x: ',X.shape)\n",
    "print('y: ',y.shape)\n"
   ]
  },
  {
   "cell_type": "code",
   "execution_count": null,
   "metadata": {},
   "outputs": [],
   "source": []
  },
  {
   "cell_type": "code",
   "execution_count": null,
   "metadata": {},
   "outputs": [],
   "source": []
  },
  {
   "cell_type": "code",
   "execution_count": 46,
   "metadata": {
    "scrolled": true
   },
   "outputs": [
    {
     "name": "stdout",
     "output_type": "stream",
     "text": [
      "Epoch 1/2\n",
      "141/141 [==============================] - 314s 2s/step - loss: 0.3369 - accuracy: 0.8489 - val_loss: 0.1843 - val_accuracy: 0.9359\n",
      "Epoch 2/2\n",
      "141/141 [==============================] - 204s 1s/step - loss: 0.2043 - accuracy: 0.9149 - val_loss: 0.1516 - val_accuracy: 0.9341\n"
     ]
    }
   ],
   "source": [
    "model_binary = models.Sequential()\n",
    "model_binary.add(layers.Conv2D(filters=10,\n",
    "                        kernel_size=(3, 3),\n",
    "                        activation='swish',\n",
    "                        input_shape=(128, 128, 1)))\n",
    "model_binary.add(layers.MaxPooling2D(pool_size=(2, 2)))\n",
    "model_binary.add(layers.Conv2D(64, (3, 3), activation='swish'))\n",
    "model_binary.add(layers.MaxPooling2D((2, 2)))\n",
    "model_binary.add(layers.Conv2D(32, (3, 3), activation='swish'))\n",
    "model_binary.add(layers.Flatten())\n",
    "model_binary.add(layers.Dense(16, activation='swish'))\n",
    "model_binary.add(layers.Dense(2, activation='sigmoid'))\n",
    "\n",
    "model_binary.compile(optimizer='adam',\n",
    "              loss='binary_crossentropy',\n",
    "              metrics=['accuracy'])\n",
    "\n",
    "results_binary = model_binary.fit(train_gen_binary,epochs=30, batch_size=32,validation_data=val_gen_binary)"
   ]
  },
  {
   "cell_type": "code",
   "execution_count": null,
   "metadata": {},
   "outputs": [],
   "source": []
  },
  {
   "cell_type": "code",
   "execution_count": 47,
   "metadata": {},
   "outputs": [
    {
     "name": "stdout",
     "output_type": "stream",
     "text": [
      "Epoch 1/2\n",
      "141/141 [==============================] - 125s 884ms/step - loss: 0.1760 - accuracy: 0.9313 - val_loss: 0.1701 - val_accuracy: 0.9207\n",
      "Epoch 2/2\n",
      "141/141 [==============================] - 193s 1s/step - loss: 0.1703 - accuracy: 0.9324 - val_loss: 0.1254 - val_accuracy: 0.9528\n"
     ]
    }
   ],
   "source": [
    "model_b_recall = models.Sequential()\n",
    "model_b_recall.add(layers.Conv2D(filters=10,\n",
    "                        kernel_size=(3, 3),\n",
    "                        activation='swish',\n",
    "                        input_shape=(128, 128, 1)))\n",
    "model_b_recall.add(layers.MaxPooling2D(pool_size=(2, 2)))\n",
    "model_b_recall.add(layers.Conv2D(64, (3, 3), activation='swish'))\n",
    "model_b_recall.add(layers.MaxPooling2D((2, 2)))\n",
    "model_b_recall.add(layers.Conv2D(32, (3, 3), activation='swish'))\n",
    "model_b_recall.add(layers.Flatten())\n",
    "model_b_recall.add(layers.Dense(16, activation='swish'))\n",
    "model_b_recall.add(layers.Dense(2, activation='sigmoid'))\n",
    "\n",
    "model_b_recall.compile(optimizer='adam',\n",
    "              loss='binary_crossentropy',\n",
    "              metrics=['recall'])\n",
    "\n",
    "results_binary_recall = model_binary.fit(train_gen_binary,epochs=30, validation_data=val_gen_binary)"
   ]
  },
  {
   "cell_type": "code",
   "execution_count": null,
   "metadata": {},
   "outputs": [],
   "source": []
  },
  {
   "cell_type": "code",
   "execution_count": 48,
   "metadata": {},
   "outputs": [
    {
     "name": "stdout",
     "output_type": "stream",
     "text": [
      "Epoch 1/2\n",
      "131/131 [==============================] - 232s 2s/step - loss: 0.9489 - accuracy: 0.5645 - auc: 0.7244 - val_loss: 0.6681 - val_accuracy: 0.6909 - val_auc: 0.8783\n",
      "Epoch 2/2\n",
      "131/131 [==============================] - 300s 2s/step - loss: 0.7251 - accuracy: 0.6725 - auc: 0.8485 - val_loss: 0.6147 - val_accuracy: 0.7474 - val_auc: 0.9020\n"
     ]
    }
   ],
   "source": [
    "\n",
    "#Multi class model with 3 classes normal,p\n",
    "#Went too deep - trying new activation function in hidden layers\n",
    "model0 = models.Sequential()\n",
    "\n",
    "#input layer\n",
    "model0.add(layers.Conv2D(filters=10,\n",
    "                        kernel_size=(20, 20),\n",
    "                        activation='relu',\n",
    "                        input_shape=(128, 128, 1)))\n",
    "model0.add(layers.MaxPooling2D(pool_size=(2, 2)))\n",
    "\n",
    "#hidden layers\n",
    "model0.add(layers.Conv2D(64, (2, 2), activation='swish'))\n",
    "model0.add(layers.MaxPooling2D((2, 2)))\n",
    "model0.add(layers.Conv2D(32, (2, 2), activation='swish'))\n",
    "model0.add(layers.Flatten())\n",
    "model0.add(layers.Dense(32, activation='swish'))\n",
    "model0.add(layers.Dense(16, activation='swish'))\n",
    "model0.add(layers.Dense(12, activation='swish'))\n",
    "model0.add(layers.Dense(8, activation='swish'))\n",
    "\n",
    "#output layer\n",
    "model0.add(layers.Dense(3, activation='softmax'))\n",
    "\n",
    "#compile and compute\n",
    "model0.compile(optimizer='adam',\n",
    "              loss='categorical_crossentropy',\n",
    "              metrics=['accuracy', 'AUC'])\n",
    "#creating a save file for this model # comement out b/c lack of storage\n",
    "#model_checkpoint_callback = ModelCheckpoint(filepath=\"./Checkpoints\",\n",
    "                                           #save_weights_only=True,\n",
    "                                          # monitor='val_accuracy',\n",
    "                                           #mode='max',\n",
    "                                          # save_best_only=True)\n",
    "\n",
    "multi_class_model = model0.fit(train_gen_multi, epochs=50, validation_data=val_gen_multi)#, callbacks=model_checkpoint_callback)\n"
   ]
  },
  {
   "cell_type": "code",
   "execution_count": null,
   "metadata": {},
   "outputs": [],
   "source": []
  },
  {
   "cell_type": "code",
   "execution_count": 49,
   "metadata": {},
   "outputs": [
    {
     "data": {
      "text/plain": [
       "{'validation_data': None,\n",
       " 'model': <tensorflow.python.keras.engine.sequential.Sequential at 0x1d00425d160>,\n",
       " '_chief_worker_only': None,\n",
       " '_supports_tf_logs': False,\n",
       " 'history': {'loss': [0.3368948698043823, 0.2043466866016388],\n",
       "  'accuracy': [0.8488553166389465, 0.9148699641227722],\n",
       "  'val_loss': [0.1843169778585434, 0.1515919417142868],\n",
       "  'val_accuracy': [0.935886025428772, 0.9341050982475281]},\n",
       " 'params': {'verbose': 1, 'epochs': 2, 'steps': 141},\n",
       " 'epoch': [0, 1]}"
      ]
     },
     "execution_count": 49,
     "metadata": {},
     "output_type": "execute_result"
    }
   ],
   "source": [
    "results_binary.__dict__"
   ]
  },
  {
   "cell_type": "code",
   "execution_count": 50,
   "metadata": {},
   "outputs": [
    {
     "data": {
      "text/plain": [
       "{'validation_data': None,\n",
       " 'model': <tensorflow.python.keras.engine.sequential.Sequential at 0x1d00425d160>,\n",
       " '_chief_worker_only': None,\n",
       " '_supports_tf_logs': False,\n",
       " 'history': {'loss': [0.17601071298122406, 0.1703009456396103],\n",
       "  'accuracy': [0.9313180446624756, 0.9324294328689575],\n",
       "  'val_loss': [0.17006134986877441, 0.1253504753112793],\n",
       "  'val_accuracy': [0.9207479953765869, 0.9528049826622009]},\n",
       " 'params': {'verbose': 1, 'epochs': 2, 'steps': 141},\n",
       " 'epoch': [0, 1]}"
      ]
     },
     "execution_count": 50,
     "metadata": {},
     "output_type": "execute_result"
    }
   ],
   "source": [
    "results_binary_recall.__dict__"
   ]
  },
  {
   "cell_type": "code",
   "execution_count": 51,
   "metadata": {},
   "outputs": [
    {
     "data": {
      "text/plain": [
       "{'validation_data': None,\n",
       " 'model': <tensorflow.python.keras.engine.sequential.Sequential at 0x1d004737640>,\n",
       " '_chief_worker_only': None,\n",
       " '_supports_tf_logs': False,\n",
       " 'history': {'loss': [0.9488559365272522, 0.7251315116882324],\n",
       "  'accuracy': [0.5645006895065308, 0.6724796891212463],\n",
       "  'auc': [0.7244207262992859, 0.8485280275344849],\n",
       "  'val_loss': [0.6680608987808228, 0.6146964430809021],\n",
       "  'val_accuracy': [0.6909090876579285, 0.7473683953285217],\n",
       "  'val_auc': [0.8783015608787537, 0.9020271897315979]},\n",
       " 'params': {'verbose': 1, 'epochs': 2, 'steps': 131},\n",
       " 'epoch': [0, 1]}"
      ]
     },
     "execution_count": 51,
     "metadata": {},
     "output_type": "execute_result"
    }
   ],
   "source": [
    "multi_class_model.__dict__"
   ]
  },
  {
   "cell_type": "code",
   "execution_count": null,
   "metadata": {},
   "outputs": [],
   "source": []
  },
  {
   "cell_type": "code",
   "execution_count": 52,
   "metadata": {},
   "outputs": [
    {
     "data": {
      "image/png": "[encoded data removed]",
      "text/plain": [
       "<Figure size 720x360 with 2 Axes>"
      ]
     },
     "metadata": {
      "needs_background": "light"
     },
     "output_type": "display_data"
    }
   ],
   "source": [
    "import seaborn as sns\n",
    "\n",
    "train_loss_binary = results_binary.history['loss']\n",
    "train_acc_binary = results_binary.history['accuracy']\n",
    "val_loss_binary = results_binary.history['val_loss']\n",
    "val_acc_binary = results_binary.history['val_accuracy']\n",
    "\n",
    "\n",
    "fig, (ax1, ax2) = plt.subplots(1, 2, figsize=(10, 5))\n",
    "sns.lineplot(x=results_binary.epoch, y=train_loss_binary, ax=ax1, label='train_loss_binary')\n",
    "sns.lineplot(x=results_binary.epoch, y=train_acc_binary, ax=ax2, label='train_acc_binary')\n",
    "\n",
    "sns.lineplot(x=results_binary.epoch, y=val_loss_binary, ax=ax1, label='val_loss_binary')\n",
    "sns.lineplot(x=results_binary.epoch, y=val_acc_binary, ax=ax2, label='val_acc_binary');"
   ]
  },
  {
   "cell_type": "code",
   "execution_count": 53,
   "metadata": {},
   "outputs": [
    {
     "data": {
      "image/png": "[encoded data removed]",
      "text/plain": [
       "<Figure size 720x360 with 2 Axes>"
      ]
     },
     "metadata": {
      "needs_background": "light"
     },
     "output_type": "display_data"
    }
   ],
   "source": [
    "import seaborn as sns\n",
    "\n",
    "train_loss_binary_r = results_binary_recall.history['loss']\n",
    "train_recall_binary_r = results_binary_recall.history['accuracy']\n",
    "val_loss_binary_r = results_binary_recall.history['val_loss']\n",
    "val_recall_binary_r = results_binary_recall.history['val_accuracy']\n",
    "\n",
    "\n",
    "fig, (ax1, ax2) = plt.subplots(1, 2, figsize=(10, 5))\n",
    "sns.lineplot(x=results_binary_recall.epoch, y=train_loss_binary_r, ax=ax1, label='train_loss_binary_r')\n",
    "sns.lineplot(x=results_binary_recall.epoch, y=train_recall_binary_r, ax=ax2, label='train_recall_binary_r')\n",
    "\n",
    "sns.lineplot(x=results_binary_recall.epoch, y=val_loss_binary_r, ax=ax1, label='val_loss_binary_r')\n",
    "sns.lineplot(x=results_binary_recall.epoch, y=val_recall_binary_r, ax=ax2, label='val_recall_binary_r');"
   ]
  },
  {
   "cell_type": "code",
   "execution_count": 54,
   "metadata": {},
   "outputs": [
    {
     "data": {
      "image/png": "[encoded data removed]",
      "text/plain": [
       "<Figure size 720x360 with 2 Axes>"
      ]
     },
     "metadata": {
      "needs_background": "light"
     },
     "output_type": "display_data"
    }
   ],
   "source": [
    "#import seaborn as sns\n",
    "\n",
    "train_loss_multi = multi_class_model.history['loss']\n",
    "train_acc_multi = multi_class_model.history['accuracy']\n",
    "val_loss_multi = multi_class_model.history['val_loss']\n",
    "val_acc_multi = multi_class_model.history['val_accuracy']\n",
    "\n",
    "\n",
    "fig, (ax1, ax2) = plt.subplots(1, 2, figsize=(10, 5))\n",
    "sns.lineplot(x=multi_class_model.epoch, y=train_loss_multi, ax=ax1, label='train_loss_multi')\n",
    "sns.lineplot(x=multi_class_model.epoch, y=train_acc_multi, ax=ax2, label='train_acc_multi')\n",
    "\n",
    "sns.lineplot(x=multi_class_model.epoch, y=val_loss_multi, ax=ax1, label='val_loss_multi')\n",
    "sns.lineplot(x=multi_class_model.epoch, y=val_acc_multi, ax=ax2, label='val_acc_multi');"
   ]
  },
  {
   "cell_type": "code",
   "execution_count": null,
   "metadata": {},
   "outputs": [],
   "source": []
  },
  {
   "cell_type": "code",
   "execution_count": 55,
   "metadata": {},
   "outputs": [
    {
     "ename": "AttributeError",
     "evalue": "'History' object has no attribute 'evaluate'",
     "output_type": "error",
     "traceback": [
      "\u001b[1;31m---------------------------------------------------------------------------\u001b[0m",
      "\u001b[1;31mAttributeError\u001b[0m                            Traceback (most recent call last)",
      "\u001b[1;32m<ipython-input-55-49aa56be919f>\u001b[0m in \u001b[0;36m<module>\u001b[1;34m\u001b[0m\n\u001b[1;32m----> 1\u001b[1;33m \u001b[0mtest_loss_recall\u001b[0m\u001b[1;33m,\u001b[0m \u001b[0mtest_acc_recall\u001b[0m \u001b[1;33m=\u001b[0m \u001b[0mresults_binary_recall\u001b[0m\u001b[1;33m.\u001b[0m\u001b[0mevaluate\u001b[0m\u001b[1;33m(\u001b[0m\u001b[0mtest_gen\u001b[0m\u001b[1;33m[\u001b[0m\u001b[1;36m0\u001b[0m\u001b[1;33m]\u001b[0m\u001b[1;33m,\u001b[0m \u001b[0mtest_gen\u001b[0m\u001b[1;33m[\u001b[0m\u001b[1;36m1\u001b[0m\u001b[1;33m]\u001b[0m\u001b[1;33m)\u001b[0m\u001b[1;33m\u001b[0m\u001b[1;33m\u001b[0m\u001b[0m\n\u001b[0m",
      "\u001b[1;31mAttributeError\u001b[0m: 'History' object has no attribute 'evaluate'"
     ]
    }
   ],
   "source": [
    "test_loss_recall, test_acc_recall = results_binary_recall.evaluate(test_gen[0], test_gen[1])"
   ]
  },
  {
   "cell_type": "code",
   "execution_count": 52,
   "metadata": {
    "collapsed": true
   },
   "outputs": [
    {
     "ename": "AttributeError",
     "evalue": "'History' object has no attribute 'evaluate'",
     "output_type": "error",
     "traceback": [
      "\u001b[1;31m---------------------------------------------------------------------------\u001b[0m",
      "\u001b[1;31mAttributeError\u001b[0m                            Traceback (most recent call last)",
      "\u001b[1;32m<ipython-input-52-eb30fabaa00a>\u001b[0m in \u001b[0;36m<module>\u001b[1;34m\u001b[0m\n\u001b[1;32m----> 1\u001b[1;33m \u001b[0mtest_loss_binary\u001b[0m\u001b[1;33m,\u001b[0m \u001b[0mtest_acc_binary\u001b[0m \u001b[1;33m=\u001b[0m \u001b[0mresults_binary\u001b[0m\u001b[1;33m.\u001b[0m\u001b[0mevaluate\u001b[0m\u001b[1;33m(\u001b[0m\u001b[0mtest_gen_binary\u001b[0m\u001b[1;33m[\u001b[0m\u001b[1;36m0\u001b[0m\u001b[1;33m]\u001b[0m\u001b[1;33m,\u001b[0m \u001b[0mtest_gen_binary\u001b[0m\u001b[1;33m[\u001b[0m\u001b[1;36m1\u001b[0m\u001b[1;33m]\u001b[0m\u001b[1;33m)\u001b[0m\u001b[1;33m\u001b[0m\u001b[1;33m\u001b[0m\u001b[0m\n\u001b[0m",
      "\u001b[1;31mAttributeError\u001b[0m: 'History' object has no attribute 'evaluate'"
     ]
    }
   ],
   "source": [
    "test_loss_binary, test_acc_binary = results_binary.evaluate(test_gen[0], test_gen[1])"
   ]
  },
  {
   "cell_type": "code",
   "execution_count": null,
   "metadata": {},
   "outputs": [],
   "source": [
    "test_loss_multi, test_acc_multi = multi_class_model.evaluate(test_gen[0], test_gen[1])"
   ]
  },
  {
   "cell_type": "code",
   "execution_count": null,
   "metadata": {},
   "outputs": [],
   "source": []
  },
  {
   "cell_type": "code",
   "execution_count": 45,
   "metadata": {},
   "outputs": [
    {
     "ename": "AttributeError",
     "evalue": "'History' object has no attribute 'predict'",
     "output_type": "error",
     "traceback": [
      "\u001b[1;31m---------------------------------------------------------------------------\u001b[0m",
      "\u001b[1;31mAttributeError\u001b[0m                            Traceback (most recent call last)",
      "\u001b[1;32m<ipython-input-45-eef920d6a614>\u001b[0m in \u001b[0;36m<module>\u001b[1;34m\u001b[0m\n\u001b[1;32m----> 1\u001b[1;33m \u001b[0mresults_binary\u001b[0m\u001b[1;33m.\u001b[0m\u001b[0mpredict\u001b[0m\u001b[1;33m(\u001b[0m\u001b[0mtest_gen_binary\u001b[0m\u001b[1;33m[\u001b[0m\u001b[1;36m0\u001b[0m\u001b[1;33m]\u001b[0m\u001b[1;33m)\u001b[0m\u001b[1;33m\u001b[0m\u001b[1;33m\u001b[0m\u001b[0m\n\u001b[0m",
      "\u001b[1;31mAttributeError\u001b[0m: 'History' object has no attribute 'predict'"
     ]
    }
   ],
   "source": [
    "results_binary.predict(test_gen_binary[0])"
   ]
  },
  {
   "cell_type": "code",
   "execution_count": 48,
   "metadata": {
    "collapsed": true
   },
   "outputs": [
    {
     "ename": "AttributeError",
     "evalue": "'History' object has no attribute 'predict'",
     "output_type": "error",
     "traceback": [
      "\u001b[1;31m---------------------------------------------------------------------------\u001b[0m",
      "\u001b[1;31mAttributeError\u001b[0m                            Traceback (most recent call last)",
      "\u001b[1;32m<ipython-input-48-a1f8d0941696>\u001b[0m in \u001b[0;36m<module>\u001b[1;34m\u001b[0m\n\u001b[1;32m----> 1\u001b[1;33m \u001b[0mresults_binary_recall\u001b[0m\u001b[1;33m.\u001b[0m\u001b[0mpredict\u001b[0m\u001b[1;33m(\u001b[0m\u001b[0mtest_gen\u001b[0m\u001b[1;33m[\u001b[0m\u001b[1;36m0\u001b[0m\u001b[1;33m]\u001b[0m\u001b[1;33m)\u001b[0m\u001b[1;33m\u001b[0m\u001b[1;33m\u001b[0m\u001b[0m\n\u001b[0m",
      "\u001b[1;31mAttributeError\u001b[0m: 'History' object has no attribute 'predict'"
     ]
    }
   ],
   "source": [
    "results_binary_recall.predict(test_gen[0])"
   ]
  },
  {
   "cell_type": "code",
   "execution_count": null,
   "metadata": {},
   "outputs": [],
   "source": [
    "results_.predict(test_gen[0])"
   ]
  },
  {
   "cell_type": "code",
   "execution_count": null,
   "metadata": {},
   "outputs": [],
   "source": []
  },
  {
   "cell_type": "code",
   "execution_count": null,
   "metadata": {},
   "outputs": [],
   "source": [
    "print(test_acc_binary)"
   ]
  },
  {
   "cell_type": "code",
   "execution_count": null,
   "metadata": {},
   "outputs": [],
   "source": [
    "print(test_acc_recall)"
   ]
  },
  {
   "cell_type": "code",
   "execution_count": null,
   "metadata": {},
   "outputs": [],
   "source": [
    "print(test_acc_multi)"
   ]
  },
  {
   "cell_type": "code",
   "execution_count": 53,
   "metadata": {
    "collapsed": true
   },
   "outputs": [
    {
     "ename": "AttributeError",
     "evalue": "'History' object has no attribute 'summary'",
     "output_type": "error",
     "traceback": [
      "\u001b[1;31m---------------------------------------------------------------------------\u001b[0m",
      "\u001b[1;31mAttributeError\u001b[0m                            Traceback (most recent call last)",
      "\u001b[1;32m<ipython-input-53-9488704f81fc>\u001b[0m in \u001b[0;36m<module>\u001b[1;34m\u001b[0m\n\u001b[1;32m----> 1\u001b[1;33m \u001b[0mresults_binary\u001b[0m\u001b[1;33m.\u001b[0m\u001b[0msummary\u001b[0m\u001b[1;33m(\u001b[0m\u001b[1;33m)\u001b[0m\u001b[1;33m\u001b[0m\u001b[1;33m\u001b[0m\u001b[0m\n\u001b[0m",
      "\u001b[1;31mAttributeError\u001b[0m: 'History' object has no attribute 'summary'"
     ]
    }
   ],
   "source": [
    "results_binary.summary()"
   ]
  },
  {
   "cell_type": "code",
   "execution_count": 54,
   "metadata": {
    "collapsed": true
   },
   "outputs": [
    {
     "ename": "AttributeError",
     "evalue": "'History' object has no attribute 'summary'",
     "output_type": "error",
     "traceback": [
      "\u001b[1;31m---------------------------------------------------------------------------\u001b[0m",
      "\u001b[1;31mAttributeError\u001b[0m                            Traceback (most recent call last)",
      "\u001b[1;32m<ipython-input-54-1216f5443706>\u001b[0m in \u001b[0;36m<module>\u001b[1;34m\u001b[0m\n\u001b[1;32m----> 1\u001b[1;33m \u001b[0mresults_binary_recall\u001b[0m\u001b[1;33m.\u001b[0m\u001b[0msummary\u001b[0m\u001b[1;33m(\u001b[0m\u001b[1;33m)\u001b[0m\u001b[1;33m\u001b[0m\u001b[1;33m\u001b[0m\u001b[0m\n\u001b[0m",
      "\u001b[1;31mAttributeError\u001b[0m: 'History' object has no attribute 'summary'"
     ]
    }
   ],
   "source": [
    "results_binary_recall.summary()"
   ]
  },
  {
   "cell_type": "code",
   "execution_count": null,
   "metadata": {},
   "outputs": [],
   "source": [
    "multi_class_model.summary()"
   ]
  },
  {
   "cell_type": "code",
   "execution_count": null,
   "metadata": {},
   "outputs": [],
   "source": []
  },
  {
   "cell_type": "code",
   "execution_count": null,
   "metadata": {},
   "outputs": [],
   "source": [
    "results_binary.predict(test_gen[0]).sum()"
   ]
  },
  {
   "cell_type": "code",
   "execution_count": null,
   "metadata": {},
   "outputs": [],
   "source": [
    "results_binary_recall.predict(test_gen[0]).sum()"
   ]
  },
  {
   "cell_type": "code",
   "execution_count": null,
   "metadata": {},
   "outputs": [],
   "source": [
    "multi_class_model.predict(test_gen[0]).sum()"
   ]
  },
  {
   "cell_type": "code",
   "execution_count": null,
   "metadata": {},
   "outputs": [],
   "source": []
  },
  {
   "cell_type": "code",
   "execution_count": null,
   "metadata": {},
   "outputs": [],
   "source": [
    "np.argmax(results_binary.predict(test_gen[0]))"
   ]
  },
  {
   "cell_type": "code",
   "execution_count": null,
   "metadata": {},
   "outputs": [],
   "source": [
    "np.argmax(results_binary_recall.predict(test_gen[0]))"
   ]
  },
  {
   "cell_type": "code",
   "execution_count": null,
   "metadata": {},
   "outputs": [],
   "source": [
    "np.argmax(multi_class_model.predict(test_gen[0]))"
   ]
  },
  {
   "cell_type": "code",
   "execution_count": null,
   "metadata": {},
   "outputs": [],
   "source": []
  },
  {
   "cell_type": "code",
   "execution_count": null,
   "metadata": {},
   "outputs": [],
   "source": [
    "plt.imshow(test_gen[0]);"
   ]
  },
  {
   "cell_type": "code",
   "execution_count": null,
   "metadata": {},
   "outputs": [],
   "source": []
  },
  {
   "cell_type": "code",
   "execution_count": null,
   "metadata": {},
   "outputs": [],
   "source": []
  },
  {
   "cell_type": "code",
   "execution_count": null,
   "metadata": {},
   "outputs": [],
   "source": []
  },
  {
   "cell_type": "code",
   "execution_count": null,
   "metadata": {},
   "outputs": [],
   "source": []
  }
 ],
 "metadata": {
  "kernelspec": {
   "display_name": "learnEnv",
   "language": "python",
   "name": "learnenv"
  },
  "language_info": {
   "codemirror_mode": {
    "name": "ipython",
    "version": 3
   },
   "file_extension": ".py",
   "mimetype": "text/x-python",
   "name": "python",
   "nbconvert_exporter": "python",
   "pygments_lexer": "ipython3",
   "version": "3.8.5"
  }
 },
 "nbformat": 4,
 "nbformat_minor": 4
}
