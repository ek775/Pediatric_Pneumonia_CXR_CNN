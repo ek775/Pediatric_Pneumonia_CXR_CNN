{
 "cells": [
  {
   "cell_type": "code",
   "execution_count": 1,
   "metadata": {},
   "outputs": [],
   "source": [
    "# General libraries\n",
    "import os\n",
    "import numpy as np\n",
    "import pandas as pd \n",
    "import random\n",
    "import matplotlib.pyplot as plt\n",
    "%matplotlib inline\n",
    "import pathlib\n",
    "import os\n",
    "from PIL import Image\n",
    "import os\n",
    "from skimage import io\n",
    "from matplotlib import cm\n",
    "from mpl_toolkits.axes_grid1 import ImageGrid\n",
    "import math\n",
    "from sklearn.model_selection import train_test_split, cross_val_score\n",
    "from sklearn.preprocessing import OneHotEncoder\n",
    "from sklearn.metrics import accuracy_score, recall_score, confusion_matrix\n",
    "\n",
    "\n",
    "\n",
    "# Deep learning libraries\n",
    "import keras.backend as K\n",
    "from keras.models import Model, Sequential\n",
    "from keras.layers import Input, Dense, Flatten, Dropout, BatchNormalization\n",
    "from keras.layers import Conv2D, SeparableConv2D, MaxPool2D, LeakyReLU, Activation\n",
    "from keras.optimizers import Adam\n",
    "from keras.preprocessing.image import ImageDataGenerator\n",
    "from keras.callbacks import ModelCheckpoint, ReduceLROnPlateau, EarlyStopping\n",
    "import tensorflow as tf\n",
    "from tensorflow.keras import datasets, layers, models\n",
    "\n",
    "\n"
   ]
  },
  {
   "cell_type": "code",
   "execution_count": null,
   "metadata": {},
   "outputs": [],
   "source": []
  },
  {
   "cell_type": "code",
   "execution_count": 2,
   "metadata": {},
   "outputs": [],
   "source": [
    "train_image_binary = ImageDataGenerator(rescale=1/255, zoom_range=0.3, vertical_flip=True,validation_split=.2)\n",
    "test_image_binary = ImageDataGenerator(rescale=1/255)"
   ]
  },
  {
   "cell_type": "code",
   "execution_count": 3,
   "metadata": {},
   "outputs": [],
   "source": [
    "#Image generators for importing data and providing validation split for training\n",
    "train_image = ImageDataGenerator(rescale=1/255,\n",
    "                                 width_shift_range=0.05,\n",
    "                                 height_shift_range=0.05,\n",
    "                                 horizontal_flip=True,\n",
    "                                 shear_range=10,\n",
    "                                 brightness_range=[0.95,1.05],\n",
    "                                 validation_split=.2)\n",
    "\n",
    "#attempting to create validation data set without augmentations applied to the training set\n",
    "#random seed is set upon generation of the data, thus should prevent data leakage\n",
    "validation_image = ImageDataGenerator(rescale=1/255,\n",
    "                                     validation_split=.2)\n",
    "\n",
    "test_image = ImageDataGenerator(rescale=1/255)"
   ]
  },
  {
   "cell_type": "code",
   "execution_count": null,
   "metadata": {},
   "outputs": [],
   "source": []
  },
  {
   "cell_type": "code",
   "execution_count": null,
   "metadata": {},
   "outputs": [],
   "source": []
  },
  {
   "cell_type": "code",
   "execution_count": 4,
   "metadata": {},
   "outputs": [
    {
     "name": "stdout",
     "output_type": "stream",
     "text": [
      "Found 4499 images belonging to 2 classes.\n"
     ]
    }
   ],
   "source": [
    " train_gen_binary = train_image.flow_from_directory(\n",
    "    directory='chest_xray/train', \n",
    "    target_size=(128, 128),color_mode='grayscale',\n",
    "    batch_size=32, \n",
    "    class_mode='categorical', subset='training',interpolation=\"lanczos\",\n",
    "    shuffle=True)"
   ]
  },
  {
   "cell_type": "code",
   "execution_count": 5,
   "metadata": {},
   "outputs": [
    {
     "name": "stdout",
     "output_type": "stream",
     "text": [
      "Found 1123 images belonging to 2 classes.\n"
     ]
    }
   ],
   "source": [
    "val_gen_binary = train_image.flow_from_directory(\n",
    "    directory='chest_xray/train', \n",
    "    target_size=(128, 128),color_mode='grayscale',\n",
    "    batch_size=32, \n",
    "    class_mode='categorical', subset='validation',interpolation=\"lanczos\",\n",
    "    shuffle=True)"
   ]
  },
  {
   "cell_type": "code",
   "execution_count": 6,
   "metadata": {},
   "outputs": [
    {
     "name": "stdout",
     "output_type": "stream",
     "text": [
      "Found 624 images belonging to 2 classes.\n"
     ]
    }
   ],
   "source": [
    "test_gen = test_image.flow_from_directory(\n",
    "    directory='chest_xray/test', \n",
    "    target_size=(128, 128),color_mode='grayscale', \n",
    "    batch_size=32, \n",
    "    class_mode='categorical',interpolation=\"lanczos\",\n",
    "    shuffle=True)"
   ]
  },
  {
   "cell_type": "code",
   "execution_count": 7,
   "metadata": {},
   "outputs": [
    {
     "name": "stdout",
     "output_type": "stream",
     "text": [
      "Found 4186 images belonging to 3 classes.\n"
     ]
    }
   ],
   "source": [
    "#training data processing\n",
    "train_gen_multi = train_image.flow_from_directory(\n",
    "    directory='chest_xray/train_multi_class', \n",
    "    target_size=(128, 128),color_mode='grayscale',\n",
    "    batch_size=32, \n",
    "    class_mode='categorical', subset='training', interpolation=\"lanczos\",\n",
    "    seed=42)"
   ]
  },
  {
   "cell_type": "code",
   "execution_count": 8,
   "metadata": {},
   "outputs": [
    {
     "name": "stdout",
     "output_type": "stream",
     "text": [
      "Found 1045 images belonging to 3 classes.\n"
     ]
    }
   ],
   "source": [
    "val_gen_multi = validation_image.flow_from_directory(\n",
    "    directory='chest_xray/train_multi_class', \n",
    "    target_size=(128, 128),color_mode='grayscale',\n",
    "    batch_size=32, \n",
    "    class_mode='categorical', subset='validation', interpolation=\"lanczos\",\n",
    "    seed=42)"
   ]
  },
  {
   "cell_type": "code",
   "execution_count": null,
   "metadata": {},
   "outputs": [],
   "source": []
  },
  {
   "cell_type": "code",
   "execution_count": 9,
   "metadata": {},
   "outputs": [
    {
     "name": "stdout",
     "output_type": "stream",
     "text": [
      "<tensorflow.python.keras.preprocessing.image.DirectoryIterator object at 0x0000023694BC0700>\n",
      "141\n"
     ]
    }
   ],
   "source": [
    "print(train_gen_binary)\n",
    "print(len(train_gen_binary))\n"
   ]
  },
  {
   "cell_type": "code",
   "execution_count": null,
   "metadata": {},
   "outputs": [],
   "source": []
  },
  {
   "cell_type": "code",
   "execution_count": 10,
   "metadata": {},
   "outputs": [
    {
     "data": {
      "text/plain": [
       "<tensorflow.python.keras.preprocessing.image.DirectoryIterator at 0x23694bc0700>"
      ]
     },
     "execution_count": 10,
     "metadata": {},
     "output_type": "execute_result"
    }
   ],
   "source": [
    "train_gen_binary"
   ]
  },
  {
   "cell_type": "code",
   "execution_count": null,
   "metadata": {},
   "outputs": [],
   "source": []
  },
  {
   "cell_type": "code",
   "execution_count": 11,
   "metadata": {},
   "outputs": [
    {
     "data": {
      "text/plain": [
       "(array([[[[0.5294118 ],\n",
       "          [0.5019608 ],\n",
       "          [0.427451  ],\n",
       "          ...,\n",
       "          [0.7960785 ],\n",
       "          [0.7960785 ],\n",
       "          [0.79215693]],\n",
       " \n",
       "         [[0.5803922 ],\n",
       "          [0.5019608 ],\n",
       "          [0.3921569 ],\n",
       "          ...,\n",
       "          [0.8117648 ],\n",
       "          [0.8117648 ],\n",
       "          [0.8117648 ]],\n",
       " \n",
       "         [[0.5686275 ],\n",
       "          [0.427451  ],\n",
       "          [0.3372549 ],\n",
       "          ...,\n",
       "          [0.7843138 ],\n",
       "          [0.7843138 ],\n",
       "          [0.7843138 ]],\n",
       " \n",
       "         ...,\n",
       " \n",
       "         [[0.06666667],\n",
       "          [0.21960786],\n",
       "          [0.24313727],\n",
       "          ...,\n",
       "          [0.08235294],\n",
       "          [0.08235294],\n",
       "          [0.08235294]],\n",
       " \n",
       "         [[0.06666667],\n",
       "          [0.21960786],\n",
       "          [0.24313727],\n",
       "          ...,\n",
       "          [0.08235294],\n",
       "          [0.08235294],\n",
       "          [0.08235294]],\n",
       " \n",
       "         [[0.06666667],\n",
       "          [0.21960786],\n",
       "          [0.24313727],\n",
       "          ...,\n",
       "          [0.08235294],\n",
       "          [0.08235294],\n",
       "          [0.08235294]]],\n",
       " \n",
       " \n",
       "        [[[0.        ],\n",
       "          [0.        ],\n",
       "          [0.07058824],\n",
       "          ...,\n",
       "          [0.        ],\n",
       "          [0.        ],\n",
       "          [0.        ]],\n",
       " \n",
       "         [[0.        ],\n",
       "          [0.        ],\n",
       "          [0.07058824],\n",
       "          ...,\n",
       "          [0.        ],\n",
       "          [0.        ],\n",
       "          [0.        ]],\n",
       " \n",
       "         [[0.        ],\n",
       "          [0.        ],\n",
       "          [0.07058824],\n",
       "          ...,\n",
       "          [0.        ],\n",
       "          [0.        ],\n",
       "          [0.02352941]],\n",
       " \n",
       "         ...,\n",
       " \n",
       "         [[0.        ],\n",
       "          [0.        ],\n",
       "          [0.        ],\n",
       "          ...,\n",
       "          [0.        ],\n",
       "          [0.        ],\n",
       "          [0.        ]],\n",
       " \n",
       "         [[0.        ],\n",
       "          [0.        ],\n",
       "          [0.        ],\n",
       "          ...,\n",
       "          [0.        ],\n",
       "          [0.        ],\n",
       "          [0.        ]],\n",
       " \n",
       "         [[0.        ],\n",
       "          [0.        ],\n",
       "          [0.        ],\n",
       "          ...,\n",
       "          [0.        ],\n",
       "          [0.        ],\n",
       "          [0.        ]]],\n",
       " \n",
       " \n",
       "        [[[0.4156863 ],\n",
       "          [0.39607847],\n",
       "          [0.5019608 ],\n",
       "          ...,\n",
       "          [0.00392157],\n",
       "          [0.00392157],\n",
       "          [0.00392157]],\n",
       " \n",
       "         [[0.4156863 ],\n",
       "          [0.39607847],\n",
       "          [0.5019608 ],\n",
       "          ...,\n",
       "          [0.        ],\n",
       "          [0.        ],\n",
       "          [0.        ]],\n",
       " \n",
       "         [[0.4156863 ],\n",
       "          [0.39607847],\n",
       "          [0.5019608 ],\n",
       "          ...,\n",
       "          [0.        ],\n",
       "          [0.        ],\n",
       "          [0.        ]],\n",
       " \n",
       "         ...,\n",
       " \n",
       "         [[0.        ],\n",
       "          [0.        ],\n",
       "          [0.        ],\n",
       "          ...,\n",
       "          [0.34117648],\n",
       "          [0.32941177],\n",
       "          [0.32941177]],\n",
       " \n",
       "         [[0.        ],\n",
       "          [0.        ],\n",
       "          [0.        ],\n",
       "          ...,\n",
       "          [0.34117648],\n",
       "          [0.32941177],\n",
       "          [0.32941177]],\n",
       " \n",
       "         [[0.        ],\n",
       "          [0.        ],\n",
       "          [0.        ],\n",
       "          ...,\n",
       "          [0.34117648],\n",
       "          [0.32941177],\n",
       "          [0.32941177]]],\n",
       " \n",
       " \n",
       "        ...,\n",
       " \n",
       " \n",
       "        [[[0.        ],\n",
       "          [0.        ],\n",
       "          [0.        ],\n",
       "          ...,\n",
       "          [0.21176472],\n",
       "          [0.18039216],\n",
       "          [0.13333334]],\n",
       " \n",
       "         [[0.        ],\n",
       "          [0.        ],\n",
       "          [0.        ],\n",
       "          ...,\n",
       "          [0.20392159],\n",
       "          [0.1764706 ],\n",
       "          [0.1254902 ]],\n",
       " \n",
       "         [[0.        ],\n",
       "          [0.        ],\n",
       "          [0.        ],\n",
       "          ...,\n",
       "          [0.19215688],\n",
       "          [0.16470589],\n",
       "          [0.1137255 ]],\n",
       " \n",
       "         ...,\n",
       " \n",
       "         [[0.        ],\n",
       "          [0.        ],\n",
       "          [0.        ],\n",
       "          ...,\n",
       "          [0.        ],\n",
       "          [0.        ],\n",
       "          [0.        ]],\n",
       " \n",
       "         [[0.        ],\n",
       "          [0.        ],\n",
       "          [0.        ],\n",
       "          ...,\n",
       "          [0.        ],\n",
       "          [0.        ],\n",
       "          [0.        ]],\n",
       " \n",
       "         [[0.        ],\n",
       "          [0.        ],\n",
       "          [0.        ],\n",
       "          ...,\n",
       "          [0.        ],\n",
       "          [0.        ],\n",
       "          [0.        ]]],\n",
       " \n",
       " \n",
       "        [[[0.        ],\n",
       "          [0.        ],\n",
       "          [0.        ],\n",
       "          ...,\n",
       "          [0.627451  ],\n",
       "          [0.6431373 ],\n",
       "          [0.6509804 ]],\n",
       " \n",
       "         [[0.        ],\n",
       "          [0.        ],\n",
       "          [0.        ],\n",
       "          ...,\n",
       "          [0.6313726 ],\n",
       "          [0.6509804 ],\n",
       "          [0.62352943]],\n",
       " \n",
       "         [[0.        ],\n",
       "          [0.        ],\n",
       "          [0.        ],\n",
       "          ...,\n",
       "          [0.64705884],\n",
       "          [0.64705884],\n",
       "          [0.5647059 ]],\n",
       " \n",
       "         ...,\n",
       " \n",
       "         [[0.        ],\n",
       "          [0.        ],\n",
       "          [0.        ],\n",
       "          ...,\n",
       "          [0.        ],\n",
       "          [0.        ],\n",
       "          [0.        ]],\n",
       " \n",
       "         [[0.00392157],\n",
       "          [0.00784314],\n",
       "          [0.00784314],\n",
       "          ...,\n",
       "          [0.        ],\n",
       "          [0.        ],\n",
       "          [0.        ]],\n",
       " \n",
       "         [[0.01960784],\n",
       "          [0.01960784],\n",
       "          [0.02352941],\n",
       "          ...,\n",
       "          [0.        ],\n",
       "          [0.        ],\n",
       "          [0.        ]]],\n",
       " \n",
       " \n",
       "        [[[0.        ],\n",
       "          [0.        ],\n",
       "          [0.        ],\n",
       "          ...,\n",
       "          [0.        ],\n",
       "          [0.        ],\n",
       "          [0.        ]],\n",
       " \n",
       "         [[0.        ],\n",
       "          [0.        ],\n",
       "          [0.        ],\n",
       "          ...,\n",
       "          [0.        ],\n",
       "          [0.        ],\n",
       "          [0.        ]],\n",
       " \n",
       "         [[0.        ],\n",
       "          [0.        ],\n",
       "          [0.        ],\n",
       "          ...,\n",
       "          [0.        ],\n",
       "          [0.        ],\n",
       "          [0.        ]],\n",
       " \n",
       "         ...,\n",
       " \n",
       "         [[0.        ],\n",
       "          [0.01176471],\n",
       "          [0.10588236],\n",
       "          ...,\n",
       "          [0.        ],\n",
       "          [0.        ],\n",
       "          [0.        ]],\n",
       " \n",
       "         [[0.        ],\n",
       "          [0.01568628],\n",
       "          [0.11764707],\n",
       "          ...,\n",
       "          [0.        ],\n",
       "          [0.        ],\n",
       "          [0.        ]],\n",
       " \n",
       "         [[0.        ],\n",
       "          [0.02745098],\n",
       "          [0.12941177],\n",
       "          ...,\n",
       "          [0.        ],\n",
       "          [0.        ],\n",
       "          [0.        ]]]], dtype=float32),\n",
       " array([[0., 1.],\n",
       "        [0., 1.],\n",
       "        [0., 1.],\n",
       "        [0., 1.],\n",
       "        [0., 1.],\n",
       "        [0., 1.],\n",
       "        [0., 1.],\n",
       "        [0., 1.],\n",
       "        [1., 0.],\n",
       "        [0., 1.],\n",
       "        [0., 1.],\n",
       "        [0., 1.],\n",
       "        [0., 1.],\n",
       "        [0., 1.],\n",
       "        [0., 1.],\n",
       "        [0., 1.],\n",
       "        [0., 1.],\n",
       "        [0., 1.],\n",
       "        [1., 0.],\n",
       "        [1., 0.],\n",
       "        [0., 1.],\n",
       "        [1., 0.],\n",
       "        [0., 1.],\n",
       "        [0., 1.],\n",
       "        [0., 1.],\n",
       "        [0., 1.],\n",
       "        [0., 1.],\n",
       "        [0., 1.],\n",
       "        [1., 0.],\n",
       "        [1., 0.],\n",
       "        [0., 1.],\n",
       "        [1., 0.]], dtype=float32))"
      ]
     },
     "execution_count": 11,
     "metadata": {},
     "output_type": "execute_result"
    }
   ],
   "source": [
    "train_gen_binary[0]"
   ]
  },
  {
   "cell_type": "code",
   "execution_count": 12,
   "metadata": {},
   "outputs": [
    {
     "name": "stdout",
     "output_type": "stream",
     "text": [
      "x:  <class 'numpy.ndarray'>\n",
      "y:  <class 'numpy.ndarray'>\n",
      "x:  (32, 128, 128, 1)\n",
      "y:  (32, 2)\n"
     ]
    }
   ],
   "source": [
    "X,y = next(train_gen_binary)\n",
    "print('x: ',type(X))\n",
    "print('y: ',type(y))\n",
    "print('x: ',X.shape)\n",
    "print('y: ',y.shape)\n"
   ]
  },
  {
   "cell_type": "code",
   "execution_count": null,
   "metadata": {},
   "outputs": [],
   "source": []
  },
  {
   "cell_type": "code",
   "execution_count": null,
   "metadata": {},
   "outputs": [],
   "source": []
  },
  {
   "cell_type": "code",
   "execution_count": null,
   "metadata": {
    "scrolled": true
   },
   "outputs": [
    {
     "name": "stdout",
     "output_type": "stream",
     "text": [
      "Epoch 1/10\n",
      "141/141 [==============================] - 179s 1s/step - loss: 0.3110 - accuracy: 0.8573 - val_loss: 0.2068 - val_accuracy: 0.9038\n",
      "Epoch 2/10\n",
      "141/141 [==============================] - ETA: 0s - loss: 0.1799 - accuracy: 0.9271"
     ]
    }
   ],
   "source": [
    "model_binary = models.Sequential()\n",
    "model_binary.add(layers.Conv2D(filters=10,\n",
    "                        kernel_size=(3, 3),\n",
    "                        activation='swish',\n",
    "                        input_shape=(128, 128, 1)))\n",
    "model_binary.add(layers.MaxPooling2D(pool_size=(2, 2)))\n",
    "model_binary.add(layers.Conv2D(64, (3, 3), activation='swish'))\n",
    "model_binary.add(layers.MaxPooling2D((2, 2)))\n",
    "model_binary.add(layers.Conv2D(32, (3, 3), activation='swish'))\n",
    "model_binary.add(layers.Flatten())\n",
    "model_binary.add(layers.Dense(16, activation='swish'))\n",
    "model_binary.add(layers.Dense(2, activation='sigmoid'))\n",
    "\n",
    "model_binary.compile(optimizer='adam',\n",
    "              loss='binary_crossentropy',\n",
    "              metrics=['accuracy'])\n",
    "\n",
    "results_binary = model_binary.fit(train_gen_binary,epochs=10, batch_size=32,validation_data=val_gen_binary)"
   ]
  },
  {
   "cell_type": "code",
   "execution_count": null,
   "metadata": {},
   "outputs": [],
   "source": []
  },
  {
   "cell_type": "code",
   "execution_count": null,
   "metadata": {},
   "outputs": [],
   "source": [
    "model_b_recall = models.Sequential()\n",
    "model_b_recall.add(layers.Conv2D(filters=10,\n",
    "                        kernel_size=(3, 3),\n",
    "                        activation='swish',\n",
    "                        input_shape=(128, 128, 1)))\n",
    "model_b_recall.add(layers.MaxPooling2D(pool_size=(2, 2)))\n",
    "model_b_recall.add(layers.Conv2D(64, (3, 3), activation='swish'))\n",
    "model_b_recall.add(layers.MaxPooling2D((2, 2)))\n",
    "model_b_recall.add(layers.Conv2D(32, (3, 3), activation='swish'))\n",
    "model_b_recall.add(layers.Flatten())\n",
    "model_b_recall.add(layers.Dense(16, activation='swish'))\n",
    "model_b_recall.add(layers.Dense(2, activation='sigmoid'))\n",
    "\n",
    "model_b_recall.compile(optimizer='adam',\n",
    "              loss='binary_crossentropy',\n",
    "              metrics=['recall'])\n",
    "\n",
    "results_binary_recall = model_binary.fit(train_gen_binary,epochs=30, validation_data=val_gen_binary)"
   ]
  },
  {
   "cell_type": "code",
   "execution_count": null,
   "metadata": {},
   "outputs": [],
   "source": []
  },
  {
   "cell_type": "code",
   "execution_count": null,
   "metadata": {},
   "outputs": [],
   "source": [
    "\n",
    "#Multi class model with 3 classes normal,p\n",
    "#Went too deep - trying new activation function in hidden layers\n",
    "model0 = models.Sequential()\n",
    "\n",
    "#input layer\n",
    "model0.add(layers.Conv2D(filters=10,\n",
    "                        kernel_size=(20, 20),\n",
    "                        activation='relu',\n",
    "                        input_shape=(128, 128, 1)))\n",
    "model0.add(layers.MaxPooling2D(pool_size=(2, 2)))\n",
    "\n",
    "#hidden layers\n",
    "model0.add(layers.Conv2D(64, (2, 2), activation='swish'))\n",
    "model0.add(layers.MaxPooling2D((2, 2)))\n",
    "model0.add(layers.Conv2D(32, (2, 2), activation='swish'))\n",
    "model0.add(layers.Flatten())\n",
    "model0.add(layers.Dense(32, activation='swish'))\n",
    "model0.add(layers.Dense(16, activation='swish'))\n",
    "model0.add(layers.Dense(12, activation='swish'))\n",
    "model0.add(layers.Dense(8, activation='swish'))\n",
    "\n",
    "#output layer\n",
    "model0.add(layers.Dense(3, activation='softmax'))\n",
    "\n",
    "#compile and compute\n",
    "model0.compile(optimizer='adam',\n",
    "              loss='categorical_crossentropy',\n",
    "              metrics=['accuracy', 'AUC'])\n",
    "#creating a save file for this model # comement out b/c lack of storage\n",
    "#model_checkpoint_callback = ModelCheckpoint(filepath=\"./Checkpoints\",\n",
    "                                           #save_weights_only=True,\n",
    "                                          # monitor='val_accuracy',\n",
    "                                           #mode='max',\n",
    "                                          # save_best_only=True)\n",
    "\n",
    "multi_class_model = model0.fit(train_gen_multi, epochs=10, validation_data=val_gen_multi)#, callbacks=model_checkpoint_callback)\n"
   ]
  },
  {
   "cell_type": "code",
   "execution_count": null,
   "metadata": {},
   "outputs": [],
   "source": []
  },
  {
   "cell_type": "code",
   "execution_count": null,
   "metadata": {},
   "outputs": [],
   "source": [
    "results_binary.__dict__"
   ]
  },
  {
   "cell_type": "code",
   "execution_count": null,
   "metadata": {},
   "outputs": [],
   "source": [
    "results_binary_recall.__dict__"
   ]
  },
  {
   "cell_type": "code",
   "execution_count": null,
   "metadata": {},
   "outputs": [],
   "source": [
    "multi_class_model.__dict__"
   ]
  },
  {
   "cell_type": "code",
   "execution_count": null,
   "metadata": {},
   "outputs": [],
   "source": []
  },
  {
   "cell_type": "code",
   "execution_count": null,
   "metadata": {},
   "outputs": [],
   "source": [
    "import seaborn as sns\n",
    "\n",
    "train_loss_binary = results_binary.history['loss']\n",
    "train_acc_binary = results_binary.history['accuracy']\n",
    "val_loss_binary = results_binary.history['val_loss']\n",
    "val_acc_binary = results_binary.history['val_accuracy']\n",
    "\n",
    "\n",
    "fig, (ax1, ax2) = plt.subplots(1, 2, figsize=(10, 5))\n",
    "sns.lineplot(x=results_binary.epoch, y=train_loss_binary, ax=ax1, label='train_loss_binary')\n",
    "sns.lineplot(x=results_binary.epoch, y=train_acc_binary, ax=ax2, label='train_acc_binary')\n",
    "\n",
    "sns.lineplot(x=results_binary.epoch, y=val_loss_binary, ax=ax1, label='val_loss_binary')\n",
    "sns.lineplot(x=results_binary.epoch, y=val_acc_binary, ax=ax2, label='val_acc_binary');"
   ]
  },
  {
   "cell_type": "code",
   "execution_count": null,
   "metadata": {},
   "outputs": [],
   "source": [
    "import seaborn as sns\n",
    "\n",
    "train_loss_binary_r = results_binary_recall.history['loss']\n",
    "train_recall_binary_r = results_binary_recall.history['accuracy']\n",
    "val_loss_binary_r = results_binary_recall.history['val_loss']\n",
    "val_recall_binary_r = results_binary_recall.history['val_accuracy']\n",
    "\n",
    "\n",
    "fig, (ax1, ax2) = plt.subplots(1, 2, figsize=(10, 5))\n",
    "sns.lineplot(x=results_binary_recall.epoch, y=train_loss_binary_r, ax=ax1, label='train_loss_binary_r')\n",
    "sns.lineplot(x=results_binary_recall.epoch, y=train_recall_binary_r, ax=ax2, label='train_recall_binary_r')\n",
    "\n",
    "sns.lineplot(x=results_binary_recall.epoch, y=val_loss_binary_r, ax=ax1, label='val_loss_binary_r')\n",
    "sns.lineplot(x=results_binary_recall.epoch, y=val_recall_binary_r, ax=ax2, label='val_recall_binary_r');"
   ]
  },
  {
   "cell_type": "code",
   "execution_count": null,
   "metadata": {},
   "outputs": [],
   "source": [
    "#import seaborn as sns\n",
    "\n",
    "train_loss_multi = multi_class_model.history['loss']\n",
    "train_acc_multi = multi_class_model.history['accuracy']\n",
    "val_loss_multi = multi_class_model.history['val_loss']\n",
    "val_acc_multi = multi_class_model.history['val_accuracy']\n",
    "\n",
    "\n",
    "fig, (ax1, ax2) = plt.subplots(1, 2, figsize=(10, 5))\n",
    "sns.lineplot(x=multi_class_model.epoch, y=train_loss_multi, ax=ax1, label='train_loss_multi')\n",
    "sns.lineplot(x=multi_class_model.epoch, y=train_acc_multi, ax=ax2, label='train_acc_multi')\n",
    "\n",
    "sns.lineplot(x=multi_class_model.epoch, y=val_loss_multi, ax=ax1, label='val_loss_multi')\n",
    "sns.lineplot(x=multi_class_model.epoch, y=val_acc_multi, ax=ax2, label='val_acc_multi');"
   ]
  },
  {
   "cell_type": "code",
   "execution_count": null,
   "metadata": {},
   "outputs": [],
   "source": []
  },
  {
   "cell_type": "code",
   "execution_count": null,
   "metadata": {},
   "outputs": [],
   "source": [
    "test_loss_recall, test_acc_recall = results_binary_recall.evaluate(test_gen[0], test_gen[1])"
   ]
  },
  {
   "cell_type": "code",
   "execution_count": null,
   "metadata": {},
   "outputs": [],
   "source": [
    "test_loss_binary, test_acc_binary = results_binary.evaluate(test_gen[0], test_gen[1])"
   ]
  },
  {
   "cell_type": "code",
   "execution_count": null,
   "metadata": {},
   "outputs": [],
   "source": [
    "test_loss_multi, test_acc_multi = multi_class_model.evaluate(test_gen[0], test_gen[1])"
   ]
  },
  {
   "cell_type": "code",
   "execution_count": null,
   "metadata": {},
   "outputs": [],
   "source": []
  },
  {
   "cell_type": "code",
   "execution_count": null,
   "metadata": {},
   "outputs": [],
   "source": [
    "results_binary.predict(test_gen_binary[0])"
   ]
  },
  {
   "cell_type": "code",
   "execution_count": null,
   "metadata": {},
   "outputs": [],
   "source": [
    "results_binary_recall.predict(test_gen[0])"
   ]
  },
  {
   "cell_type": "code",
   "execution_count": null,
   "metadata": {},
   "outputs": [],
   "source": [
    "results_.predict(test_gen[0])"
   ]
  },
  {
   "cell_type": "code",
   "execution_count": null,
   "metadata": {},
   "outputs": [],
   "source": []
  },
  {
   "cell_type": "code",
   "execution_count": null,
   "metadata": {},
   "outputs": [],
   "source": [
    "print(test_acc_binary)"
   ]
  },
  {
   "cell_type": "code",
   "execution_count": null,
   "metadata": {},
   "outputs": [],
   "source": [
    "print(test_acc_recall)"
   ]
  },
  {
   "cell_type": "code",
   "execution_count": null,
   "metadata": {},
   "outputs": [],
   "source": [
    "print(test_acc_multi)"
   ]
  },
  {
   "cell_type": "code",
   "execution_count": null,
   "metadata": {},
   "outputs": [],
   "source": [
    "results_binary.summary()"
   ]
  },
  {
   "cell_type": "code",
   "execution_count": null,
   "metadata": {},
   "outputs": [],
   "source": [
    "results_binary_recall.summary()"
   ]
  },
  {
   "cell_type": "code",
   "execution_count": null,
   "metadata": {},
   "outputs": [],
   "source": [
    "multi_class_model.summary()"
   ]
  },
  {
   "cell_type": "code",
   "execution_count": null,
   "metadata": {},
   "outputs": [],
   "source": []
  },
  {
   "cell_type": "code",
   "execution_count": null,
   "metadata": {},
   "outputs": [],
   "source": [
    "results_binary.predict(test_gen[0]).sum()"
   ]
  },
  {
   "cell_type": "code",
   "execution_count": null,
   "metadata": {},
   "outputs": [],
   "source": [
    "results_binary_recall.predict(test_gen[0]).sum()"
   ]
  },
  {
   "cell_type": "code",
   "execution_count": null,
   "metadata": {},
   "outputs": [],
   "source": [
    "multi_class_model.predict(test_gen[0]).sum()"
   ]
  },
  {
   "cell_type": "code",
   "execution_count": null,
   "metadata": {},
   "outputs": [],
   "source": []
  },
  {
   "cell_type": "code",
   "execution_count": null,
   "metadata": {},
   "outputs": [],
   "source": [
    "np.argmax(results_binary.predict(test_gen[0]))"
   ]
  },
  {
   "cell_type": "code",
   "execution_count": null,
   "metadata": {},
   "outputs": [],
   "source": [
    "np.argmax(results_binary_recall.predict(test_gen[0]))"
   ]
  },
  {
   "cell_type": "code",
   "execution_count": null,
   "metadata": {},
   "outputs": [],
   "source": [
    "np.argmax(multi_class_model.predict(test_gen[0]))"
   ]
  },
  {
   "cell_type": "code",
   "execution_count": null,
   "metadata": {},
   "outputs": [],
   "source": []
  },
  {
   "cell_type": "code",
   "execution_count": null,
   "metadata": {},
   "outputs": [],
   "source": [
    "plt.imshow(test_gen[0]);"
   ]
  },
  {
   "cell_type": "code",
   "execution_count": null,
   "metadata": {},
   "outputs": [],
   "source": []
  },
  {
   "cell_type": "code",
   "execution_count": null,
   "metadata": {},
   "outputs": [],
   "source": []
  },
  {
   "cell_type": "code",
   "execution_count": null,
   "metadata": {},
   "outputs": [],
   "source": []
  },
  {
   "cell_type": "code",
   "execution_count": null,
   "metadata": {},
   "outputs": [],
   "source": []
  }
 ],
 "metadata": {
  "kernelspec": {
   "display_name": "learnEnv",
   "language": "python",
   "name": "learnenv"
  },
  "language_info": {
   "codemirror_mode": {
    "name": "ipython",
    "version": 3
   },
   "file_extension": ".py",
   "mimetype": "text/x-python",
   "name": "python",
   "nbconvert_exporter": "python",
   "pygments_lexer": "ipython3",
   "version": "3.8.5"
  }
 },
 "nbformat": 4,
 "nbformat_minor": 4
}
