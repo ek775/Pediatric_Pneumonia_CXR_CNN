{
 "cells": [
  {
   "cell_type": "markdown",
   "metadata": {},
   "source": [
    "# Summary"
   ]
  },
  {
   "cell_type": "markdown",
   "metadata": {},
   "source": [
    "The main model we are seeking to develop makes multiclass predictions based on chest x-ray (CXR) images to determine whether a given patient has bacterial pneumonia, viral pneumonia, or if the CXR is negative for pneumonia. A secondary model we developed helps to perform intial screening of the CXR to determine whether pneumonia is present in the image at all. In tandem, these models provide a robust ML product for screening and triaging pneumonia patients that is designed to be used in a \"human in the loop\" protocol as a second set of eyes on chest x-rays of children in low-resource settings. A growing body of literature supports this practice, albeit with models that are more complex and typically provide annotation features. \n",
    "\n",
    "The general approach to building our models is an iterative approach that starts with a relatively simple convolutional neural net containing 3 convolution layers and 2 densely connected layers for a total of 5 layers (3 hidden). Since we are designing this model to function with a human in the loop, accuracy was our primary optimization metric with recall as a strong secondary consideration. Sacrificing accuracy for sensitivity in the context of this deployment schema will tend to unnecessarily increase the workload for the end user (the radiologist) while providing less insight. Note that this is only safe to do because a human is still involved."
   ]
  },
  {
   "cell_type": "markdown",
   "metadata": {},
   "source": [
    "# CNN Modeling"
   ]
  },
  {
   "cell_type": "markdown",
   "metadata": {},
   "source": [
    "***Note that much of the code for different models has been pushed out into markdown cells after having been run. This is due to severe memory bloat issues during training that caused errors to arise during training on the AWS EC2 server. This should also allow the notebook to be run from top to bottom in a timely manner. If you wish to run the previous model iterations or examine them with IDE features on, simply convert them back to code cells.***"
   ]
  },
  {
   "cell_type": "code",
   "execution_count": 1,
   "metadata": {},
   "outputs": [],
   "source": [
    "# General libraries\n",
    "import os\n",
    "import numpy as np\n",
    "import pandas as pd \n",
    "import matplotlib.pyplot as plt\n",
    "%matplotlib inline\n",
    "from PIL import Image\n",
    "from matplotlib import cm\n",
    "from mpl_toolkits.axes_grid1 import ImageGrid\n",
    "import math\n",
    "\n",
    "# Deep learning libraries\n",
    "import keras.backend as K\n",
    "from keras.models import Model, Sequential\n",
    "from keras.layers import Input, Dense, Flatten, Dropout, BatchNormalization\n",
    "from keras.layers import Conv2D, SeparableConv2D, MaxPool2D, LeakyReLU, Activation\n",
    "from keras.optimizers import Adam\n",
    "from keras.preprocessing.image import ImageDataGenerator\n",
    "from keras.callbacks import ModelCheckpoint, ReduceLROnPlateau, EarlyStopping\n",
    "import tensorflow as tf\n",
    "from tensorflow.keras import datasets, layers, models\n",
    "import PIL\n",
    "\n"
   ]
  },
  {
   "cell_type": "markdown",
   "metadata": {},
   "source": [
    "Data is imported from the directory via the below ImageDataGenerator objects. These objects import the images at execution time and convert them to numpy arrays containing scaled pixel values that can be fed into the convolutional neural networks that we are constructing. They also conveniently perform image augmentation at execution time for training images to prevent overfitting, as well as providing a validation split. "
   ]
  },
  {
   "cell_type": "code",
   "execution_count": 2,
   "metadata": {},
   "outputs": [],
   "source": [
    "#Image generators for importing data and providing validation split for training\n",
    "train_image = ImageDataGenerator(rescale=1/255,\n",
    "                                 width_shift_range=0.05,\n",
    "                                 height_shift_range=0.05,\n",
    "                                 horizontal_flip=True,\n",
    "                                 shear_range=10,\n",
    "                                 brightness_range=[0.95,1.05],\n",
    "                                 validation_split=.2)\n",
    "\n",
    "#attempting to create validation data set without augmentations applied to the training set\n",
    "#random seed is set upon generation of the data, thus should prevent data leakage\n",
    "validation_image = ImageDataGenerator(rescale=1/255,\n",
    "                                     validation_split=.2)\n",
    "\n",
    "test_image = ImageDataGenerator(rescale=1/255)"
   ]
  },
  {
   "cell_type": "code",
   "execution_count": 3,
   "metadata": {},
   "outputs": [
    {
     "name": "stdout",
     "output_type": "stream",
     "text": [
      "Found 4186 images belonging to 3 classes.\n"
     ]
    }
   ],
   "source": [
    "#training data processing\n",
    "train_gen = train_image.flow_from_directory(\n",
    "    directory='chest_xray/train', \n",
    "    target_size=(128, 128),color_mode='grayscale',\n",
    "    batch_size=32, \n",
    "    class_mode='categorical', subset='training', interpolation=\"lanczos\",\n",
    "    seed=42)"
   ]
  },
  {
   "cell_type": "code",
   "execution_count": 4,
   "metadata": {},
   "outputs": [
    {
     "name": "stdout",
     "output_type": "stream",
     "text": [
      "Found 1045 images belonging to 3 classes.\n"
     ]
    }
   ],
   "source": [
    "#validation data processing\n",
    "val_gen = validation_image.flow_from_directory(\n",
    "    directory='chest_xray/train', \n",
    "    target_size=(128, 128),color_mode='grayscale',\n",
    "    batch_size=32, \n",
    "    class_mode='categorical', subset='validation', interpolation=\"lanczos\",\n",
    "    seed=42)"
   ]
  },
  {
   "cell_type": "code",
   "execution_count": 5,
   "metadata": {},
   "outputs": [
    {
     "name": "stdout",
     "output_type": "stream",
     "text": [
      "Found 624 images belonging to 3 classes.\n"
     ]
    }
   ],
   "source": [
    "#testing data processing\n",
    "test_gen = test_image.flow_from_directory(\n",
    "    directory='chest_xray/test', \n",
    "    target_size=(128, 128), color_mode='grayscale', \n",
    "    batch_size=32, \n",
    "    class_mode='categorical', interpolation=\"lanczos\",\n",
    "    shuffle=False,\n",
    "    seed=42)"
   ]
  },
  {
   "cell_type": "markdown",
   "metadata": {},
   "source": [
    "### Begin Iterative Modeling"
   ]
  },
  {
   "cell_type": "markdown",
   "metadata": {
    "scrolled": false
   },
   "source": [
    "#initial model\n",
    "model = models.Sequential()\n",
    "model.add(layers.Conv2D(filters=32,\n",
    "                        kernel_size=(3, 3),\n",
    "                        activation='relu',\n",
    "                        input_shape=(128, 128, 1)))\n",
    "model.add(layers.MaxPooling2D(pool_size=(2, 2)))\n",
    "model.add(layers.Conv2D(128, (3, 3), activation='relu'))\n",
    "model.add(layers.MaxPooling2D((2, 2)))\n",
    "model.add(layers.Conv2D(128, (3, 3), activation='relu'))\n",
    "model.add(layers.Flatten())\n",
    "model.add(layers.Dense(128, activation='relu'))\n",
    "model.add(layers.Dense(3, activation='softmax'))\n",
    "\n",
    "model.compile(optimizer='adam',\n",
    "              loss='categorical_crossentropy',\n",
    "              metrics=['accuracy'])\n",
    "\n",
    "#creating a save file for this model\n",
    "model_checkpoint_callback = ModelCheckpoint(filepath=\"./Checkpoints\",\n",
    "                                           save_weights_only=True,\n",
    "                                           monitor='val_accuracy',\n",
    "                                           mode='max',\n",
    "                                           save_best_only=True)\n",
    "\n",
    "model.fit(train_gen, epochs=10, validation_data=val_gen, callbacks=model_checkpoint_callback)"
   ]
  },
  {
   "cell_type": "markdown",
   "metadata": {
    "scrolled": true
   },
   "source": [
    "model.summary()"
   ]
  },
  {
   "cell_type": "markdown",
   "metadata": {
    "scrolled": true
   },
   "source": [
    "#2nd model iteration - increased kernel size, added padding\n",
    "kernel = (8, 8)\n",
    "\n",
    "model2 = models.Sequential()\n",
    "model2.add(layers.Conv2D(filters=32,\n",
    "                        kernel_size=kernel,\n",
    "                        activation='relu',\n",
    "                        input_shape=(128, 128, 1),\n",
    "                        padding='valid'))\n",
    "model2.add(layers.MaxPooling2D(pool_size=(2, 2)))\n",
    "model2.add(layers.Conv2D(128, kernel, activation='relu'))\n",
    "model2.add(layers.MaxPooling2D((2, 2)))\n",
    "model2.add(layers.Conv2D(128, kernel, activation='relu'))\n",
    "model2.add(layers.Flatten())\n",
    "model2.add(layers.Dense(128, activation='relu'))\n",
    "model2.add(layers.Dense(3, activation='softmax'))\n",
    "\n",
    "model2.compile(optimizer='adam',\n",
    "              loss='categorical_crossentropy',\n",
    "              metrics=['accuracy'])\n",
    "\n",
    "#creating a save file for this model\n",
    "model_checkpoint_callback = ModelCheckpoint(filepath=\"./Checkpoints\",\n",
    "                                           save_weights_only=True,\n",
    "                                           monitor='val_accuracy',\n",
    "                                           mode='max',\n",
    "                                           save_best_only=True)\n",
    "\n",
    "model2.fit(train_gen,epochs=10, validation_data=val_gen, callbacks=model_checkpoint_callback)"
   ]
  },
  {
   "cell_type": "markdown",
   "metadata": {},
   "source": [
    "model2.summary()"
   ]
  },
  {
   "cell_type": "markdown",
   "metadata": {
    "scrolled": true
   },
   "source": [
    "#3rd model iteration - increased pool size\n",
    "kernel = (8, 8)\n",
    "pool = (3, 3)\n",
    "\n",
    "model3 = models.Sequential()\n",
    "model3.add(layers.Conv2D(filters=32,\n",
    "                        kernel_size=kernel,\n",
    "                        activation='relu',\n",
    "                        input_shape=(128, 128, 1),\n",
    "                        padding='valid'))\n",
    "model3.add(layers.MaxPooling2D(pool_size=pool))\n",
    "\n",
    "#hidden layers\n",
    "model3.add(layers.Conv2D(128, kernel, activation='relu'))\n",
    "model3.add(layers.MaxPooling2D(pool))\n",
    "model3.add(layers.Conv2D(128, kernel, activation='relu'))\n",
    "model3.add(layers.Flatten())\n",
    "model3.add(layers.Dense(128, activation='relu'))\n",
    "model3.add(layers.Dense(3, activation='softmax'))\n",
    "\n",
    "model3.compile(optimizer='adam',\n",
    "              loss='categorical_crossentropy',\n",
    "              metrics=['accuracy'])\n",
    "\n",
    "#creating a save file for this model\n",
    "model_checkpoint_callback = ModelCheckpoint(filepath=\"./Checkpoints\",\n",
    "                                           save_weights_only=True,\n",
    "                                           monitor='val_accuracy',\n",
    "                                           mode='max',\n",
    "                                           save_best_only=True)\n",
    "\n",
    "model3.fit(train_gen,epochs=10,validation_data=val_gen)"
   ]
  },
  {
   "cell_type": "markdown",
   "metadata": {},
   "source": [
    "model3.summary()"
   ]
  },
  {
   "cell_type": "markdown",
   "metadata": {},
   "source": [
    "#4th model iteration - changed activation function for hidden layers to tanh, converted last hidden layer to dropout layer\n",
    "kernel = (8, 8)\n",
    "pool = (3, 3)\n",
    "\n",
    "model4 = models.Sequential()\n",
    "model4.add(layers.Conv2D(filters=32,\n",
    "                        kernel_size=kernel,\n",
    "                        activation='relu',\n",
    "                        input_shape=(128, 128, 1),\n",
    "                        padding='valid'))\n",
    "#hidden layers\n",
    "model4.add(layers.MaxPooling2D(pool_size=pool))\n",
    "model4.add(layers.Conv2D(128, kernel, activation='tanh'))\n",
    "model4.add(layers.MaxPooling2D(pool))\n",
    "model4.add(layers.Conv2D(128, kernel, activation='tanh'))\n",
    "model4.add(layers.Flatten())\n",
    "model4.add(layers.Dense(128, activation='tanh'))\n",
    "model4.add(layers.Dropout(rate=.25))\n",
    "#output layer\n",
    "model4.add(layers.Dense(3, activation='softmax'))\n",
    "\n",
    "model4.compile(optimizer='adam',\n",
    "              loss='categorical_crossentropy',\n",
    "              metrics=['accuracy'])\n",
    "\n",
    "#creating a save file for this model\n",
    "model_checkpoint_callback = ModelCheckpoint(filepath=\"./Checkpoints\",\n",
    "                                           save_weights_only=True,\n",
    "                                           monitor='val_accuracy',\n",
    "                                           mode='max',\n",
    "                                           save_best_only=True)\n",
    "\n",
    "model4.fit(train_gen,epochs=10,validation_data=val_gen, callbacks=model_checkpoint_callback)"
   ]
  },
  {
   "cell_type": "markdown",
   "metadata": {},
   "source": [
    "model4.summary()"
   ]
  },
  {
   "cell_type": "markdown",
   "metadata": {},
   "source": [
    "#5th model iteration - reverted activation function changes, kept dropout layer\n",
    "kernel = (8, 8)\n",
    "pool = (3, 3)\n",
    "\n",
    "model5 = models.Sequential()\n",
    "model5.add(layers.Conv2D(filters=32,\n",
    "                        kernel_size=kernel,\n",
    "                        activation='relu',\n",
    "                        input_shape=(128, 128, 1),\n",
    "                        padding='valid'))\n",
    "#hidden layers\n",
    "model5.add(layers.MaxPooling2D(pool_size=pool))\n",
    "model5.add(layers.Conv2D(128, kernel, activation='relu'))\n",
    "model5.add(layers.MaxPooling2D(pool))\n",
    "model5.add(layers.Conv2D(128, kernel, activation='relu'))\n",
    "model5.add(layers.Flatten())\n",
    "model5.add(layers.Dense(128, activation='relu'))\n",
    "model5.add(layers.Dropout(rate=.25))\n",
    "#output layer\n",
    "model5.add(layers.Dense(3, activation='softmax'))\n",
    "\n",
    "#compiling and fitting the model\n",
    "model5.compile(optimizer='adam',\n",
    "              loss='categorical_crossentropy',\n",
    "              metrics=['accuracy'])\n",
    "\n",
    "#creating a save file for this model\n",
    "model_checkpoint_callback = ModelCheckpoint(filepath=\"./Checkpoints\",\n",
    "                                           save_weights_only=True,\n",
    "                                           monitor='val_accuracy',\n",
    "                                           mode='max',\n",
    "                                           save_best_only=True)\n",
    "\n",
    "model5.fit(train_gen,epochs=10,validation_data=val_gen, callbacks=model_checkpoint_callback)"
   ]
  },
  {
   "cell_type": "markdown",
   "metadata": {},
   "source": [
    "model5.summary()"
   ]
  },
  {
   "cell_type": "markdown",
   "metadata": {},
   "source": [
    "#5th model iteration - added 1 extra convlution, reduced kernel size\n",
    "kernel = (8, 8)\n",
    "pool = (3, 3)\n",
    "\n",
    "model6 = models.Sequential()\n",
    "model6.add(layers.Conv2D(filters=32,\n",
    "                        kernel_size=kernel,\n",
    "                        activation='relu',\n",
    "                        input_shape=(128, 128, 1),\n",
    "                        padding='valid'))\n",
    "#hidden layers\n",
    "model6.add(layers.MaxPooling2D(pool_size=pool))\n",
    "model6.add(layers.Conv2D(128, kernel, activation='relu'))\n",
    "model6.add(layers.Conv2D(128, kernel, activation='relu'))\n",
    "model6.add(layers.MaxPooling2D(pool))\n",
    "model6.add(layers.Conv2D(128, kernel, activation='relu'))\n",
    "model6.add(layers.Flatten())\n",
    "model6.add(layers.Dense(128, activation='relu'))\n",
    "model6.add(layers.Dropout(rate=.25))\n",
    "#output layer\n",
    "model6.add(layers.Dense(3, activation='softmax'))\n",
    "\n",
    "#compiling and fitting the model\n",
    "model6.compile(optimizer='adam',\n",
    "              loss='categorical_crossentropy',\n",
    "              metrics=['accuracy'])\n",
    "\n",
    "#creating a save file for this model\n",
    "model_checkpoint_callback = ModelCheckpoint(filepath=\"./Checkpoints\",\n",
    "                                           save_weights_only=True,\n",
    "                                           monitor='val_accuracy',\n",
    "                                           mode='max',\n",
    "                                           save_best_only=True)\n",
    "\n",
    "model6.fit(train_gen,epochs=20,validation_data=val_gen, callbacks=model_checkpoint_callback)"
   ]
  },
  {
   "cell_type": "markdown",
   "metadata": {},
   "source": [
    "model6.summary()"
   ]
  },
  {
   "cell_type": "markdown",
   "metadata": {},
   "source": [
    "# Larger Image Sizes"
   ]
  },
  {
   "cell_type": "markdown",
   "metadata": {},
   "source": [
    "Due to the granularity typically involved in human interpretation of Chest X-ray images (i.e. identifying presence and patterns of infiltrate in the lungs) we are experimenting with increasing the size of the images to achieve greater precision. This poses a greater risk of overfitting, and increases training time, however, it is possible that using convolutions and pooling, our model may be able to aggregate and interpret this finer detail if tuned appropriately."
   ]
  },
  {
   "cell_type": "markdown",
   "metadata": {},
   "source": [
    "#training data processing using half length and width of original image size\n",
    "train_gen_0 = train_image.flow_from_directory(\n",
    "    directory='chest_xray/train', \n",
    "    target_size=(534, 381),color_mode='grayscale',\n",
    "    batch_size=64, \n",
    "    class_mode='categorical', subset='training', interpolation=\"lanczos\",\n",
    "    seed=42)\n",
    "\n",
    "#validation data processing using half length and width of original image size\n",
    "val_gen_0 = validation_image.flow_from_directory(\n",
    "    directory='chest_xray/train', \n",
    "    target_size=(534, 381),color_mode='grayscale',\n",
    "    batch_size=128, \n",
    "    class_mode='categorical', subset='validation', interpolation=\"lanczos\",\n",
    "    seed=42)"
   ]
  },
  {
   "cell_type": "markdown",
   "metadata": {},
   "source": [
    "#initial model using half length and width of original image size\n",
    "model7 = models.Sequential()\n",
    "\n",
    "#input layer\n",
    "model7.add(layers.Conv2D(filters=3,\n",
    "                        kernel_size=(20, 20),\n",
    "                        activation='swish',\n",
    "                        input_shape=(534, 381, 1)))\n",
    "model7.add(layers.Flatten())\n",
    "\n",
    "#hidden layers\n",
    "model7.add(layers.Dense(128, activation='swish'))\n",
    "model7.add(layers.Dense(64, activation='swish'))\n",
    "model7.add(layers.Dense(32, activation='swish'))\n",
    "\n",
    "#output layer\n",
    "model7.add(layers.Dense(3, activation='softmax'))\n",
    "\n",
    "#compile and compute\n",
    "model7.compile(optimizer='adam',\n",
    "              loss='categorical_crossentropy',\n",
    "              metrics=['accuracy', 'AUC'])\n",
    "#creating a save file for this model\n",
    "model_checkpoint_callback = ModelCheckpoint(filepath=\"./Checkpoints\",\n",
    "                                           save_weights_only=True,\n",
    "                                           monitor='val_accuracy',\n",
    "                                           mode='max',\n",
    "                                           save_best_only=True)\n",
    "\n",
    "model7.fit(train_gen_0, epochs=20, validation_data=val_gen_0, callbacks=model_checkpoint_callback)"
   ]
  },
  {
   "cell_type": "markdown",
   "metadata": {},
   "source": [
    "# Deep Models"
   ]
  },
  {
   "cell_type": "markdown",
   "metadata": {},
   "source": [
    "#Going Deeper\n",
    "model8 = models.Sequential()\n",
    "\n",
    "#input layer\n",
    "model8.add(layers.Conv2D(filters=32,\n",
    "                        kernel_size=(20, 20),\n",
    "                        activation='relu',\n",
    "                        input_shape=(128, 128, 1)))\n",
    "model8.add(layers.MaxPooling2D(pool_size=(2, 2)))\n",
    "\n",
    "#hidden layers\n",
    "model8.add(layers.Conv2D(32, (2, 2), activation='relu'))\n",
    "model8.add(layers.MaxPooling2D((2, 2)))\n",
    "model8.add(layers.Conv2D(32, (2, 2), activation='relu'))\n",
    "model8.add(layers.Flatten())\n",
    "model8.add(layers.Dense(64, activation='relu'))\n",
    "model8.add(layers.Dense(32, activation='relu'))\n",
    "model8.add(layers.Dense(16, activation='relu'))\n",
    "model8.add(layers.Dense(8, activation='relu'))\n",
    "\n",
    "#output layer\n",
    "model8.add(layers.Dense(3, activation='softmax'))\n",
    "\n",
    "#compile and compute\n",
    "model8.compile(optimizer='adam',\n",
    "              loss='categorical_crossentropy',\n",
    "              metrics=['accuracy', 'AUC'])\n",
    "#creating a save file for this model\n",
    "model_checkpoint_callback = ModelCheckpoint(filepath=\"./Checkpoints\",\n",
    "                                           save_weights_only=True,\n",
    "                                           monitor='val_accuracy',\n",
    "                                           mode='max',\n",
    "                                           save_best_only=True)\n",
    "\n",
    "model8.fit(train_gen, epochs=50, validation_data=val_gen, callbacks=model_checkpoint_callback)"
   ]
  },
  {
   "cell_type": "markdown",
   "metadata": {},
   "source": [
    "model8.summary()"
   ]
  },
  {
   "cell_type": "markdown",
   "metadata": {},
   "source": [
    "#Going Even Deeper\n",
    "model9 = models.Sequential()\n",
    "\n",
    "#input layer\n",
    "model9.add(layers.Conv2D(filters=32,\n",
    "                        kernel_size=(20, 20),\n",
    "                        activation='relu',\n",
    "                        input_shape=(128, 128, 1)))\n",
    "model9.add(layers.MaxPooling2D(pool_size=(2, 2)))\n",
    "\n",
    "#hidden layers\n",
    "model9.add(layers.Conv2D(32, (2, 2), activation='relu'))\n",
    "model9.add(layers.Flatten())\n",
    "#dense layers for interpretation\n",
    "model9.add(layers.Dense(64, activation=layers.LeakyReLU()))\n",
    "model9.add(layers.Dense(64, activation='relu'))\n",
    "model9.add(layers.Dense(64, activation=layers.LeakyReLU()))\n",
    "model9.add(layers.Dense(64, activation='relu'))\n",
    "model9.add(layers.Dropout(.5))\n",
    "model9.add(layers.Dense(64, activation=layers.LeakyReLU()))\n",
    "model9.add(layers.Dense(64, activation='relu'))\n",
    "model9.add(layers.Dropout(.5))\n",
    "model9.add(layers.Dense(64, activation=layers.LeakyReLU()))\n",
    "model9.add(layers.Dense(64, activation='relu'))\n",
    "\n",
    "#output layer\n",
    "model9.add(layers.Dense(3, activation='softmax'))\n",
    "\n",
    "#compile and compute\n",
    "model9.compile(optimizer='adam',\n",
    "              loss='categorical_crossentropy',\n",
    "              metrics=['accuracy', 'AUC'])\n",
    "#creating a save file for this model\n",
    "model_checkpoint_callback = ModelCheckpoint(filepath=\"./Checkpoints/cp.ckpt\",\n",
    "                                           save_weights_only=True,\n",
    "                                           monitor='val_accuracy',\n",
    "                                           mode='max',\n",
    "                                           save_best_only=True)\n",
    "\n",
    "model9.fit(train_gen, epochs=50, validation_data=val_gen, callbacks=model_checkpoint_callback)"
   ]
  },
  {
   "cell_type": "markdown",
   "metadata": {},
   "source": [
    "# Final Multiclass Model"
   ]
  },
  {
   "cell_type": "code",
   "execution_count": 6,
   "metadata": {},
   "outputs": [
    {
     "name": "stdout",
     "output_type": "stream",
     "text": [
      "Epoch 1/30\n",
      "131/131 [==============================] - 60s 461ms/step - loss: 0.9021 - accuracy: 0.5815 - auc: 0.7586 - val_loss: 0.9760 - val_accuracy: 0.6067 - val_auc: 0.7586\n",
      "Epoch 2/30\n",
      "131/131 [==============================] - 61s 468ms/step - loss: 0.6260 - accuracy: 0.7296 - auc: 0.8887 - val_loss: 0.5880 - val_accuracy: 0.7598 - val_auc: 0.9093\n",
      "Epoch 3/30\n",
      "131/131 [==============================] - 65s 495ms/step - loss: 0.5799 - accuracy: 0.7465 - auc: 0.9030 - val_loss: 0.6501 - val_accuracy: 0.7378 - val_auc: 0.8913\n",
      "Epoch 4/30\n",
      "131/131 [==============================] - 64s 486ms/step - loss: 0.5526 - accuracy: 0.7637 - auc: 0.9128 - val_loss: 0.7297 - val_accuracy: 0.7120 - val_auc: 0.8692\n",
      "Epoch 5/30\n",
      "131/131 [==============================] - 64s 491ms/step - loss: 0.5274 - accuracy: 0.7661 - auc: 0.9193 - val_loss: 0.6127 - val_accuracy: 0.7321 - val_auc: 0.9039\n",
      "Epoch 6/30\n",
      "131/131 [==============================] - 63s 484ms/step - loss: 0.5087 - accuracy: 0.7769 - auc: 0.9241 - val_loss: 0.5141 - val_accuracy: 0.7828 - val_auc: 0.9267\n",
      "Epoch 7/30\n",
      "131/131 [==============================] - 66s 504ms/step - loss: 0.5054 - accuracy: 0.7738 - auc: 0.9251 - val_loss: 0.5672 - val_accuracy: 0.7684 - val_auc: 0.9144\n",
      "Epoch 8/30\n",
      "131/131 [==============================] - 66s 505ms/step - loss: 0.4899 - accuracy: 0.7831 - auc: 0.9290 - val_loss: 0.4812 - val_accuracy: 0.7923 - val_auc: 0.9333\n",
      "Epoch 9/30\n",
      "131/131 [==============================] - 65s 493ms/step - loss: 0.4821 - accuracy: 0.7883 - auc: 0.9317 - val_loss: 0.5001 - val_accuracy: 0.7866 - val_auc: 0.9285\n",
      "Epoch 10/30\n",
      "131/131 [==============================] - 63s 481ms/step - loss: 0.4701 - accuracy: 0.7989 - auc: 0.9345 - val_loss: 0.5057 - val_accuracy: 0.7828 - val_auc: 0.9272\n",
      "Epoch 11/30\n",
      "131/131 [==============================] - 65s 494ms/step - loss: 0.4667 - accuracy: 0.8020 - auc: 0.9347 - val_loss: 0.4695 - val_accuracy: 0.7952 - val_auc: 0.9347\n",
      "Epoch 12/30\n",
      "131/131 [==============================] - 64s 487ms/step - loss: 0.4607 - accuracy: 0.7998 - auc: 0.9361 - val_loss: 0.4564 - val_accuracy: 0.7904 - val_auc: 0.9395\n",
      "Epoch 13/30\n",
      "131/131 [==============================] - 65s 494ms/step - loss: 0.4479 - accuracy: 0.8041 - auc: 0.9394 - val_loss: 0.4640 - val_accuracy: 0.7981 - val_auc: 0.9361\n",
      "Epoch 14/30\n",
      "131/131 [==============================] - 64s 488ms/step - loss: 0.4507 - accuracy: 0.8041 - auc: 0.9394 - val_loss: 0.4701 - val_accuracy: 0.7780 - val_auc: 0.9356\n",
      "Epoch 15/30\n",
      "131/131 [==============================] - 66s 501ms/step - loss: 0.4371 - accuracy: 0.8058 - auc: 0.9428 - val_loss: 0.4461 - val_accuracy: 0.7990 - val_auc: 0.9414\n",
      "Epoch 16/30\n",
      "131/131 [==============================] - 64s 491ms/step - loss: 0.4359 - accuracy: 0.8103 - auc: 0.9436 - val_loss: 0.4558 - val_accuracy: 0.7971 - val_auc: 0.9391\n",
      "Epoch 17/30\n",
      "131/131 [==============================] - 62s 475ms/step - loss: 0.4346 - accuracy: 0.8120 - auc: 0.9432 - val_loss: 0.4790 - val_accuracy: 0.7895 - val_auc: 0.9351\n",
      "Epoch 18/30\n",
      "131/131 [==============================] - 65s 494ms/step - loss: 0.4232 - accuracy: 0.8189 - auc: 0.9460 - val_loss: 0.4441 - val_accuracy: 0.8144 - val_auc: 0.9434\n",
      "Epoch 19/30\n",
      "131/131 [==============================] - 64s 489ms/step - loss: 0.4259 - accuracy: 0.8122 - auc: 0.9459 - val_loss: 0.4659 - val_accuracy: 0.8029 - val_auc: 0.9388\n",
      "Epoch 20/30\n",
      "131/131 [==============================] - 64s 490ms/step - loss: 0.4212 - accuracy: 0.8101 - auc: 0.9471 - val_loss: 0.4309 - val_accuracy: 0.8077 - val_auc: 0.9454\n",
      "Epoch 21/30\n",
      "131/131 [==============================] - 63s 479ms/step - loss: 0.4271 - accuracy: 0.8118 - auc: 0.9452 - val_loss: 0.4494 - val_accuracy: 0.8010 - val_auc: 0.9408\n",
      "Epoch 22/30\n",
      "131/131 [==============================] - 63s 483ms/step - loss: 0.4164 - accuracy: 0.8115 - auc: 0.9478 - val_loss: 0.4591 - val_accuracy: 0.7990 - val_auc: 0.9395\n",
      "Epoch 23/30\n",
      "131/131 [==============================] - 63s 478ms/step - loss: 0.4072 - accuracy: 0.8232 - auc: 0.9499 - val_loss: 0.4419 - val_accuracy: 0.8077 - val_auc: 0.9431\n",
      "Epoch 24/30\n",
      "131/131 [==============================] - 63s 482ms/step - loss: 0.4172 - accuracy: 0.8141 - auc: 0.9476 - val_loss: 0.4325 - val_accuracy: 0.8086 - val_auc: 0.9461\n",
      "Epoch 25/30\n",
      "131/131 [==============================] - 62s 476ms/step - loss: 0.4064 - accuracy: 0.8215 - auc: 0.9506 - val_loss: 0.4489 - val_accuracy: 0.8172 - val_auc: 0.9437\n",
      "Epoch 26/30\n",
      "131/131 [==============================] - 62s 472ms/step - loss: 0.4016 - accuracy: 0.8266 - auc: 0.9514 - val_loss: 0.4638 - val_accuracy: 0.8115 - val_auc: 0.9430\n",
      "Epoch 27/30\n",
      "131/131 [==============================] - 62s 476ms/step - loss: 0.3930 - accuracy: 0.8290 - auc: 0.9535 - val_loss: 0.4421 - val_accuracy: 0.8057 - val_auc: 0.9433\n",
      "Epoch 28/30\n",
      "131/131 [==============================] - 62s 471ms/step - loss: 0.3861 - accuracy: 0.8297 - auc: 0.9549 - val_loss: 0.4444 - val_accuracy: 0.8115 - val_auc: 0.9436\n",
      "Epoch 29/30\n",
      "131/131 [==============================] - 62s 474ms/step - loss: 0.3936 - accuracy: 0.8239 - auc: 0.9533 - val_loss: 0.4364 - val_accuracy: 0.8038 - val_auc: 0.9442\n",
      "Epoch 30/30\n",
      "131/131 [==============================] - 62s 470ms/step - loss: 0.3788 - accuracy: 0.8387 - auc: 0.9566 - val_loss: 0.4556 - val_accuracy: 0.8038 - val_auc: 0.9409\n"
     ]
    }
   ],
   "source": [
    "#Went too deep - trying new activation function in hidden layers\n",
    "model0 = models.Sequential()\n",
    "\n",
    "#input layer\n",
    "model0.add(layers.Conv2D(filters=16,\n",
    "                        kernel_size=(3, 3),\n",
    "                        activation='relu',\n",
    "                        input_shape=(128, 128, 1)))\n",
    "model0.add(layers.MaxPooling2D(pool_size=(3, 3)))\n",
    "\n",
    "#hidden layers\n",
    "model0.add(layers.Conv2D(32, (3, 3), activation='swish'))\n",
    "model0.add(layers.MaxPooling2D((3, 3)))\n",
    "model0.add(layers.Conv2D(32, (3, 3), activation='swish'))\n",
    "model0.add(layers.Flatten())\n",
    "model0.add(layers.Dense(64, activation='swish'))\n",
    "model0.add(layers.Dense(32, activation='swish'))\n",
    "model0.add(layers.Dense(16, activation='swish'))\n",
    "model0.add(layers.Dense(8, activation='swish'))\n",
    "\n",
    "#output layer\n",
    "model0.add(layers.Dense(3, activation='softmax'))\n",
    "\n",
    "#compile and compute\n",
    "model0.compile(optimizer='adam',\n",
    "              loss='categorical_crossentropy',\n",
    "              metrics=['accuracy', 'AUC'])\n",
    "#creating a save file for this model\n",
    "model_checkpoint_callback = ModelCheckpoint(filepath=\"./Checkpoints/cp.ckpt\",\n",
    "                                           save_weights_only=True,\n",
    "                                           monitor='val_accuracy',\n",
    "                                           mode='max',\n",
    "                                           save_best_only=True)\n",
    "\n",
    "multi_history = model0.fit(train_gen, epochs=30, validation_data=val_gen, callbacks=model_checkpoint_callback)"
   ]
  },
  {
   "cell_type": "markdown",
   "metadata": {},
   "source": [
    "# Binary Classification"
   ]
  },
  {
   "cell_type": "markdown",
   "metadata": {},
   "source": [
    "Link to Binary Classification Repo: https://github.com/StefanoCaruso456/Pediatric_Pneumonia_Binary.git"
   ]
  },
  {
   "cell_type": "code",
   "execution_count": 7,
   "metadata": {},
   "outputs": [],
   "source": [
    "#see secondary repo - binary classification model adapted from Stefano's work in separate repository\n",
    "#creating image data generators to convert images to numpy pixel arrays\n",
    "train_image_binary = ImageDataGenerator(rescale=1/255, zoom_range=0.3, vertical_flip=True, validation_split=0.2)\n",
    "val_image_binary = ImageDataGenerator(rescale=1/255, zoom_range=0.3, vertical_flip=True, validation_split=0.2)\n",
    "test_image_binary = ImageDataGenerator(rescale=1/255)"
   ]
  },
  {
   "cell_type": "code",
   "execution_count": 8,
   "metadata": {},
   "outputs": [
    {
     "name": "stdout",
     "output_type": "stream",
     "text": [
      "Found 4499 images belonging to 2 classes.\n",
      "Found 1123 images belonging to 2 classes.\n",
      "Found 624 images belonging to 2 classes.\n"
     ]
    }
   ],
   "source": [
    "#data generators for binary classifier\n",
    "train_gen_binary = train_image_binary.flow_from_directory(\n",
    "    directory='CXR_Binary/train', \n",
    "    target_size=(128, 128),color_mode='grayscale',\n",
    "    batch_size=32, \n",
    "    class_mode='categorical', subset='training', interpolation=\"lanczos\",\n",
    "    shuffle=True,\n",
    "    seed=42)\n",
    "\n",
    "val_gen_binary = val_image_binary.flow_from_directory(\n",
    "    directory='CXR_Binary/train', \n",
    "    target_size=(128, 128),color_mode='grayscale',\n",
    "    batch_size=32, \n",
    "    class_mode='categorical', subset='validation',interpolation=\"lanczos\",\n",
    "    shuffle=True,\n",
    "    seed=42)\n",
    "\n",
    "test_gen_binary = test_image_binary.flow_from_directory(\n",
    "    directory='CXR_Binary/test', \n",
    "    target_size=(128, 128),color_mode='grayscale', \n",
    "    batch_size=32, \n",
    "    class_mode='categorical',interpolation=\"lanczos\",\n",
    "    shuffle=False,\n",
    "    seed=42)"
   ]
  },
  {
   "cell_type": "code",
   "execution_count": 9,
   "metadata": {},
   "outputs": [
    {
     "name": "stdout",
     "output_type": "stream",
     "text": [
      "Epoch 1/30\n",
      "141/141 [==============================] - 90s 640ms/step - loss: 0.4622 - accuracy: 0.7948 - val_loss: 0.3270 - val_accuracy: 0.8566\n",
      "Epoch 2/30\n",
      "141/141 [==============================] - 84s 598ms/step - loss: 0.3715 - accuracy: 0.8477 - val_loss: 0.3131 - val_accuracy: 0.8611\n",
      "Epoch 3/30\n",
      "141/141 [==============================] - 86s 607ms/step - loss: 0.3321 - accuracy: 0.8593 - val_loss: 0.2997 - val_accuracy: 0.8620\n",
      "Epoch 4/30\n",
      "141/141 [==============================] - 85s 600ms/step - loss: 0.3123 - accuracy: 0.8717 - val_loss: 0.2789 - val_accuracy: 0.8771\n",
      "Epoch 5/30\n",
      "141/141 [==============================] - 89s 630ms/step - loss: 0.2679 - accuracy: 0.8871 - val_loss: 0.2220 - val_accuracy: 0.9056\n",
      "Epoch 6/30\n",
      "141/141 [==============================] - 85s 600ms/step - loss: 0.2403 - accuracy: 0.9062 - val_loss: 0.1976 - val_accuracy: 0.9216\n",
      "Epoch 7/30\n",
      "141/141 [==============================] - 83s 588ms/step - loss: 0.2276 - accuracy: 0.9115 - val_loss: 0.1810 - val_accuracy: 0.9323\n",
      "Epoch 8/30\n",
      "141/141 [==============================] - 86s 608ms/step - loss: 0.2123 - accuracy: 0.9182 - val_loss: 0.1740 - val_accuracy: 0.9368\n",
      "Epoch 9/30\n",
      "141/141 [==============================] - 83s 590ms/step - loss: 0.2295 - accuracy: 0.9075 - val_loss: 0.1875 - val_accuracy: 0.9199\n",
      "Epoch 10/30\n",
      "141/141 [==============================] - 82s 581ms/step - loss: 0.1928 - accuracy: 0.9211 - val_loss: 0.1409 - val_accuracy: 0.9501\n",
      "Epoch 11/30\n",
      "141/141 [==============================] - 82s 581ms/step - loss: 0.1975 - accuracy: 0.9226 - val_loss: 0.1661 - val_accuracy: 0.9350\n",
      "Epoch 12/30\n",
      "141/141 [==============================] - 83s 588ms/step - loss: 0.2110 - accuracy: 0.9200 - val_loss: 0.1907 - val_accuracy: 0.9403\n",
      "Epoch 13/30\n",
      "141/141 [==============================] - 84s 593ms/step - loss: 0.1906 - accuracy: 0.9289 - val_loss: 0.1353 - val_accuracy: 0.9457\n",
      "Epoch 14/30\n",
      "141/141 [==============================] - 83s 591ms/step - loss: 0.1906 - accuracy: 0.9249 - val_loss: 0.1419 - val_accuracy: 0.9421\n",
      "Epoch 15/30\n",
      "141/141 [==============================] - 84s 595ms/step - loss: 0.1731 - accuracy: 0.9327 - val_loss: 0.1806 - val_accuracy: 0.9270\n",
      "Epoch 16/30\n",
      "141/141 [==============================] - 87s 614ms/step - loss: 0.1712 - accuracy: 0.9331 - val_loss: 0.1360 - val_accuracy: 0.9501\n",
      "Epoch 17/30\n",
      "141/141 [==============================] - 85s 601ms/step - loss: 0.1610 - accuracy: 0.9373 - val_loss: 0.1467 - val_accuracy: 0.9457\n",
      "Epoch 18/30\n",
      "141/141 [==============================] - 86s 610ms/step - loss: 0.1589 - accuracy: 0.9382 - val_loss: 0.1262 - val_accuracy: 0.9528\n",
      "Epoch 19/30\n",
      "141/141 [==============================] - 86s 607ms/step - loss: 0.1615 - accuracy: 0.9402 - val_loss: 0.1539 - val_accuracy: 0.9412\n",
      "Epoch 20/30\n",
      "141/141 [==============================] - 86s 610ms/step - loss: 0.1521 - accuracy: 0.9433 - val_loss: 0.1148 - val_accuracy: 0.9555\n",
      "Epoch 21/30\n",
      "141/141 [==============================] - 87s 618ms/step - loss: 0.1523 - accuracy: 0.9404 - val_loss: 0.1224 - val_accuracy: 0.9573\n",
      "Epoch 22/30\n",
      "141/141 [==============================] - 92s 652ms/step - loss: 0.1513 - accuracy: 0.9431 - val_loss: 0.1286 - val_accuracy: 0.9528\n",
      "Epoch 23/30\n",
      "141/141 [==============================] - 90s 639ms/step - loss: 0.1442 - accuracy: 0.9422 - val_loss: 0.1372 - val_accuracy: 0.9501\n",
      "Epoch 24/30\n",
      "141/141 [==============================] - 87s 616ms/step - loss: 0.1441 - accuracy: 0.9478 - val_loss: 0.1218 - val_accuracy: 0.9519\n",
      "Epoch 25/30\n",
      "141/141 [==============================] - 88s 625ms/step - loss: 0.1408 - accuracy: 0.9475 - val_loss: 0.1275 - val_accuracy: 0.9492\n",
      "Epoch 26/30\n",
      "141/141 [==============================] - 88s 627ms/step - loss: 0.1272 - accuracy: 0.9527 - val_loss: 0.1260 - val_accuracy: 0.9510\n",
      "Epoch 27/30\n",
      "141/141 [==============================] - 89s 632ms/step - loss: 0.1365 - accuracy: 0.9513 - val_loss: 0.1145 - val_accuracy: 0.9546\n",
      "Epoch 28/30\n",
      "141/141 [==============================] - 86s 609ms/step - loss: 0.1354 - accuracy: 0.9467 - val_loss: 0.1315 - val_accuracy: 0.9492\n",
      "Epoch 29/30\n",
      "141/141 [==============================] - 86s 609ms/step - loss: 0.1348 - accuracy: 0.9473 - val_loss: 0.1163 - val_accuracy: 0.9501\n",
      "Epoch 30/30\n",
      "141/141 [==============================] - 86s 608ms/step - loss: 0.1222 - accuracy: 0.9533 - val_loss: 0.0964 - val_accuracy: 0.9697\n"
     ]
    }
   ],
   "source": [
    "#Final Binary Model\n",
    "model_binary = models.Sequential()\n",
    "model_binary.add(layers.Conv2D(filters=10,\n",
    "                        kernel_size=(3, 3),\n",
    "                        activation='swish',\n",
    "                        input_shape=(128, 128, 1)))\n",
    "model_binary.add(layers.MaxPooling2D(pool_size=(2, 2)))\n",
    "model_binary.add(layers.Conv2D(64, (3, 3), activation='swish'))\n",
    "model_binary.add(layers.MaxPooling2D((2, 2)))\n",
    "model_binary.add(layers.Conv2D(32, (3, 3), activation='swish'))\n",
    "model_binary.add(layers.Flatten())\n",
    "model_binary.add(layers.Dense(16, activation='swish'))\n",
    "model_binary.add(layers.Dense(2, activation='sigmoid'))\n",
    "\n",
    "model_binary.compile(optimizer='adam',\n",
    "              loss='binary_crossentropy',\n",
    "              metrics=['accuracy'])\n",
    "\n",
    "binary_history = model_binary.fit(train_gen_binary,epochs=30, batch_size=32,validation_data=val_gen_binary)"
   ]
  },
  {
   "cell_type": "markdown",
   "metadata": {},
   "source": [
    "# Evaluation"
   ]
  },
  {
   "cell_type": "markdown",
   "metadata": {},
   "source": [
    "Below are the metrics used to evaluate each model. Training rates are shown below. Predictions were evaluated on the core components we optimized for and confusion matrices were generated to assess error types in our models."
   ]
  },
  {
   "cell_type": "code",
   "execution_count": 10,
   "metadata": {},
   "outputs": [
    {
     "data": {
      "image/png": "[encoded data removed]",
      "text/plain": [
       "<Figure size 720x360 with 2 Axes>"
      ]
     },
     "metadata": {
      "needs_background": "light"
     },
     "output_type": "display_data"
    }
   ],
   "source": [
    "#import library for visuals\n",
    "import seaborn as sns\n",
    "\n",
    "#training charts for binary model\n",
    "train_loss_binary = binary_history.history['loss']\n",
    "train_acc_binary = binary_history.history['accuracy']\n",
    "val_loss_binary = binary_history.history['val_loss']\n",
    "val_acc_binary = binary_history.history['val_accuracy']\n",
    "\n",
    "\n",
    "fig, (ax1, ax2) = plt.subplots(1, 2, figsize=(10, 5))\n",
    "sns.lineplot(x=binary_history.epoch, y=train_loss_binary, ax=ax1, label='train_loss_binary')\n",
    "sns.lineplot(x=binary_history.epoch, y=train_acc_binary, ax=ax2, label='train_acc_binary')\n",
    "\n",
    "sns.lineplot(x=binary_history.epoch, y=val_loss_binary, ax=ax1, label='val_loss_binary')\n",
    "sns.lineplot(x=binary_history.epoch, y=val_acc_binary, ax=ax2, label='val_acc_binary');"
   ]
  },
  {
   "cell_type": "code",
   "execution_count": 11,
   "metadata": {},
   "outputs": [
    {
     "data": {
      "image/png": "[encoded data removed]",
      "text/plain": [
       "<Figure size 720x360 with 2 Axes>"
      ]
     },
     "metadata": {
      "needs_background": "light"
     },
     "output_type": "display_data"
    }
   ],
   "source": [
    "#training charts for multiclass model\n",
    "train_loss_multi = multi_history.history['loss']\n",
    "train_acc_multi = multi_history.history['accuracy']\n",
    "val_loss_multi = multi_history.history['val_loss']\n",
    "val_acc_multi = multi_history.history['val_accuracy']\n",
    "\n",
    "\n",
    "fig, (ax1, ax2) = plt.subplots(1, 2, figsize=(10, 5))\n",
    "sns.lineplot(x=multi_history.epoch, y=train_loss_multi, ax=ax1, label='train_loss_multi')\n",
    "sns.lineplot(x=multi_history.epoch, y=train_acc_multi, ax=ax2, label='train_acc_multi')\n",
    "\n",
    "sns.lineplot(x=multi_history.epoch, y=val_loss_multi, ax=ax1, label='val_loss_multi')\n",
    "sns.lineplot(x=multi_history.epoch, y=val_acc_multi, ax=ax2, label='val_acc_multi');"
   ]
  },
  {
   "cell_type": "code",
   "execution_count": 12,
   "metadata": {},
   "outputs": [
    {
     "name": "stdout",
     "output_type": "stream",
     "text": [
      "20/20 [==============================] - 7s 344ms/step - loss: 0.2729 - accuracy: 0.9103\n",
      "20/20 [==============================] - 8s 402ms/step - loss: 0.5931 - accuracy: 0.8333 - auc: 0.9250\n"
     ]
    }
   ],
   "source": [
    "#pull out test metrics\n",
    "test_loss_binary, test_acc_binary = model_binary.evaluate(test_gen_binary)\n",
    "test_loss_multi, test_acc_multi, test_auc = model0.evaluate(test_gen)"
   ]
  },
  {
   "cell_type": "code",
   "execution_count": 13,
   "metadata": {},
   "outputs": [],
   "source": [
    "#prediction probabilities\n",
    "y_binary = model_binary.predict(test_gen_binary)\n",
    "y_multi = model0.predict(test_gen)"
   ]
  },
  {
   "cell_type": "code",
   "execution_count": 14,
   "metadata": {},
   "outputs": [
    {
     "data": {
      "text/plain": [
       "array([[8.2432902e-01, 2.1679797e-03, 1.7350303e-01],\n",
       "       [5.9717196e-01, 7.7833552e-03, 3.9504465e-01],\n",
       "       [9.0304869e-01, 2.3197846e-03, 9.4631493e-02],\n",
       "       ...,\n",
       "       [6.9295841e-01, 9.0833576e-03, 2.9795820e-01],\n",
       "       [3.2401311e-01, 5.6518393e-04, 6.7542171e-01],\n",
       "       [1.9526047e-01, 5.0246934e-05, 8.0468929e-01]], dtype=float32)"
      ]
     },
     "execution_count": 14,
     "metadata": {},
     "output_type": "execute_result"
    }
   ],
   "source": [
    "y_multi"
   ]
  },
  {
   "cell_type": "markdown",
   "metadata": {},
   "source": [
    "confusion matrix"
   ]
  },
  {
   "cell_type": "code",
   "execution_count": 20,
   "metadata": {},
   "outputs": [],
   "source": [
    "#imports\n",
    "from sklearn.metrics import confusion_matrix, ConfusionMatrixDisplay, recall_score"
   ]
  },
  {
   "cell_type": "code",
   "execution_count": 29,
   "metadata": {},
   "outputs": [],
   "source": [
    "#predictions\n",
    "bin_pred = np.argmax(y_binary, axis=-1)\n",
    "multi_pred = np.argmax(y_multi, axis=-1)\n",
    "#labels\n",
    "bin_true = test_gen_binary.labels\n",
    "multi_true = test_gen.labels"
   ]
  },
  {
   "cell_type": "code",
   "execution_count": 30,
   "metadata": {},
   "outputs": [
    {
     "data": {
      "text/plain": [
       "array([1, 0, 0, 0, 0, 0, 0, 1, 1, 0, 0, 1, 0, 0, 1, 0, 1, 1, 0, 0, 0, 0,\n",
       "       1, 0, 0, 1, 0, 1, 1, 1, 0, 0, 0, 0, 0, 0, 0, 1, 0, 0, 0, 0, 0, 0,\n",
       "       0, 0, 1, 0, 0, 0, 0, 0, 0, 0, 0, 0, 1, 0, 0, 1, 0, 0, 0, 1, 0, 1,\n",
       "       0, 0, 0, 0, 1, 0, 0, 0, 1, 0, 0, 0, 0, 0, 0, 0, 0, 0, 0, 1, 0, 0,\n",
       "       0, 0, 1, 0, 1, 1, 1, 0, 0, 0, 0, 0, 0, 0, 0, 0, 0, 0, 0, 0, 0, 0,\n",
       "       0, 1, 0, 0, 0, 0, 0, 0, 0, 1, 0, 0, 0, 0, 0, 1, 0, 0, 0, 0, 0, 0,\n",
       "       0, 0, 1, 0, 0, 0, 0, 0, 0, 0, 0, 0, 0, 0, 1, 0, 1, 0, 0, 0, 0, 1,\n",
       "       0, 0, 0, 0, 0, 1, 1, 1, 0, 0, 0, 1, 0, 1, 0, 0, 1, 0, 1, 0, 0, 1,\n",
       "       1, 0, 0, 0, 0, 1, 0, 0, 1, 0, 0, 1, 0, 1, 0, 0, 1, 0, 0, 0, 0, 0,\n",
       "       1, 0, 0, 0, 1, 0, 0, 0, 0, 0, 0, 0, 0, 0, 0, 1, 0, 0, 0, 1, 0, 0,\n",
       "       0, 0, 0, 1, 0, 0, 0, 0, 0, 0, 0, 0, 0, 0, 1, 1, 1, 1, 1, 1, 1, 1,\n",
       "       1, 1, 1, 1, 1, 1, 1, 1, 1, 1, 1, 1, 1, 1, 1, 1, 1, 1, 1, 1, 1, 1,\n",
       "       1, 1, 1, 1, 1, 1, 1, 1, 1, 1, 1, 1, 1, 1, 1, 1, 1, 1, 1, 1, 1, 1,\n",
       "       1, 1, 1, 1, 1, 1, 1, 1, 1, 1, 1, 1, 1, 1, 1, 1, 1, 1, 1, 1, 1, 1,\n",
       "       1, 1, 1, 1, 1, 1, 1, 1, 1, 1, 1, 1, 1, 1, 1, 1, 1, 1, 1, 1, 1, 1,\n",
       "       1, 1, 1, 1, 1, 1, 1, 1, 1, 1, 1, 1, 1, 1, 1, 1, 1, 1, 1, 1, 1, 1,\n",
       "       1, 1, 1, 1, 1, 1, 1, 1, 1, 1, 1, 1, 1, 1, 1, 1, 1, 1, 1, 1, 1, 1,\n",
       "       1, 1, 1, 1, 1, 1, 1, 1, 1, 1, 1, 1, 1, 1, 1, 1, 1, 1, 1, 1, 1, 1,\n",
       "       1, 1, 1, 1, 1, 1, 1, 1, 1, 1, 1, 1, 1, 1, 1, 1, 1, 1, 1, 1, 1, 1,\n",
       "       1, 0, 1, 1, 1, 1, 1, 1, 1, 1, 1, 1, 1, 1, 1, 1, 1, 1, 1, 1, 1, 1,\n",
       "       1, 1, 1, 1, 1, 1, 1, 1, 1, 1, 1, 1, 1, 1, 1, 1, 1, 1, 1, 1, 1, 1,\n",
       "       1, 1, 1, 1, 1, 1, 1, 1, 1, 0, 1, 1, 1, 1, 1, 1, 1, 1, 1, 1, 1, 1,\n",
       "       1, 1, 1, 1, 1, 1, 1, 1, 1, 1, 1, 1, 1, 1, 0, 1, 1, 1, 1, 1, 1, 1,\n",
       "       1, 1, 1, 1, 0, 1, 1, 1, 1, 1, 1, 1, 1, 1, 1, 1, 1, 1, 1, 1, 1, 1,\n",
       "       1, 0, 1, 1, 1, 1, 1, 1, 1, 1, 1, 1, 1, 1, 1, 1, 1, 1, 1, 1, 1, 1,\n",
       "       1, 1, 1, 1, 1, 1, 1, 1, 1, 1, 1, 1, 1, 1, 1, 1, 1, 1, 1, 1, 1, 1,\n",
       "       1, 1, 1, 1, 1, 1, 1, 1, 1, 1, 1, 1, 1, 1, 1, 1, 1, 1, 1, 1, 1, 1,\n",
       "       1, 1, 1, 1, 1, 1, 1, 1, 1, 1, 1, 1, 1, 1, 1, 1, 1, 1, 1, 1, 1, 1,\n",
       "       1, 1, 1, 1, 1, 1, 1, 1], dtype=int64)"
      ]
     },
     "execution_count": 30,
     "metadata": {},
     "output_type": "execute_result"
    }
   ],
   "source": [
    "bin_pred"
   ]
  },
  {
   "cell_type": "code",
   "execution_count": 33,
   "metadata": {},
   "outputs": [
    {
     "data": {
      "text/plain": [
       "<sklearn.metrics._plot.confusion_matrix.ConfusionMatrixDisplay at 0x1738582fc70>"
      ]
     },
     "execution_count": 33,
     "metadata": {},
     "output_type": "execute_result"
    },
    {
     "data": {
      "image/png": "[encoded data removed]",
      "text/plain": [
       "<Figure size 432x288 with 2 Axes>"
      ]
     },
     "metadata": {
      "needs_background": "light"
     },
     "output_type": "display_data"
    }
   ],
   "source": [
    "#binary confusion matrix\n",
    "matrix = confusion_matrix(bin_true, bin_pred)\n",
    "binary_matrix = ConfusionMatrixDisplay(matrix)\n",
    "binary_matrix.plot()"
   ]
  },
  {
   "cell_type": "code",
   "execution_count": 35,
   "metadata": {},
   "outputs": [
    {
     "data": {
      "text/plain": [
       "0.9871794871794872"
      ]
     },
     "execution_count": 35,
     "metadata": {},
     "output_type": "execute_result"
    }
   ],
   "source": [
    "recall_score(bin_true, bin_pred)"
   ]
  },
  {
   "cell_type": "code",
   "execution_count": 34,
   "metadata": {},
   "outputs": [
    {
     "data": {
      "text/plain": [
       "<sklearn.metrics._plot.confusion_matrix.ConfusionMatrixDisplay at 0x17381a38400>"
      ]
     },
     "execution_count": 34,
     "metadata": {},
     "output_type": "execute_result"
    },
    {
     "data": {
      "image/png": "[encoded data removed]",
      "text/plain": [
       "<Figure size 432x288 with 2 Axes>"
      ]
     },
     "metadata": {
      "needs_background": "light"
     },
     "output_type": "display_data"
    }
   ],
   "source": [
    "#multi confusion matrix\n",
    "matrix = confusion_matrix(multi_true, multi_pred)\n",
    "multi_matrix = ConfusionMatrixDisplay(matrix)\n",
    "multi_matrix.plot()"
   ]
  },
  {
   "cell_type": "markdown",
   "metadata": {},
   "source": [
    "# Discussion"
   ]
  },
  {
   "cell_type": "markdown",
   "metadata": {},
   "source": [
    "Generally, accuracy performance of models noted during evaluation suggests that extending training epochs may yield small further improvements in the model performance. However, additional changes to the network structure would likely yield larger improvements. \n",
    "\n",
    "Despite optimizing for accuracy, our models demonstrate an aggressive sensitivity and tend to make more type 1 errors (false positive) than type 2 (false negative). While this is favorable for our use case, it may represent an issue with class imbalance in our data since bacterial pneumonia alone makes up nearly 50% of the provided CXRs. Thus, our model has a tendency to classify images as \"pneumonia\" and \"bacterial pneumonia\" more frequently than actually occurs in the data. The downstream implications of this type of error are less harmful than other types, but future development should seek to eliminate these errors."
   ]
  },
  {
   "cell_type": "markdown",
   "metadata": {},
   "source": [
    "# Sample Image to demonstrate use of probabilities, etc."
   ]
  },
  {
   "cell_type": "markdown",
   "metadata": {},
   "source": [
    "Here we copied an image over to a new directory and ran it through our multiclass model to demonstrate what would be provided to a potential radiologist using our model. The demonstration was included in the non-technical presentation slides found in this repository."
   ]
  },
  {
   "cell_type": "code",
   "execution_count": 15,
   "metadata": {},
   "outputs": [
    {
     "name": "stdout",
     "output_type": "stream",
     "text": [
      "Found 1 images belonging to 3 classes.\n"
     ]
    }
   ],
   "source": [
    "#sample image import\n",
    "sample_gen = test_image.flow_from_directory(\n",
    "    directory='chest_xray/sample', \n",
    "    target_size=(128, 128), color_mode='grayscale', \n",
    "    batch_size=1, \n",
    "    class_mode='categorical', interpolation=\"lanczos\",\n",
    "    seed=42)"
   ]
  },
  {
   "cell_type": "code",
   "execution_count": 16,
   "metadata": {},
   "outputs": [
    {
     "data": {
      "text/plain": [
       "array([[8.1123459e-01, 9.3937706e-05, 1.8867151e-01]], dtype=float32)"
      ]
     },
     "execution_count": 16,
     "metadata": {},
     "output_type": "execute_result"
    }
   ],
   "source": [
    "model0.predict(sample_gen)"
   ]
  },
  {
   "cell_type": "code",
   "execution_count": 17,
   "metadata": {},
   "outputs": [],
   "source": [
    "import matplotlib.image as mpimg"
   ]
  },
  {
   "cell_type": "code",
   "execution_count": 18,
   "metadata": {},
   "outputs": [],
   "source": [
    "img = mpimg.imread(\"./chest_xray/sample/BACTERIA/BACTERIA-2034017-0005.jpeg\")"
   ]
  },
  {
   "cell_type": "code",
   "execution_count": 19,
   "metadata": {},
   "outputs": [
    {
     "data": {
      "text/plain": [
       "<matplotlib.image.AxesImage at 0x17381dbf6a0>"
      ]
     },
     "execution_count": 19,
     "metadata": {},
     "output_type": "execute_result"
    },
    {
     "data": {
      "image/png": "[encoded data removed]",
      "text/plain": [
       "<Figure size 432x288 with 1 Axes>"
      ]
     },
     "metadata": {
      "needs_background": "light"
     },
     "output_type": "display_data"
    }
   ],
   "source": [
    "plt.imshow(img)"
   ]
  },
  {
   "cell_type": "code",
   "execution_count": null,
   "metadata": {},
   "outputs": [],
   "source": []
  }
 ],
 "metadata": {
  "kernelspec": {
   "display_name": "Python (learn-env)",
   "language": "python",
   "name": "learn-env"
  },
  "language_info": {
   "codemirror_mode": {
    "name": "ipython",
    "version": 3
   },
   "file_extension": ".py",
   "mimetype": "text/x-python",
   "name": "python",
   "nbconvert_exporter": "python",
   "pygments_lexer": "ipython3",
   "version": "3.8.5"
  }
 },
 "nbformat": 4,
 "nbformat_minor": 4
}
