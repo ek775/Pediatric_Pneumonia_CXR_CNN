{
 "cells": [
  {
   "cell_type": "code",
   "execution_count": 1,
   "metadata": {},
   "outputs": [],
   "source": [
    "# General libraries\n",
    "import os\n",
    "import numpy as np\n",
    "import pandas as pd \n",
    "import matplotlib.pyplot as plt\n",
    "%matplotlib inline\n",
    "from PIL import Image\n",
    "from matplotlib import cm\n",
    "from mpl_toolkits.axes_grid1 import ImageGrid\n",
    "import math\n",
    "\n",
    "# Deep learning libraries\n",
    "import keras.backend as K\n",
    "from keras.models import Model, Sequential\n",
    "from keras.layers import Input, Dense, Flatten, Dropout, BatchNormalization\n",
    "from keras.layers import Conv2D, SeparableConv2D, MaxPool2D, LeakyReLU, Activation\n",
    "from keras.optimizers import Adam\n",
    "from keras.preprocessing.image import ImageDataGenerator\n",
    "from keras.callbacks import ModelCheckpoint, ReduceLROnPlateau, EarlyStopping\n",
    "import tensorflow as tf\n",
    "from tensorflow.keras import datasets, layers, models\n",
    "import PIL\n",
    "\n"
   ]
  },
  {
   "cell_type": "code",
   "execution_count": 13,
   "metadata": {},
   "outputs": [
    {
     "ename": "TypeError",
     "evalue": "__init__() got an unexpected keyword argument 'seed'",
     "output_type": "error",
     "traceback": [
      "\u001b[0;31m---------------------------------------------------------------------------\u001b[0m",
      "\u001b[0;31mTypeError\u001b[0m                                 Traceback (most recent call last)",
      "\u001b[0;32m<ipython-input-13-5f73b21e7d54>\u001b[0m in \u001b[0;36m<module>\u001b[0;34m\u001b[0m\n\u001b[1;32m      1\u001b[0m \u001b[0;31m#Image generators for importing data and providing validation split for training\u001b[0m\u001b[0;34m\u001b[0m\u001b[0;34m\u001b[0m\u001b[0;34m\u001b[0m\u001b[0m\n\u001b[0;32m----> 2\u001b[0;31m train_image = ImageDataGenerator(rescale=1/255,\n\u001b[0m\u001b[1;32m      3\u001b[0m                                  \u001b[0mwidth_shift_range\u001b[0m\u001b[0;34m=\u001b[0m\u001b[0;36m0.05\u001b[0m\u001b[0;34m,\u001b[0m\u001b[0;34m\u001b[0m\u001b[0;34m\u001b[0m\u001b[0m\n\u001b[1;32m      4\u001b[0m                                  \u001b[0mheight_shift_range\u001b[0m\u001b[0;34m=\u001b[0m\u001b[0;36m0.05\u001b[0m\u001b[0;34m,\u001b[0m\u001b[0;34m\u001b[0m\u001b[0;34m\u001b[0m\u001b[0m\n\u001b[1;32m      5\u001b[0m                                  \u001b[0mhorizontal_flip\u001b[0m\u001b[0;34m=\u001b[0m\u001b[0;32mTrue\u001b[0m\u001b[0;34m,\u001b[0m\u001b[0;34m\u001b[0m\u001b[0;34m\u001b[0m\u001b[0m\n",
      "\u001b[0;31mTypeError\u001b[0m: __init__() got an unexpected keyword argument 'seed'"
     ]
    }
   ],
   "source": [
    "#Image generators for importing data and providing validation split for training\n",
    "train_image = ImageDataGenerator(rescale=1/255,\n",
    "                                 width_shift_range=0.05,\n",
    "                                 height_shift_range=0.05,\n",
    "                                 horizontal_flip=True,\n",
    "                                 brightness_range=[0.95,1.05],\n",
    "                                 validation_split=.2)\n",
    "\n",
    "#attempting to create validation data set without augmentations applied to the training set\n",
    "validation_image = ImageDataGenerator(rescale=1/255,\n",
    "                                     validation_split=.2)\n",
    "\n",
    "test_image = ImageDataGenerator(rescale=1/255)"
   ]
  },
  {
   "cell_type": "code",
   "execution_count": 3,
   "metadata": {},
   "outputs": [
    {
     "name": "stdout",
     "output_type": "stream",
     "text": [
      "Found 4192 images belonging to 3 classes.\n"
     ]
    }
   ],
   "source": [
    "#training data processing\n",
    "train_gen = train_image.flow_from_directory(\n",
    "    directory='chest_xray/train', \n",
    "    target_size=(128, 128),color_mode='grayscale',\n",
    "    batch_size=32, \n",
    "    class_mode='categorical', subset='training', interpolation=\"lanczos\",\n",
    "    shuffle=True)"
   ]
  },
  {
   "cell_type": "code",
   "execution_count": 4,
   "metadata": {},
   "outputs": [
    {
     "name": "stdout",
     "output_type": "stream",
     "text": [
      "Found 1046 images belonging to 3 classes.\n"
     ]
    }
   ],
   "source": [
    "#validation data processing\n",
    "val_gen = validation_image.flow_from_directory(\n",
    "    directory='chest_xray/train', \n",
    "    target_size=(128, 128),color_mode='grayscale',\n",
    "    batch_size=32, \n",
    "    class_mode='categorical', subset='validation', interpolation=\"lanczos\",\n",
    "    shuffle=True)"
   ]
  },
  {
   "cell_type": "code",
   "execution_count": 5,
   "metadata": {},
   "outputs": [
    {
     "name": "stdout",
     "output_type": "stream",
     "text": [
      "Found 624 images belonging to 2 classes.\n"
     ]
    }
   ],
   "source": [
    "#testing data processing\n",
    "test_gen = test_image.flow_from_directory(\n",
    "    directory='chest_xray/test', \n",
    "    target_size=(128, 128), color_mode='grayscale', \n",
    "    batch_size=32, \n",
    "    class_mode='categorical', interpolation=\"lanczos\",\n",
    "    shuffle=True)"
   ]
  },
  {
   "cell_type": "code",
   "execution_count": 6,
   "metadata": {},
   "outputs": [
    {
     "name": "stdout",
     "output_type": "stream",
     "text": [
      "<tensorflow.python.keras.preprocessing.image.DirectoryIterator object at 0x7f956465b400>\n",
      "131\n"
     ]
    }
   ],
   "source": [
    "print(train_gen)\n",
    "print(len(train_gen))\n"
   ]
  },
  {
   "cell_type": "code",
   "execution_count": 7,
   "metadata": {},
   "outputs": [
    {
     "data": {
      "text/plain": [
       "<tensorflow.python.keras.preprocessing.image.DirectoryIterator at 0x7f956465b400>"
      ]
     },
     "execution_count": 7,
     "metadata": {},
     "output_type": "execute_result"
    }
   ],
   "source": [
    "train_gen"
   ]
  },
  {
   "cell_type": "code",
   "execution_count": 8,
   "metadata": {},
   "outputs": [
    {
     "data": {
      "text/plain": [
       "(array([[[[0.02745098],\n",
       "          [0.02352941],\n",
       "          [0.02352941],\n",
       "          ...,\n",
       "          [0.        ],\n",
       "          [0.        ],\n",
       "          [0.        ]],\n",
       " \n",
       "         [[0.02745098],\n",
       "          [0.02352941],\n",
       "          [0.02352941],\n",
       "          ...,\n",
       "          [0.        ],\n",
       "          [0.        ],\n",
       "          [0.        ]],\n",
       " \n",
       "         [[0.02745098],\n",
       "          [0.02352941],\n",
       "          [0.02352941],\n",
       "          ...,\n",
       "          [0.        ],\n",
       "          [0.        ],\n",
       "          [0.        ]],\n",
       " \n",
       "         ...,\n",
       " \n",
       "         [[0.        ],\n",
       "          [0.        ],\n",
       "          [0.        ],\n",
       "          ...,\n",
       "          [0.        ],\n",
       "          [0.        ],\n",
       "          [0.        ]],\n",
       " \n",
       "         [[0.        ],\n",
       "          [0.        ],\n",
       "          [0.        ],\n",
       "          ...,\n",
       "          [0.        ],\n",
       "          [0.        ],\n",
       "          [0.        ]],\n",
       " \n",
       "         [[0.        ],\n",
       "          [0.        ],\n",
       "          [0.        ],\n",
       "          ...,\n",
       "          [0.        ],\n",
       "          [0.        ],\n",
       "          [0.        ]]],\n",
       " \n",
       " \n",
       "        [[[1.        ],\n",
       "          [1.        ],\n",
       "          [1.        ],\n",
       "          ...,\n",
       "          [1.        ],\n",
       "          [1.        ],\n",
       "          [1.        ]],\n",
       " \n",
       "         [[1.        ],\n",
       "          [1.        ],\n",
       "          [1.        ],\n",
       "          ...,\n",
       "          [1.        ],\n",
       "          [1.        ],\n",
       "          [1.        ]],\n",
       " \n",
       "         [[1.        ],\n",
       "          [1.        ],\n",
       "          [1.        ],\n",
       "          ...,\n",
       "          [1.        ],\n",
       "          [1.        ],\n",
       "          [1.        ]],\n",
       " \n",
       "         ...,\n",
       " \n",
       "         [[0.        ],\n",
       "          [0.        ],\n",
       "          [0.        ],\n",
       "          ...,\n",
       "          [0.        ],\n",
       "          [0.        ],\n",
       "          [0.        ]],\n",
       " \n",
       "         [[0.        ],\n",
       "          [0.        ],\n",
       "          [0.        ],\n",
       "          ...,\n",
       "          [0.        ],\n",
       "          [0.        ],\n",
       "          [0.        ]],\n",
       " \n",
       "         [[0.        ],\n",
       "          [0.        ],\n",
       "          [0.        ],\n",
       "          ...,\n",
       "          [0.        ],\n",
       "          [0.        ],\n",
       "          [0.        ]]],\n",
       " \n",
       " \n",
       "        [[[1.        ],\n",
       "          [1.        ],\n",
       "          [1.        ],\n",
       "          ...,\n",
       "          [1.        ],\n",
       "          [1.        ],\n",
       "          [1.        ]],\n",
       " \n",
       "         [[1.        ],\n",
       "          [1.        ],\n",
       "          [1.        ],\n",
       "          ...,\n",
       "          [1.        ],\n",
       "          [1.        ],\n",
       "          [1.        ]],\n",
       " \n",
       "         [[1.        ],\n",
       "          [1.        ],\n",
       "          [1.        ],\n",
       "          ...,\n",
       "          [1.        ],\n",
       "          [1.        ],\n",
       "          [1.        ]],\n",
       " \n",
       "         ...,\n",
       " \n",
       "         [[1.        ],\n",
       "          [1.        ],\n",
       "          [1.        ],\n",
       "          ...,\n",
       "          [0.54509807],\n",
       "          [0.54509807],\n",
       "          [0.54509807]],\n",
       " \n",
       "         [[1.        ],\n",
       "          [1.        ],\n",
       "          [0.96470594],\n",
       "          ...,\n",
       "          [0.5137255 ],\n",
       "          [0.5137255 ],\n",
       "          [0.5137255 ]],\n",
       " \n",
       "         [[1.        ],\n",
       "          [1.        ],\n",
       "          [0.86666673],\n",
       "          ...,\n",
       "          [0.60784316],\n",
       "          [0.60784316],\n",
       "          [0.60784316]]],\n",
       " \n",
       " \n",
       "        ...,\n",
       " \n",
       " \n",
       "        [[[0.6431373 ],\n",
       "          [0.6509804 ],\n",
       "          [0.69411767],\n",
       "          ...,\n",
       "          [0.26666668],\n",
       "          [0.26666668],\n",
       "          [0.26666668]],\n",
       " \n",
       "         [[0.6431373 ],\n",
       "          [0.6509804 ],\n",
       "          [0.69411767],\n",
       "          ...,\n",
       "          [0.26666668],\n",
       "          [0.26666668],\n",
       "          [0.26666668]],\n",
       " \n",
       "         [[0.6431373 ],\n",
       "          [0.6509804 ],\n",
       "          [0.69411767],\n",
       "          ...,\n",
       "          [0.26666668],\n",
       "          [0.26666668],\n",
       "          [0.26666668]],\n",
       " \n",
       "         ...,\n",
       " \n",
       "         [[1.        ],\n",
       "          [1.        ],\n",
       "          [1.        ],\n",
       "          ...,\n",
       "          [0.        ],\n",
       "          [0.        ],\n",
       "          [0.        ]],\n",
       " \n",
       "         [[1.        ],\n",
       "          [1.        ],\n",
       "          [1.        ],\n",
       "          ...,\n",
       "          [0.        ],\n",
       "          [0.        ],\n",
       "          [0.        ]],\n",
       " \n",
       "         [[1.        ],\n",
       "          [1.        ],\n",
       "          [1.        ],\n",
       "          ...,\n",
       "          [0.        ],\n",
       "          [0.        ],\n",
       "          [0.        ]]],\n",
       " \n",
       " \n",
       "        [[[1.        ],\n",
       "          [1.        ],\n",
       "          [1.        ],\n",
       "          ...,\n",
       "          [0.7294118 ],\n",
       "          [0.6509804 ],\n",
       "          [0.54509807]],\n",
       " \n",
       "         [[1.        ],\n",
       "          [1.        ],\n",
       "          [1.        ],\n",
       "          ...,\n",
       "          [0.7294118 ],\n",
       "          [0.6509804 ],\n",
       "          [0.54509807]],\n",
       " \n",
       "         [[1.        ],\n",
       "          [1.        ],\n",
       "          [1.        ],\n",
       "          ...,\n",
       "          [0.7294118 ],\n",
       "          [0.6509804 ],\n",
       "          [0.54509807]],\n",
       " \n",
       "         ...,\n",
       " \n",
       "         [[0.227451  ],\n",
       "          [0.10588236],\n",
       "          [0.21176472],\n",
       "          ...,\n",
       "          [0.227451  ],\n",
       "          [0.24313727],\n",
       "          [0.25490198]],\n",
       " \n",
       "         [[0.13333334],\n",
       "          [0.12156864],\n",
       "          [0.12156864],\n",
       "          ...,\n",
       "          [0.21176472],\n",
       "          [0.227451  ],\n",
       "          [0.24313727]],\n",
       " \n",
       "         [[0.34901962],\n",
       "          [0.19607845],\n",
       "          [0.09019608],\n",
       "          ...,\n",
       "          [0.21176472],\n",
       "          [0.21176472],\n",
       "          [0.3647059 ]]],\n",
       " \n",
       " \n",
       "        [[[1.        ],\n",
       "          [1.        ],\n",
       "          [1.        ],\n",
       "          ...,\n",
       "          [1.        ],\n",
       "          [1.        ],\n",
       "          [1.        ]],\n",
       " \n",
       "         [[1.        ],\n",
       "          [1.        ],\n",
       "          [1.        ],\n",
       "          ...,\n",
       "          [1.        ],\n",
       "          [1.        ],\n",
       "          [1.        ]],\n",
       " \n",
       "         [[1.        ],\n",
       "          [1.        ],\n",
       "          [1.        ],\n",
       "          ...,\n",
       "          [1.        ],\n",
       "          [1.        ],\n",
       "          [1.        ]],\n",
       " \n",
       "         ...,\n",
       " \n",
       "         [[0.        ],\n",
       "          [0.        ],\n",
       "          [0.        ],\n",
       "          ...,\n",
       "          [0.        ],\n",
       "          [0.        ],\n",
       "          [0.        ]],\n",
       " \n",
       "         [[0.        ],\n",
       "          [0.        ],\n",
       "          [0.        ],\n",
       "          ...,\n",
       "          [0.        ],\n",
       "          [0.        ],\n",
       "          [0.        ]],\n",
       " \n",
       "         [[0.        ],\n",
       "          [0.        ],\n",
       "          [0.        ],\n",
       "          ...,\n",
       "          [0.        ],\n",
       "          [0.        ],\n",
       "          [0.        ]]]], dtype=float32),\n",
       " array([[0., 1., 0.],\n",
       "        [0., 1., 0.],\n",
       "        [1., 0., 0.],\n",
       "        [1., 0., 0.],\n",
       "        [0., 0., 1.],\n",
       "        [0., 1., 0.],\n",
       "        [0., 1., 0.],\n",
       "        [0., 1., 0.],\n",
       "        [1., 0., 0.],\n",
       "        [0., 0., 1.],\n",
       "        [0., 1., 0.],\n",
       "        [0., 1., 0.],\n",
       "        [0., 0., 1.],\n",
       "        [0., 0., 1.],\n",
       "        [1., 0., 0.],\n",
       "        [0., 0., 1.],\n",
       "        [1., 0., 0.],\n",
       "        [1., 0., 0.],\n",
       "        [0., 0., 1.],\n",
       "        [0., 1., 0.],\n",
       "        [0., 0., 1.],\n",
       "        [0., 1., 0.],\n",
       "        [0., 1., 0.],\n",
       "        [0., 1., 0.],\n",
       "        [1., 0., 0.],\n",
       "        [0., 0., 1.],\n",
       "        [0., 1., 0.],\n",
       "        [1., 0., 0.],\n",
       "        [0., 0., 1.],\n",
       "        [0., 0., 1.],\n",
       "        [1., 0., 0.],\n",
       "        [0., 1., 0.]], dtype=float32))"
      ]
     },
     "execution_count": 8,
     "metadata": {},
     "output_type": "execute_result"
    }
   ],
   "source": [
    "train_gen[0]"
   ]
  },
  {
   "cell_type": "code",
   "execution_count": 9,
   "metadata": {},
   "outputs": [
    {
     "name": "stdout",
     "output_type": "stream",
     "text": [
      "x:  <class 'numpy.ndarray'>\n",
      "y:  <class 'numpy.ndarray'>\n",
      "x:  (32, 128, 128, 1)\n",
      "y:  (32, 3)\n"
     ]
    }
   ],
   "source": [
    "X,y = next(train_gen)\n",
    "print('x: ',type(X))\n",
    "print('y: ',type(y))\n",
    "print('x: ',X.shape)\n",
    "print('y: ',y.shape)\n"
   ]
  },
  {
   "cell_type": "code",
   "execution_count": 10,
   "metadata": {
    "scrolled": false
   },
   "outputs": [
    {
     "name": "stdout",
     "output_type": "stream",
     "text": [
      "Epoch 1/10\n",
      "131/131 [==============================] - 146s 1s/step - loss: 0.9651 - accuracy: 0.5470 - val_loss: 0.8480 - val_accuracy: 0.6252\n",
      "Epoch 2/10\n",
      "131/131 [==============================] - 144s 1s/step - loss: 0.7909 - accuracy: 0.6555 - val_loss: 0.7564 - val_accuracy: 0.6759\n",
      "Epoch 3/10\n",
      "131/131 [==============================] - 143s 1s/step - loss: 0.7429 - accuracy: 0.6801 - val_loss: 0.6926 - val_accuracy: 0.7017\n",
      "Epoch 4/10\n",
      "131/131 [==============================] - 143s 1s/step - loss: 0.7165 - accuracy: 0.6944 - val_loss: 0.6872 - val_accuracy: 0.7161\n",
      "Epoch 5/10\n",
      "131/131 [==============================] - 143s 1s/step - loss: 0.6853 - accuracy: 0.7061 - val_loss: 0.6897 - val_accuracy: 0.7017\n",
      "Epoch 6/10\n",
      "131/131 [==============================] - 146s 1s/step - loss: 0.6769 - accuracy: 0.7083 - val_loss: 0.6647 - val_accuracy: 0.7228\n",
      "Epoch 7/10\n",
      "131/131 [==============================] - 146s 1s/step - loss: 0.6575 - accuracy: 0.7161 - val_loss: 0.6367 - val_accuracy: 0.7294\n",
      "Epoch 8/10\n",
      "131/131 [==============================] - 148s 1s/step - loss: 0.6531 - accuracy: 0.7292 - val_loss: 0.6766 - val_accuracy: 0.7103\n",
      "Epoch 9/10\n",
      "131/131 [==============================] - 149s 1s/step - loss: 0.6507 - accuracy: 0.7276 - val_loss: 0.6871 - val_accuracy: 0.6998\n",
      "Epoch 10/10\n",
      "131/131 [==============================] - 153s 1s/step - loss: 0.6280 - accuracy: 0.7397 - val_loss: 0.6351 - val_accuracy: 0.7314\n"
     ]
    },
    {
     "data": {
      "text/plain": [
       "<tensorflow.python.keras.callbacks.History at 0x7f94c4247d60>"
      ]
     },
     "execution_count": 10,
     "metadata": {},
     "output_type": "execute_result"
    }
   ],
   "source": [
    "#initial model\n",
    "model = models.Sequential()\n",
    "model.add(layers.Conv2D(filters=32,\n",
    "                        kernel_size=(3, 3),\n",
    "                        activation='relu',\n",
    "                        input_shape=(128, 128, 1)))\n",
    "model.add(layers.MaxPooling2D(pool_size=(2, 2)))\n",
    "model.add(layers.Conv2D(128, (3, 3), activation='relu'))\n",
    "model.add(layers.MaxPooling2D((2, 2)))\n",
    "model.add(layers.Conv2D(128, (3, 3), activation='relu'))\n",
    "model.add(layers.Flatten())\n",
    "model.add(layers.Dense(128, activation='relu'))\n",
    "model.add(layers.Dense(3, activation='softmax'))\n",
    "\n",
    "model.compile(optimizer='adam',\n",
    "              loss='categorical_crossentropy',\n",
    "              metrics=['accuracy'])\n",
    "\n",
    "model.fit(train_gen,epochs=10,validation_data=val_gen)"
   ]
  },
  {
   "cell_type": "code",
   "execution_count": 11,
   "metadata": {
    "scrolled": true
   },
   "outputs": [
    {
     "name": "stdout",
     "output_type": "stream",
     "text": [
      "Model: \"sequential\"\n",
      "_________________________________________________________________\n",
      "Layer (type)                 Output Shape              Param #   \n",
      "=================================================================\n",
      "conv2d (Conv2D)              (None, 126, 126, 32)      320       \n",
      "_________________________________________________________________\n",
      "max_pooling2d (MaxPooling2D) (None, 63, 63, 32)        0         \n",
      "_________________________________________________________________\n",
      "conv2d_1 (Conv2D)            (None, 61, 61, 128)       36992     \n",
      "_________________________________________________________________\n",
      "max_pooling2d_1 (MaxPooling2 (None, 30, 30, 128)       0         \n",
      "_________________________________________________________________\n",
      "conv2d_2 (Conv2D)            (None, 28, 28, 128)       147584    \n",
      "_________________________________________________________________\n",
      "flatten (Flatten)            (None, 100352)            0         \n",
      "_________________________________________________________________\n",
      "dense (Dense)                (None, 128)               12845184  \n",
      "_________________________________________________________________\n",
      "dense_1 (Dense)              (None, 3)                 387       \n",
      "=================================================================\n",
      "Total params: 13,030,467\n",
      "Trainable params: 13,030,467\n",
      "Non-trainable params: 0\n",
      "_________________________________________________________________\n"
     ]
    }
   ],
   "source": [
    "model.summary()"
   ]
  },
  {
   "cell_type": "code",
   "execution_count": 12,
   "metadata": {
    "scrolled": true
   },
   "outputs": [
    {
     "name": "stdout",
     "output_type": "stream",
     "text": [
      "Epoch 1/10\n",
      "131/131 [==============================] - 196s 1s/step - loss: 1.3662 - accuracy: 0.4823 - val_loss: 0.9491 - val_accuracy: 0.5641\n",
      "Epoch 2/10\n",
      "131/131 [==============================] - 199s 2s/step - loss: 0.9110 - accuracy: 0.5797 - val_loss: 0.8699 - val_accuracy: 0.6004\n",
      "Epoch 3/10\n",
      "131/131 [==============================] - 197s 2s/step - loss: 0.8614 - accuracy: 0.6171 - val_loss: 0.8522 - val_accuracy: 0.6099\n",
      "Epoch 4/10\n",
      "131/131 [==============================] - 197s 2s/step - loss: 0.8169 - accuracy: 0.6386 - val_loss: 0.7743 - val_accuracy: 0.6587\n",
      "Epoch 5/10\n",
      "131/131 [==============================] - 195s 1s/step - loss: 0.7742 - accuracy: 0.6656 - val_loss: 0.7498 - val_accuracy: 0.6644\n",
      "Epoch 6/10\n",
      "131/131 [==============================] - 201s 2s/step - loss: 0.7530 - accuracy: 0.6732 - val_loss: 0.7408 - val_accuracy: 0.6730\n",
      "Epoch 7/10\n",
      "131/131 [==============================] - 209s 2s/step - loss: 0.7579 - accuracy: 0.6656 - val_loss: 0.7353 - val_accuracy: 0.6836\n",
      "Epoch 8/10\n",
      "131/131 [==============================] - 197s 2s/step - loss: 0.7469 - accuracy: 0.6782 - val_loss: 0.7199 - val_accuracy: 0.7036\n",
      "Epoch 9/10\n",
      "131/131 [==============================] - 194s 1s/step - loss: 0.7181 - accuracy: 0.6947 - val_loss: 0.7271 - val_accuracy: 0.6922\n",
      "Epoch 10/10\n",
      "131/131 [==============================] - 192s 1s/step - loss: 0.7149 - accuracy: 0.6904 - val_loss: 0.7157 - val_accuracy: 0.6826\n"
     ]
    },
    {
     "data": {
      "text/plain": [
       "<tensorflow.python.keras.callbacks.History at 0x7f94b418d3a0>"
      ]
     },
     "execution_count": 12,
     "metadata": {},
     "output_type": "execute_result"
    }
   ],
   "source": [
    "#2nd model iteration - increased kernel size, added padding\n",
    "kernel = (8, 8)\n",
    "\n",
    "model2 = models.Sequential()\n",
    "model2.add(layers.Conv2D(filters=32,\n",
    "                        kernel_size=kernel,\n",
    "                        activation='relu',\n",
    "                        input_shape=(128, 128, 1),\n",
    "                        padding='valid'))\n",
    "model2.add(layers.MaxPooling2D(pool_size=(2, 2)))\n",
    "model2.add(layers.Conv2D(128, kernel, activation='relu'))\n",
    "model2.add(layers.MaxPooling2D((2, 2)))\n",
    "model2.add(layers.Conv2D(128, kernel, activation='relu'))\n",
    "model2.add(layers.Flatten())\n",
    "model2.add(layers.Dense(128, activation='relu'))\n",
    "model2.add(layers.Dense(3, activation='softmax'))\n",
    "\n",
    "model2.compile(optimizer='adam',\n",
    "              loss='categorical_crossentropy',\n",
    "              metrics=['accuracy'])\n",
    "\n",
    "model2.fit(train_gen,epochs=10,validation_data=val_gen)"
   ]
  },
  {
   "cell_type": "code",
   "execution_count": 13,
   "metadata": {},
   "outputs": [
    {
     "name": "stdout",
     "output_type": "stream",
     "text": [
      "Model: \"sequential_1\"\n",
      "_________________________________________________________________\n",
      "Layer (type)                 Output Shape              Param #   \n",
      "=================================================================\n",
      "conv2d_3 (Conv2D)            (None, 121, 121, 32)      2080      \n",
      "_________________________________________________________________\n",
      "max_pooling2d_2 (MaxPooling2 (None, 60, 60, 32)        0         \n",
      "_________________________________________________________________\n",
      "conv2d_4 (Conv2D)            (None, 53, 53, 128)       262272    \n",
      "_________________________________________________________________\n",
      "max_pooling2d_3 (MaxPooling2 (None, 26, 26, 128)       0         \n",
      "_________________________________________________________________\n",
      "conv2d_5 (Conv2D)            (None, 19, 19, 128)       1048704   \n",
      "_________________________________________________________________\n",
      "flatten_1 (Flatten)          (None, 46208)             0         \n",
      "_________________________________________________________________\n",
      "dense_2 (Dense)              (None, 128)               5914752   \n",
      "_________________________________________________________________\n",
      "dense_3 (Dense)              (None, 3)                 387       \n",
      "=================================================================\n",
      "Total params: 7,228,195\n",
      "Trainable params: 7,228,195\n",
      "Non-trainable params: 0\n",
      "_________________________________________________________________\n"
     ]
    }
   ],
   "source": [
    "model2.summary()"
   ]
  },
  {
   "cell_type": "code",
   "execution_count": 14,
   "metadata": {
    "scrolled": true
   },
   "outputs": [
    {
     "name": "stdout",
     "output_type": "stream",
     "text": [
      "Epoch 1/10\n",
      "131/131 [==============================] - 146s 1s/step - loss: 1.0208 - accuracy: 0.5239 - val_loss: 0.8514 - val_accuracy: 0.6176\n",
      "Epoch 2/10\n",
      "131/131 [==============================] - 156s 1s/step - loss: 0.8047 - accuracy: 0.6405 - val_loss: 0.7426 - val_accuracy: 0.6778\n",
      "Epoch 3/10\n",
      "131/131 [==============================] - 152s 1s/step - loss: 0.7559 - accuracy: 0.6698 - val_loss: 0.7493 - val_accuracy: 0.6644\n",
      "Epoch 4/10\n",
      "131/131 [==============================] - 149s 1s/step - loss: 0.7150 - accuracy: 0.6823 - val_loss: 0.6908 - val_accuracy: 0.6950\n",
      "Epoch 5/10\n",
      "131/131 [==============================] - 149s 1s/step - loss: 0.6875 - accuracy: 0.7080 - val_loss: 0.6923 - val_accuracy: 0.7036\n",
      "Epoch 6/10\n",
      "131/131 [==============================] - 150s 1s/step - loss: 0.6782 - accuracy: 0.7078 - val_loss: 0.6864 - val_accuracy: 0.7017\n",
      "Epoch 7/10\n",
      "131/131 [==============================] - 147s 1s/step - loss: 0.6595 - accuracy: 0.7180 - val_loss: 0.6979 - val_accuracy: 0.7036\n",
      "Epoch 8/10\n",
      "131/131 [==============================] - 146s 1s/step - loss: 0.6454 - accuracy: 0.7261 - val_loss: 0.6608 - val_accuracy: 0.7218\n",
      "Epoch 9/10\n",
      "131/131 [==============================] - 146s 1s/step - loss: 0.6366 - accuracy: 0.7238 - val_loss: 0.6389 - val_accuracy: 0.7447\n",
      "Epoch 10/10\n",
      "131/131 [==============================] - 149s 1s/step - loss: 0.6319 - accuracy: 0.7343 - val_loss: 0.6664 - val_accuracy: 0.7323\n"
     ]
    },
    {
     "data": {
      "text/plain": [
       "<tensorflow.python.keras.callbacks.History at 0x7f94947a1310>"
      ]
     },
     "execution_count": 14,
     "metadata": {},
     "output_type": "execute_result"
    }
   ],
   "source": [
    "#3rd model iteration - increased pool size\n",
    "kernel = (8, 8)\n",
    "pool = (3, 3)\n",
    "\n",
    "model3 = models.Sequential()\n",
    "model3.add(layers.Conv2D(filters=32,\n",
    "                        kernel_size=kernel,\n",
    "                        activation='relu',\n",
    "                        input_shape=(128, 128, 1),\n",
    "                        padding='valid'))\n",
    "model3.add(layers.MaxPooling2D(pool_size=pool))\n",
    "\n",
    "#hidden layers\n",
    "model3.add(layers.Conv2D(128, kernel, activation='relu'))\n",
    "model3.add(layers.MaxPooling2D(pool))\n",
    "model3.add(layers.Conv2D(128, kernel, activation='relu'))\n",
    "model3.add(layers.Flatten())\n",
    "model3.add(layers.Dense(128, activation='relu'))\n",
    "model3.add(layers.Dense(3, activation='softmax'))\n",
    "\n",
    "model3.compile(optimizer='adam',\n",
    "              loss='categorical_crossentropy',\n",
    "              metrics=['accuracy'])\n",
    "\n",
    "model3.fit(train_gen,epochs=10,validation_data=val_gen)"
   ]
  },
  {
   "cell_type": "code",
   "execution_count": 15,
   "metadata": {},
   "outputs": [
    {
     "name": "stdout",
     "output_type": "stream",
     "text": [
      "Model: \"sequential_2\"\n",
      "_________________________________________________________________\n",
      "Layer (type)                 Output Shape              Param #   \n",
      "=================================================================\n",
      "conv2d_6 (Conv2D)            (None, 121, 121, 32)      2080      \n",
      "_________________________________________________________________\n",
      "max_pooling2d_4 (MaxPooling2 (None, 40, 40, 32)        0         \n",
      "_________________________________________________________________\n",
      "conv2d_7 (Conv2D)            (None, 33, 33, 128)       262272    \n",
      "_________________________________________________________________\n",
      "max_pooling2d_5 (MaxPooling2 (None, 11, 11, 128)       0         \n",
      "_________________________________________________________________\n",
      "conv2d_8 (Conv2D)            (None, 4, 4, 128)         1048704   \n",
      "_________________________________________________________________\n",
      "flatten_2 (Flatten)          (None, 2048)              0         \n",
      "_________________________________________________________________\n",
      "dense_4 (Dense)              (None, 128)               262272    \n",
      "_________________________________________________________________\n",
      "dense_5 (Dense)              (None, 3)                 387       \n",
      "=================================================================\n",
      "Total params: 1,575,715\n",
      "Trainable params: 1,575,715\n",
      "Non-trainable params: 0\n",
      "_________________________________________________________________\n"
     ]
    }
   ],
   "source": [
    "model3.summary()"
   ]
  },
  {
   "cell_type": "code",
   "execution_count": 16,
   "metadata": {},
   "outputs": [
    {
     "name": "stdout",
     "output_type": "stream",
     "text": [
      "Epoch 1/10\n",
      "131/131 [==============================] - 154s 1s/step - loss: 1.2719 - accuracy: 0.3946 - val_loss: 1.0502 - val_accuracy: 0.4847\n",
      "Epoch 2/10\n",
      "131/131 [==============================] - 156s 1s/step - loss: 1.1969 - accuracy: 0.4010 - val_loss: 1.0627 - val_accuracy: 0.4847\n",
      "Epoch 3/10\n",
      "131/131 [==============================] - 150s 1s/step - loss: 1.1745 - accuracy: 0.4008 - val_loss: 1.0532 - val_accuracy: 0.4847\n",
      "Epoch 4/10\n",
      "131/131 [==============================] - 150s 1s/step - loss: 1.1488 - accuracy: 0.4189 - val_loss: 1.0531 - val_accuracy: 0.4847\n",
      "Epoch 5/10\n",
      "131/131 [==============================] - 154s 1s/step - loss: 1.1362 - accuracy: 0.4156 - val_loss: 1.0551 - val_accuracy: 0.4847\n",
      "Epoch 6/10\n",
      "131/131 [==============================] - 159s 1s/step - loss: 1.1161 - accuracy: 0.4303 - val_loss: 1.0542 - val_accuracy: 0.4847\n",
      "Epoch 7/10\n",
      "131/131 [==============================] - 165s 1s/step - loss: 1.1090 - accuracy: 0.4346 - val_loss: 1.0548 - val_accuracy: 0.4847\n",
      "Epoch 8/10\n",
      "131/131 [==============================] - 156s 1s/step - loss: 1.0908 - accuracy: 0.4497 - val_loss: 1.0570 - val_accuracy: 0.4847\n",
      "Epoch 9/10\n",
      "131/131 [==============================] - 155s 1s/step - loss: 1.0872 - accuracy: 0.4490 - val_loss: 1.0596 - val_accuracy: 0.4847\n",
      "Epoch 10/10\n",
      "131/131 [==============================] - 150s 1s/step - loss: 1.0806 - accuracy: 0.4656 - val_loss: 1.0571 - val_accuracy: 0.4847\n"
     ]
    },
    {
     "data": {
      "text/plain": [
       "<tensorflow.python.keras.callbacks.History at 0x7f949462bfd0>"
      ]
     },
     "execution_count": 16,
     "metadata": {},
     "output_type": "execute_result"
    }
   ],
   "source": [
    "#4th model iteration - changed activation function for hidden layers to tanh, converted last hidden layer to dropout layer\n",
    "kernel = (8, 8)\n",
    "pool = (3, 3)\n",
    "\n",
    "model4 = models.Sequential()\n",
    "model4.add(layers.Conv2D(filters=32,\n",
    "                        kernel_size=kernel,\n",
    "                        activation='relu',\n",
    "                        input_shape=(128, 128, 1),\n",
    "                        padding='valid'))\n",
    "#hidden layers\n",
    "model4.add(layers.MaxPooling2D(pool_size=pool))\n",
    "model4.add(layers.Conv2D(128, kernel, activation='tanh'))\n",
    "model4.add(layers.MaxPooling2D(pool))\n",
    "model4.add(layers.Conv2D(128, kernel, activation='tanh'))\n",
    "model4.add(layers.Flatten())\n",
    "model4.add(layers.Dense(128, activation='tanh'))\n",
    "model4.add(layers.Dropout(rate=.25))\n",
    "#output layer\n",
    "model4.add(layers.Dense(3, activation='softmax'))\n",
    "\n",
    "model4.compile(optimizer='adam',\n",
    "              loss='categorical_crossentropy',\n",
    "              metrics=['accuracy'])\n",
    "\n",
    "model4.fit(train_gen,epochs=10,validation_data=val_gen)"
   ]
  },
  {
   "cell_type": "code",
   "execution_count": 17,
   "metadata": {},
   "outputs": [
    {
     "name": "stdout",
     "output_type": "stream",
     "text": [
      "Model: \"sequential_3\"\n",
      "_________________________________________________________________\n",
      "Layer (type)                 Output Shape              Param #   \n",
      "=================================================================\n",
      "conv2d_9 (Conv2D)            (None, 121, 121, 32)      2080      \n",
      "_________________________________________________________________\n",
      "max_pooling2d_6 (MaxPooling2 (None, 40, 40, 32)        0         \n",
      "_________________________________________________________________\n",
      "conv2d_10 (Conv2D)           (None, 33, 33, 128)       262272    \n",
      "_________________________________________________________________\n",
      "max_pooling2d_7 (MaxPooling2 (None, 11, 11, 128)       0         \n",
      "_________________________________________________________________\n",
      "conv2d_11 (Conv2D)           (None, 4, 4, 128)         1048704   \n",
      "_________________________________________________________________\n",
      "flatten_3 (Flatten)          (None, 2048)              0         \n",
      "_________________________________________________________________\n",
      "dense_6 (Dense)              (None, 128)               262272    \n",
      "_________________________________________________________________\n",
      "dropout (Dropout)            (None, 128)               0         \n",
      "_________________________________________________________________\n",
      "dense_7 (Dense)              (None, 3)                 387       \n",
      "=================================================================\n",
      "Total params: 1,575,715\n",
      "Trainable params: 1,575,715\n",
      "Non-trainable params: 0\n",
      "_________________________________________________________________\n"
     ]
    }
   ],
   "source": [
    "model4.summary()"
   ]
  },
  {
   "cell_type": "code",
   "execution_count": 18,
   "metadata": {},
   "outputs": [
    {
     "name": "stdout",
     "output_type": "stream",
     "text": [
      "Epoch 1/10\n",
      "131/131 [==============================] - 150s 1s/step - loss: 1.0195 - accuracy: 0.5091 - val_loss: 0.9309 - val_accuracy: 0.5822\n",
      "Epoch 2/10\n",
      "131/131 [==============================] - 151s 1s/step - loss: 0.8633 - accuracy: 0.6081 - val_loss: 0.7986 - val_accuracy: 0.6396\n",
      "Epoch 3/10\n",
      "131/131 [==============================] - 155s 1s/step - loss: 0.7897 - accuracy: 0.6467 - val_loss: 0.7663 - val_accuracy: 0.6530\n",
      "Epoch 4/10\n",
      "131/131 [==============================] - 158s 1s/step - loss: 0.7475 - accuracy: 0.6696 - val_loss: 0.7606 - val_accuracy: 0.6511\n",
      "Epoch 5/10\n",
      "131/131 [==============================] - 161s 1s/step - loss: 0.7252 - accuracy: 0.6796 - val_loss: 0.7195 - val_accuracy: 0.6950\n",
      "Epoch 6/10\n",
      "131/131 [==============================] - 153s 1s/step - loss: 0.7017 - accuracy: 0.7068 - val_loss: 0.6799 - val_accuracy: 0.7008\n",
      "Epoch 7/10\n",
      "131/131 [==============================] - 161s 1s/step - loss: 0.6931 - accuracy: 0.7090 - val_loss: 0.6795 - val_accuracy: 0.7036\n",
      "Epoch 8/10\n",
      "131/131 [==============================] - 161s 1s/step - loss: 0.6808 - accuracy: 0.7133 - val_loss: 0.6417 - val_accuracy: 0.7237\n",
      "Epoch 9/10\n",
      "131/131 [==============================] - 156s 1s/step - loss: 0.6646 - accuracy: 0.7238 - val_loss: 0.6849 - val_accuracy: 0.7199\n",
      "Epoch 10/10\n",
      "131/131 [==============================] - 147s 1s/step - loss: 0.6421 - accuracy: 0.7338 - val_loss: 0.6461 - val_accuracy: 0.7361\n"
     ]
    },
    {
     "data": {
      "text/plain": [
       "<tensorflow.python.keras.callbacks.History at 0x7f94944b9f10>"
      ]
     },
     "execution_count": 18,
     "metadata": {},
     "output_type": "execute_result"
    }
   ],
   "source": [
    "#5th model iteration - reverted activation function changes, kept dropout layer\n",
    "kernel = (8, 8)\n",
    "pool = (3, 3)\n",
    "\n",
    "model5 = models.Sequential()\n",
    "model5.add(layers.Conv2D(filters=32,\n",
    "                        kernel_size=kernel,\n",
    "                        activation='relu',\n",
    "                        input_shape=(128, 128, 1),\n",
    "                        padding='valid'))\n",
    "#hidden layers\n",
    "model5.add(layers.MaxPooling2D(pool_size=pool))\n",
    "model5.add(layers.Conv2D(128, kernel, activation='relu'))\n",
    "model5.add(layers.MaxPooling2D(pool))\n",
    "model5.add(layers.Conv2D(128, kernel, activation='relu'))\n",
    "model5.add(layers.Flatten())\n",
    "model5.add(layers.Dense(128, activation='relu'))\n",
    "model5.add(layers.Dropout(rate=.25))\n",
    "#output layer\n",
    "model5.add(layers.Dense(3, activation='softmax'))\n",
    "\n",
    "#compiling and fitting the model\n",
    "model5.compile(optimizer='adam',\n",
    "              loss='categorical_crossentropy',\n",
    "              metrics=['accuracy'])\n",
    "\n",
    "model5.fit(train_gen,epochs=10,validation_data=val_gen)"
   ]
  },
  {
   "cell_type": "code",
   "execution_count": 19,
   "metadata": {},
   "outputs": [
    {
     "name": "stdout",
     "output_type": "stream",
     "text": [
      "Model: \"sequential_4\"\n",
      "_________________________________________________________________\n",
      "Layer (type)                 Output Shape              Param #   \n",
      "=================================================================\n",
      "conv2d_12 (Conv2D)           (None, 121, 121, 32)      2080      \n",
      "_________________________________________________________________\n",
      "max_pooling2d_8 (MaxPooling2 (None, 40, 40, 32)        0         \n",
      "_________________________________________________________________\n",
      "conv2d_13 (Conv2D)           (None, 33, 33, 128)       262272    \n",
      "_________________________________________________________________\n",
      "max_pooling2d_9 (MaxPooling2 (None, 11, 11, 128)       0         \n",
      "_________________________________________________________________\n",
      "conv2d_14 (Conv2D)           (None, 4, 4, 128)         1048704   \n",
      "_________________________________________________________________\n",
      "flatten_4 (Flatten)          (None, 2048)              0         \n",
      "_________________________________________________________________\n",
      "dense_8 (Dense)              (None, 128)               262272    \n",
      "_________________________________________________________________\n",
      "dropout_1 (Dropout)          (None, 128)               0         \n",
      "_________________________________________________________________\n",
      "dense_9 (Dense)              (None, 3)                 387       \n",
      "=================================================================\n",
      "Total params: 1,575,715\n",
      "Trainable params: 1,575,715\n",
      "Non-trainable params: 0\n",
      "_________________________________________________________________\n"
     ]
    }
   ],
   "source": [
    "model5.summary()"
   ]
  },
  {
   "cell_type": "code",
   "execution_count": 20,
   "metadata": {},
   "outputs": [
    {
     "name": "stdout",
     "output_type": "stream",
     "text": [
      "Epoch 1/20\n",
      "131/131 [==============================] - 175s 1s/step - loss: 1.0704 - accuracy: 0.4776 - val_loss: 1.0139 - val_accuracy: 0.5105\n",
      "Epoch 2/20\n",
      "131/131 [==============================] - 176s 1s/step - loss: 0.9390 - accuracy: 0.5580 - val_loss: 0.8497 - val_accuracy: 0.5966\n",
      "Epoch 3/20\n",
      "131/131 [==============================] - 178s 1s/step - loss: 0.8545 - accuracy: 0.6104 - val_loss: 0.7736 - val_accuracy: 0.6654\n",
      "Epoch 4/20\n",
      "131/131 [==============================] - 181s 1s/step - loss: 0.7860 - accuracy: 0.6582 - val_loss: 0.7990 - val_accuracy: 0.6558\n",
      "Epoch 5/20\n",
      "131/131 [==============================] - 189s 1s/step - loss: 0.7678 - accuracy: 0.6634 - val_loss: 0.7599 - val_accuracy: 0.6577\n",
      "Epoch 6/20\n",
      "131/131 [==============================] - 182s 1s/step - loss: 0.7566 - accuracy: 0.6718 - val_loss: 0.7462 - val_accuracy: 0.6750\n",
      "Epoch 7/20\n",
      "131/131 [==============================] - 182s 1s/step - loss: 0.7678 - accuracy: 0.6756 - val_loss: 0.7515 - val_accuracy: 0.6855\n",
      "Epoch 8/20\n",
      "131/131 [==============================] - 186s 1s/step - loss: 0.7411 - accuracy: 0.6715 - val_loss: 0.7206 - val_accuracy: 0.6902\n",
      "Epoch 9/20\n",
      "131/131 [==============================] - 179s 1s/step - loss: 0.7292 - accuracy: 0.6911 - val_loss: 0.7105 - val_accuracy: 0.6941\n",
      "Epoch 10/20\n",
      "131/131 [==============================] - 179s 1s/step - loss: 0.7199 - accuracy: 0.6885 - val_loss: 0.7222 - val_accuracy: 0.6883\n",
      "Epoch 11/20\n",
      "131/131 [==============================] - 180s 1s/step - loss: 0.7241 - accuracy: 0.6949 - val_loss: 0.6898 - val_accuracy: 0.6950\n",
      "Epoch 12/20\n",
      "131/131 [==============================] - 180s 1s/step - loss: 0.6979 - accuracy: 0.7006 - val_loss: 0.6914 - val_accuracy: 0.7218\n",
      "Epoch 13/20\n",
      "131/131 [==============================] - 186s 1s/step - loss: 0.6882 - accuracy: 0.7090 - val_loss: 0.7231 - val_accuracy: 0.6960\n",
      "Epoch 14/20\n",
      "131/131 [==============================] - 181s 1s/step - loss: 0.6700 - accuracy: 0.7123 - val_loss: 0.7119 - val_accuracy: 0.6960\n",
      "Epoch 15/20\n",
      "131/131 [==============================] - 180s 1s/step - loss: 0.7078 - accuracy: 0.6970 - val_loss: 0.7352 - val_accuracy: 0.6807\n",
      "Epoch 16/20\n",
      "131/131 [==============================] - 180s 1s/step - loss: 0.7218 - accuracy: 0.6904 - val_loss: 0.7161 - val_accuracy: 0.6950\n",
      "Epoch 17/20\n",
      "131/131 [==============================] - 179s 1s/step - loss: 0.6724 - accuracy: 0.7130 - val_loss: 0.6642 - val_accuracy: 0.7208\n",
      "Epoch 18/20\n",
      "131/131 [==============================] - 180s 1s/step - loss: 0.6662 - accuracy: 0.7137 - val_loss: 0.6734 - val_accuracy: 0.7180\n",
      "Epoch 19/20\n",
      "131/131 [==============================] - 180s 1s/step - loss: 0.6639 - accuracy: 0.7142 - val_loss: 0.6636 - val_accuracy: 0.7122\n",
      "Epoch 20/20\n",
      "131/131 [==============================] - 180s 1s/step - loss: 0.6539 - accuracy: 0.7156 - val_loss: 0.6536 - val_accuracy: 0.7208\n"
     ]
    },
    {
     "data": {
      "text/plain": [
       "<tensorflow.python.keras.callbacks.History at 0x7f94942cc0d0>"
      ]
     },
     "execution_count": 20,
     "metadata": {},
     "output_type": "execute_result"
    }
   ],
   "source": [
    "#5th model iteration - added 1 extra convlution, reduced kernel size\n",
    "kernel = (8, 8)\n",
    "pool = (3, 3)\n",
    "\n",
    "model6 = models.Sequential()\n",
    "model6.add(layers.Conv2D(filters=32,\n",
    "                        kernel_size=kernel,\n",
    "                        activation='relu',\n",
    "                        input_shape=(128, 128, 1),\n",
    "                        padding='valid'))\n",
    "#hidden layers\n",
    "model6.add(layers.MaxPooling2D(pool_size=pool))\n",
    "model6.add(layers.Conv2D(128, kernel, activation='relu'))\n",
    "model6.add(layers.Conv2D(128, kernel, activation='relu'))\n",
    "model6.add(layers.MaxPooling2D(pool))\n",
    "model6.add(layers.Conv2D(128, kernel, activation='relu'))\n",
    "model6.add(layers.Flatten())\n",
    "model6.add(layers.Dense(128, activation='relu'))\n",
    "model6.add(layers.Dropout(rate=.25))\n",
    "#output layer\n",
    "model6.add(layers.Dense(3, activation='softmax'))\n",
    "\n",
    "#compiling and fitting the model\n",
    "model6.compile(optimizer='adam',\n",
    "              loss='categorical_crossentropy',\n",
    "              metrics=['accuracy'])\n",
    "\n",
    "model6.fit(train_gen,epochs=20,validation_data=val_gen)"
   ]
  },
  {
   "cell_type": "code",
   "execution_count": 21,
   "metadata": {},
   "outputs": [
    {
     "name": "stdout",
     "output_type": "stream",
     "text": [
      "Model: \"sequential_5\"\n",
      "_________________________________________________________________\n",
      "Layer (type)                 Output Shape              Param #   \n",
      "=================================================================\n",
      "conv2d_15 (Conv2D)           (None, 121, 121, 32)      2080      \n",
      "_________________________________________________________________\n",
      "max_pooling2d_10 (MaxPooling (None, 40, 40, 32)        0         \n",
      "_________________________________________________________________\n",
      "conv2d_16 (Conv2D)           (None, 33, 33, 128)       262272    \n",
      "_________________________________________________________________\n",
      "conv2d_17 (Conv2D)           (None, 26, 26, 128)       1048704   \n",
      "_________________________________________________________________\n",
      "max_pooling2d_11 (MaxPooling (None, 8, 8, 128)         0         \n",
      "_________________________________________________________________\n",
      "conv2d_18 (Conv2D)           (None, 1, 1, 128)         1048704   \n",
      "_________________________________________________________________\n",
      "flatten_5 (Flatten)          (None, 128)               0         \n",
      "_________________________________________________________________\n",
      "dense_10 (Dense)             (None, 128)               16512     \n",
      "_________________________________________________________________\n",
      "dropout_2 (Dropout)          (None, 128)               0         \n",
      "_________________________________________________________________\n",
      "dense_11 (Dense)             (None, 3)                 387       \n",
      "=================================================================\n",
      "Total params: 2,378,659\n",
      "Trainable params: 2,378,659\n",
      "Non-trainable params: 0\n",
      "_________________________________________________________________\n"
     ]
    }
   ],
   "source": [
    "model6.summary()"
   ]
  },
  {
   "cell_type": "markdown",
   "metadata": {},
   "source": [
    "# Larger Image Sizes"
   ]
  },
  {
   "cell_type": "markdown",
   "metadata": {},
   "source": [
    "Due to the granularity typically involved in human interpretation of Chest X-ray images (i.e. identifying presence and patterns of infiltrate in the lungs) we are experimenting with increasing the size of the images to achieve greater precision. This poses a greater risk of overfitting, and increases training time, however, it is possible that using convolutions and pooling, our model may be able to aggregate and interpret this finer detail if tuned appropriately."
   ]
  },
  {
   "cell_type": "code",
   "execution_count": 6,
   "metadata": {},
   "outputs": [
    {
     "name": "stdout",
     "output_type": "stream",
     "text": [
      "Found 4192 images belonging to 3 classes.\n",
      "Found 1046 images belonging to 3 classes.\n"
     ]
    }
   ],
   "source": [
    "#training data processing using half length and width of original image size\n",
    "train_gen_0 = train_image.flow_from_directory(\n",
    "    directory='chest_xray/train', \n",
    "    target_size=(534, 381),color_mode='grayscale',\n",
    "    batch_size=32, \n",
    "    class_mode='categorical', subset='training', interpolation=\"lanczos\",\n",
    "    shuffle=True)\n",
    "\n",
    "#validation data processing using half length and width of original image size\n",
    "val_gen_0 = validation_image.flow_from_directory(\n",
    "    directory='chest_xray/train', \n",
    "    target_size=(534, 381),color_mode='grayscale',\n",
    "    batch_size=32, \n",
    "    class_mode='categorical', subset='validation', interpolation=\"lanczos\",\n",
    "    shuffle=True)"
   ]
  },
  {
   "cell_type": "code",
   "execution_count": 10,
   "metadata": {},
   "outputs": [
    {
     "name": "stdout",
     "output_type": "stream",
     "text": [
      "Epoch 1/20\n",
      "131/131 [==============================] - 2463s 19s/step - loss: 1.0883 - accuracy: 0.6412 - auc: 0.8108 - val_loss: 0.6818 - val_accuracy: 0.6874 - val_auc: 0.8729\n",
      "Epoch 2/20\n",
      "131/131 [==============================] - 2502s 19s/step - loss: 0.6530 - accuracy: 0.7178 - auc: 0.8811 - val_loss: 0.5516 - val_accuracy: 0.7581 - val_auc: 0.9116\n",
      "Epoch 3/20\n",
      "131/131 [==============================] - 2481s 19s/step - loss: 0.5758 - accuracy: 0.7455 - auc: 0.9051 - val_loss: 0.5299 - val_accuracy: 0.7725 - val_auc: 0.9202\n",
      "Epoch 4/20\n",
      "131/131 [==============================] - 2490s 19s/step - loss: 0.5448 - accuracy: 0.7634 - auc: 0.9147 - val_loss: 0.5405 - val_accuracy: 0.7696 - val_auc: 0.9196\n",
      "Epoch 5/20\n",
      "131/131 [==============================] - 2471s 19s/step - loss: 0.5412 - accuracy: 0.7564 - auc: 0.9151 - val_loss: 0.5372 - val_accuracy: 0.7696 - val_auc: 0.9178\n",
      "Epoch 6/20\n",
      "  2/131 [..............................] - ETA: 19:37 - loss: 0.3319 - accuracy: 0.9062 - auc: 0.9750"
     ]
    },
    {
     "ename": "KeyboardInterrupt",
     "evalue": "",
     "output_type": "error",
     "traceback": [
      "\u001b[0;31m---------------------------------------------------------------------------\u001b[0m",
      "\u001b[0;31mKeyboardInterrupt\u001b[0m                         Traceback (most recent call last)",
      "\u001b[0;32m<ipython-input-10-ea2b08bd3a2d>\u001b[0m in \u001b[0;36m<module>\u001b[0;34m\u001b[0m\n\u001b[1;32m     30\u001b[0m                                            save_best_only=True)\n\u001b[1;32m     31\u001b[0m \u001b[0;34m\u001b[0m\u001b[0m\n\u001b[0;32m---> 32\u001b[0;31m \u001b[0mmodel\u001b[0m\u001b[0;34m.\u001b[0m\u001b[0mfit\u001b[0m\u001b[0;34m(\u001b[0m\u001b[0mtrain_gen_0\u001b[0m\u001b[0;34m,\u001b[0m \u001b[0mepochs\u001b[0m\u001b[0;34m=\u001b[0m\u001b[0;36m20\u001b[0m\u001b[0;34m,\u001b[0m \u001b[0mvalidation_data\u001b[0m\u001b[0;34m=\u001b[0m\u001b[0mval_gen_0\u001b[0m\u001b[0;34m)\u001b[0m\u001b[0;34m\u001b[0m\u001b[0;34m\u001b[0m\u001b[0m\n\u001b[0m",
      "\u001b[0;32m~/anaconda3/envs/learn-env/lib/python3.8/site-packages/tensorflow/python/keras/engine/training.py\u001b[0m in \u001b[0;36m_method_wrapper\u001b[0;34m(self, *args, **kwargs)\u001b[0m\n\u001b[1;32m    106\u001b[0m   \u001b[0;32mdef\u001b[0m \u001b[0m_method_wrapper\u001b[0m\u001b[0;34m(\u001b[0m\u001b[0mself\u001b[0m\u001b[0;34m,\u001b[0m \u001b[0;34m*\u001b[0m\u001b[0margs\u001b[0m\u001b[0;34m,\u001b[0m \u001b[0;34m**\u001b[0m\u001b[0mkwargs\u001b[0m\u001b[0;34m)\u001b[0m\u001b[0;34m:\u001b[0m\u001b[0;34m\u001b[0m\u001b[0;34m\u001b[0m\u001b[0m\n\u001b[1;32m    107\u001b[0m     \u001b[0;32mif\u001b[0m \u001b[0;32mnot\u001b[0m \u001b[0mself\u001b[0m\u001b[0;34m.\u001b[0m\u001b[0m_in_multi_worker_mode\u001b[0m\u001b[0;34m(\u001b[0m\u001b[0;34m)\u001b[0m\u001b[0;34m:\u001b[0m  \u001b[0;31m# pylint: disable=protected-access\u001b[0m\u001b[0;34m\u001b[0m\u001b[0;34m\u001b[0m\u001b[0m\n\u001b[0;32m--> 108\u001b[0;31m       \u001b[0;32mreturn\u001b[0m \u001b[0mmethod\u001b[0m\u001b[0;34m(\u001b[0m\u001b[0mself\u001b[0m\u001b[0;34m,\u001b[0m \u001b[0;34m*\u001b[0m\u001b[0margs\u001b[0m\u001b[0;34m,\u001b[0m \u001b[0;34m**\u001b[0m\u001b[0mkwargs\u001b[0m\u001b[0;34m)\u001b[0m\u001b[0;34m\u001b[0m\u001b[0;34m\u001b[0m\u001b[0m\n\u001b[0m\u001b[1;32m    109\u001b[0m \u001b[0;34m\u001b[0m\u001b[0m\n\u001b[1;32m    110\u001b[0m     \u001b[0;31m# Running inside `run_distribute_coordinator` already.\u001b[0m\u001b[0;34m\u001b[0m\u001b[0;34m\u001b[0m\u001b[0;34m\u001b[0m\u001b[0m\n",
      "\u001b[0;32m~/anaconda3/envs/learn-env/lib/python3.8/site-packages/tensorflow/python/keras/engine/training.py\u001b[0m in \u001b[0;36mfit\u001b[0;34m(self, x, y, batch_size, epochs, verbose, callbacks, validation_split, validation_data, shuffle, class_weight, sample_weight, initial_epoch, steps_per_epoch, validation_steps, validation_batch_size, validation_freq, max_queue_size, workers, use_multiprocessing)\u001b[0m\n\u001b[1;32m   1096\u001b[0m                 batch_size=batch_size):\n\u001b[1;32m   1097\u001b[0m               \u001b[0mcallbacks\u001b[0m\u001b[0;34m.\u001b[0m\u001b[0mon_train_batch_begin\u001b[0m\u001b[0;34m(\u001b[0m\u001b[0mstep\u001b[0m\u001b[0;34m)\u001b[0m\u001b[0;34m\u001b[0m\u001b[0;34m\u001b[0m\u001b[0m\n\u001b[0;32m-> 1098\u001b[0;31m               \u001b[0mtmp_logs\u001b[0m \u001b[0;34m=\u001b[0m \u001b[0mtrain_function\u001b[0m\u001b[0;34m(\u001b[0m\u001b[0miterator\u001b[0m\u001b[0;34m)\u001b[0m\u001b[0;34m\u001b[0m\u001b[0;34m\u001b[0m\u001b[0m\n\u001b[0m\u001b[1;32m   1099\u001b[0m               \u001b[0;32mif\u001b[0m \u001b[0mdata_handler\u001b[0m\u001b[0;34m.\u001b[0m\u001b[0mshould_sync\u001b[0m\u001b[0;34m:\u001b[0m\u001b[0;34m\u001b[0m\u001b[0;34m\u001b[0m\u001b[0m\n\u001b[1;32m   1100\u001b[0m                 \u001b[0mcontext\u001b[0m\u001b[0;34m.\u001b[0m\u001b[0masync_wait\u001b[0m\u001b[0;34m(\u001b[0m\u001b[0;34m)\u001b[0m\u001b[0;34m\u001b[0m\u001b[0;34m\u001b[0m\u001b[0m\n",
      "\u001b[0;32m~/anaconda3/envs/learn-env/lib/python3.8/site-packages/tensorflow/python/eager/def_function.py\u001b[0m in \u001b[0;36m__call__\u001b[0;34m(self, *args, **kwds)\u001b[0m\n\u001b[1;32m    778\u001b[0m       \u001b[0;32melse\u001b[0m\u001b[0;34m:\u001b[0m\u001b[0;34m\u001b[0m\u001b[0;34m\u001b[0m\u001b[0m\n\u001b[1;32m    779\u001b[0m         \u001b[0mcompiler\u001b[0m \u001b[0;34m=\u001b[0m \u001b[0;34m\"nonXla\"\u001b[0m\u001b[0;34m\u001b[0m\u001b[0;34m\u001b[0m\u001b[0m\n\u001b[0;32m--> 780\u001b[0;31m         \u001b[0mresult\u001b[0m \u001b[0;34m=\u001b[0m \u001b[0mself\u001b[0m\u001b[0;34m.\u001b[0m\u001b[0m_call\u001b[0m\u001b[0;34m(\u001b[0m\u001b[0;34m*\u001b[0m\u001b[0margs\u001b[0m\u001b[0;34m,\u001b[0m \u001b[0;34m**\u001b[0m\u001b[0mkwds\u001b[0m\u001b[0;34m)\u001b[0m\u001b[0;34m\u001b[0m\u001b[0;34m\u001b[0m\u001b[0m\n\u001b[0m\u001b[1;32m    781\u001b[0m \u001b[0;34m\u001b[0m\u001b[0m\n\u001b[1;32m    782\u001b[0m       \u001b[0mnew_tracing_count\u001b[0m \u001b[0;34m=\u001b[0m \u001b[0mself\u001b[0m\u001b[0;34m.\u001b[0m\u001b[0m_get_tracing_count\u001b[0m\u001b[0;34m(\u001b[0m\u001b[0;34m)\u001b[0m\u001b[0;34m\u001b[0m\u001b[0;34m\u001b[0m\u001b[0m\n",
      "\u001b[0;32m~/anaconda3/envs/learn-env/lib/python3.8/site-packages/tensorflow/python/eager/def_function.py\u001b[0m in \u001b[0;36m_call\u001b[0;34m(self, *args, **kwds)\u001b[0m\n\u001b[1;32m    805\u001b[0m       \u001b[0;31m# In this case we have created variables on the first call, so we run the\u001b[0m\u001b[0;34m\u001b[0m\u001b[0;34m\u001b[0m\u001b[0;34m\u001b[0m\u001b[0m\n\u001b[1;32m    806\u001b[0m       \u001b[0;31m# defunned version which is guaranteed to never create variables.\u001b[0m\u001b[0;34m\u001b[0m\u001b[0;34m\u001b[0m\u001b[0;34m\u001b[0m\u001b[0m\n\u001b[0;32m--> 807\u001b[0;31m       \u001b[0;32mreturn\u001b[0m \u001b[0mself\u001b[0m\u001b[0;34m.\u001b[0m\u001b[0m_stateless_fn\u001b[0m\u001b[0;34m(\u001b[0m\u001b[0;34m*\u001b[0m\u001b[0margs\u001b[0m\u001b[0;34m,\u001b[0m \u001b[0;34m**\u001b[0m\u001b[0mkwds\u001b[0m\u001b[0;34m)\u001b[0m  \u001b[0;31m# pylint: disable=not-callable\u001b[0m\u001b[0;34m\u001b[0m\u001b[0;34m\u001b[0m\u001b[0m\n\u001b[0m\u001b[1;32m    808\u001b[0m     \u001b[0;32melif\u001b[0m \u001b[0mself\u001b[0m\u001b[0;34m.\u001b[0m\u001b[0m_stateful_fn\u001b[0m \u001b[0;32mis\u001b[0m \u001b[0;32mnot\u001b[0m \u001b[0;32mNone\u001b[0m\u001b[0;34m:\u001b[0m\u001b[0;34m\u001b[0m\u001b[0;34m\u001b[0m\u001b[0m\n\u001b[1;32m    809\u001b[0m       \u001b[0;31m# Release the lock early so that multiple threads can perform the call\u001b[0m\u001b[0;34m\u001b[0m\u001b[0;34m\u001b[0m\u001b[0;34m\u001b[0m\u001b[0m\n",
      "\u001b[0;32m~/anaconda3/envs/learn-env/lib/python3.8/site-packages/tensorflow/python/eager/function.py\u001b[0m in \u001b[0;36m__call__\u001b[0;34m(self, *args, **kwargs)\u001b[0m\n\u001b[1;32m   2827\u001b[0m     \u001b[0;32mwith\u001b[0m \u001b[0mself\u001b[0m\u001b[0;34m.\u001b[0m\u001b[0m_lock\u001b[0m\u001b[0;34m:\u001b[0m\u001b[0;34m\u001b[0m\u001b[0;34m\u001b[0m\u001b[0m\n\u001b[1;32m   2828\u001b[0m       \u001b[0mgraph_function\u001b[0m\u001b[0;34m,\u001b[0m \u001b[0margs\u001b[0m\u001b[0;34m,\u001b[0m \u001b[0mkwargs\u001b[0m \u001b[0;34m=\u001b[0m \u001b[0mself\u001b[0m\u001b[0;34m.\u001b[0m\u001b[0m_maybe_define_function\u001b[0m\u001b[0;34m(\u001b[0m\u001b[0margs\u001b[0m\u001b[0;34m,\u001b[0m \u001b[0mkwargs\u001b[0m\u001b[0;34m)\u001b[0m\u001b[0;34m\u001b[0m\u001b[0;34m\u001b[0m\u001b[0m\n\u001b[0;32m-> 2829\u001b[0;31m     \u001b[0;32mreturn\u001b[0m \u001b[0mgraph_function\u001b[0m\u001b[0;34m.\u001b[0m\u001b[0m_filtered_call\u001b[0m\u001b[0;34m(\u001b[0m\u001b[0margs\u001b[0m\u001b[0;34m,\u001b[0m \u001b[0mkwargs\u001b[0m\u001b[0;34m)\u001b[0m  \u001b[0;31m# pylint: disable=protected-access\u001b[0m\u001b[0;34m\u001b[0m\u001b[0;34m\u001b[0m\u001b[0m\n\u001b[0m\u001b[1;32m   2830\u001b[0m \u001b[0;34m\u001b[0m\u001b[0m\n\u001b[1;32m   2831\u001b[0m   \u001b[0;34m@\u001b[0m\u001b[0mproperty\u001b[0m\u001b[0;34m\u001b[0m\u001b[0;34m\u001b[0m\u001b[0m\n",
      "\u001b[0;32m~/anaconda3/envs/learn-env/lib/python3.8/site-packages/tensorflow/python/eager/function.py\u001b[0m in \u001b[0;36m_filtered_call\u001b[0;34m(self, args, kwargs, cancellation_manager)\u001b[0m\n\u001b[1;32m   1841\u001b[0m       \u001b[0;31m`\u001b[0m\u001b[0margs\u001b[0m\u001b[0;31m`\u001b[0m \u001b[0;32mand\u001b[0m\u001b[0;31m \u001b[0m\u001b[0;31m`\u001b[0m\u001b[0mkwargs\u001b[0m\u001b[0;31m`\u001b[0m\u001b[0;34m.\u001b[0m\u001b[0;34m\u001b[0m\u001b[0;34m\u001b[0m\u001b[0m\n\u001b[1;32m   1842\u001b[0m     \"\"\"\n\u001b[0;32m-> 1843\u001b[0;31m     return self._call_flat(\n\u001b[0m\u001b[1;32m   1844\u001b[0m         [t for t in nest.flatten((args, kwargs), expand_composites=True)\n\u001b[1;32m   1845\u001b[0m          if isinstance(t, (ops.Tensor,\n",
      "\u001b[0;32m~/anaconda3/envs/learn-env/lib/python3.8/site-packages/tensorflow/python/eager/function.py\u001b[0m in \u001b[0;36m_call_flat\u001b[0;34m(self, args, captured_inputs, cancellation_manager)\u001b[0m\n\u001b[1;32m   1921\u001b[0m         and executing_eagerly):\n\u001b[1;32m   1922\u001b[0m       \u001b[0;31m# No tape is watching; skip to running the function.\u001b[0m\u001b[0;34m\u001b[0m\u001b[0;34m\u001b[0m\u001b[0;34m\u001b[0m\u001b[0m\n\u001b[0;32m-> 1923\u001b[0;31m       return self._build_call_outputs(self._inference_function.call(\n\u001b[0m\u001b[1;32m   1924\u001b[0m           ctx, args, cancellation_manager=cancellation_manager))\n\u001b[1;32m   1925\u001b[0m     forward_backward = self._select_forward_and_backward_functions(\n",
      "\u001b[0;32m~/anaconda3/envs/learn-env/lib/python3.8/site-packages/tensorflow/python/eager/function.py\u001b[0m in \u001b[0;36mcall\u001b[0;34m(self, ctx, args, cancellation_manager)\u001b[0m\n\u001b[1;32m    543\u001b[0m       \u001b[0;32mwith\u001b[0m \u001b[0m_InterpolateFunctionError\u001b[0m\u001b[0;34m(\u001b[0m\u001b[0mself\u001b[0m\u001b[0;34m)\u001b[0m\u001b[0;34m:\u001b[0m\u001b[0;34m\u001b[0m\u001b[0;34m\u001b[0m\u001b[0m\n\u001b[1;32m    544\u001b[0m         \u001b[0;32mif\u001b[0m \u001b[0mcancellation_manager\u001b[0m \u001b[0;32mis\u001b[0m \u001b[0;32mNone\u001b[0m\u001b[0;34m:\u001b[0m\u001b[0;34m\u001b[0m\u001b[0;34m\u001b[0m\u001b[0m\n\u001b[0;32m--> 545\u001b[0;31m           outputs = execute.execute(\n\u001b[0m\u001b[1;32m    546\u001b[0m               \u001b[0mstr\u001b[0m\u001b[0;34m(\u001b[0m\u001b[0mself\u001b[0m\u001b[0;34m.\u001b[0m\u001b[0msignature\u001b[0m\u001b[0;34m.\u001b[0m\u001b[0mname\u001b[0m\u001b[0;34m)\u001b[0m\u001b[0;34m,\u001b[0m\u001b[0;34m\u001b[0m\u001b[0;34m\u001b[0m\u001b[0m\n\u001b[1;32m    547\u001b[0m               \u001b[0mnum_outputs\u001b[0m\u001b[0;34m=\u001b[0m\u001b[0mself\u001b[0m\u001b[0;34m.\u001b[0m\u001b[0m_num_outputs\u001b[0m\u001b[0;34m,\u001b[0m\u001b[0;34m\u001b[0m\u001b[0;34m\u001b[0m\u001b[0m\n",
      "\u001b[0;32m~/anaconda3/envs/learn-env/lib/python3.8/site-packages/tensorflow/python/eager/execute.py\u001b[0m in \u001b[0;36mquick_execute\u001b[0;34m(op_name, num_outputs, inputs, attrs, ctx, name)\u001b[0m\n\u001b[1;32m     57\u001b[0m   \u001b[0;32mtry\u001b[0m\u001b[0;34m:\u001b[0m\u001b[0;34m\u001b[0m\u001b[0;34m\u001b[0m\u001b[0m\n\u001b[1;32m     58\u001b[0m     \u001b[0mctx\u001b[0m\u001b[0;34m.\u001b[0m\u001b[0mensure_initialized\u001b[0m\u001b[0;34m(\u001b[0m\u001b[0;34m)\u001b[0m\u001b[0;34m\u001b[0m\u001b[0;34m\u001b[0m\u001b[0m\n\u001b[0;32m---> 59\u001b[0;31m     tensors = pywrap_tfe.TFE_Py_Execute(ctx._handle, device_name, op_name,\n\u001b[0m\u001b[1;32m     60\u001b[0m                                         inputs, attrs, num_outputs)\n\u001b[1;32m     61\u001b[0m   \u001b[0;32mexcept\u001b[0m \u001b[0mcore\u001b[0m\u001b[0;34m.\u001b[0m\u001b[0m_NotOkStatusException\u001b[0m \u001b[0;32mas\u001b[0m \u001b[0me\u001b[0m\u001b[0;34m:\u001b[0m\u001b[0;34m\u001b[0m\u001b[0;34m\u001b[0m\u001b[0m\n",
      "\u001b[0;31mKeyboardInterrupt\u001b[0m: "
     ]
    }
   ],
   "source": [
    "#initial model using half length and width of original image size\n",
    "model = models.Sequential()\n",
    "\n",
    "#input layer\n",
    "model.add(layers.Conv2D(filters=32,\n",
    "                        kernel_size=(20, 20),\n",
    "                        activation='relu',\n",
    "                        input_shape=(534, 381, 1)))\n",
    "model.add(layers.MaxPooling2D(pool_size=(2, 2)))\n",
    "\n",
    "#hidden layers\n",
    "model.add(layers.Conv2D(381, (2, 2), activation='relu'))\n",
    "model.add(layers.MaxPooling2D((2, 2)))\n",
    "model.add(layers.Conv2D(128, (2, 2), activation='relu'))\n",
    "model.add(layers.Flatten())\n",
    "model.add(layers.Dense(128, activation='relu'))\n",
    "\n",
    "#output layer\n",
    "model.add(layers.Dense(3, activation='softmax'))\n",
    "\n",
    "#compile and compute\n",
    "model.compile(optimizer='adam',\n",
    "              loss='categorical_crossentropy',\n",
    "              metrics=['accuracy', 'AUC'])\n",
    "#due to running this overnight, I am creating a save file for this model\n",
    "model_checkpoint_callback = ModelCheckpoint(filepath=\"./Checkpoints\",\n",
    "                                           save_weights_only=True,\n",
    "                                           monitor='val_accuracy',\n",
    "                                           mode='max',\n",
    "                                           save_best_only=True)\n",
    "\n",
    "model.fit(train_gen_0, epochs=20, validation_data=val_gen_0)"
   ]
  },
  {
   "cell_type": "code",
   "execution_count": null,
   "metadata": {},
   "outputs": [],
   "source": []
  }
 ],
 "metadata": {
  "kernelspec": {
   "display_name": "Python (learn-env)",
   "language": "python",
   "name": "learn-env"
  },
  "language_info": {
   "codemirror_mode": {
    "name": "ipython",
    "version": 3
   },
   "file_extension": ".py",
   "mimetype": "text/x-python",
   "name": "python",
   "nbconvert_exporter": "python",
   "pygments_lexer": "ipython3",
   "version": "3.8.5"
  }
 },
 "nbformat": 4,
 "nbformat_minor": 4
}
